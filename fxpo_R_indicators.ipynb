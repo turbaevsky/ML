{
 "cells": [
  {
   "cell_type": "markdown",
   "metadata": {},
   "source": [
    "## [Part 3](https://habrahabr.ru/post/236769/) (aslo see [how to markdown](http://assemble.io/docs/Cheatsheet-Markdown.html))"
   ]
  },
  {
   "cell_type": "code",
   "execution_count": 24,
   "metadata": {},
   "outputs": [],
   "source": [
    "#install.packages(\"lubridate\")\n",
    "library(\"lubridate\")\n",
    "#Упрощает работу с датами\n",
    "#install.packages(\"e1071\")\n",
    "library(\"e1071\")\n",
    "#Дает доступ к алгоритму наивного байесовского классификатора\n",
    "#install.packages(\"quantmod\")\n",
    "library(\"quantmod\")\n",
    "#Позволяет импортировать необходимые данные и рассчитывать технические индикаторы\n",
    "#install.packages(\"rpart\") \n",
    "library(\"rpart\")\n",
    "#Даёт доступ к деревам решений, которые мы будем использовать.\n",
    "#install.packages(\"rpart.plot\") \n",
    "library(\"rpart.plot\")\n",
    "#Позволяет легко создать симпатичные диаграммы деревьев\n",
    "#install.packages('FSelector') # the library for the hill climbing search\n",
    "library(FSelector)\n",
    "#install.packages('ggplot2') # the library for our plots\n",
    "library(ggplot2)"
   ]
  },
  {
   "cell_type": "markdown",
   "metadata": {},
   "source": [
    "Затем, давайте получим данные и рассчитаем индикаторы."
   ]
  },
  {
   "cell_type": "markdown",
   "metadata": {},
   "source": [
    "|Input\t|Техническое имя\t|Индикатор технического анализа|\n",
    "|--|--|--|\n",
    "|I01\t|EMA5Cross\t|Пересечение EMA5 и цены открытия\n",
    "|I02\t|EMA17Cross\t|Пересечение EMA17 и цены открытия\n",
    "|I03\t|EMA5_17Cross\t|Пересечение EMA17 и EMA5\n",
    "|I04\t|VolumeROC1\t|Rate of Change / Momentum\n",
    "|I05\t|CCI12\t|Commodity Channel Index 12\n",
    "|I06\t|MFI14\t|Money Flow Index 14\n",
    "|I07\t|MOM\t|Momentum 3 / Rate of Change\n",
    "|I08\t|Lag1\t|Движение цены на текущем баре (1)\n",
    "|I09\t|Lag2\t|Движение цены на текущем баре (2)\n",
    "|I10\t|Lag3\t|Движение цены на текущем баре (3)\n",
    "|I11\t|Lag4\t|Движение цены на текущем баре (4)\n",
    "|I12\t|Lag5\t|Движение цены на текущем баре (5)\n",
    "|I13\t|fastK\t|Stochastic Fast %K\n",
    "|I14\t|fastD\t|Stochastic Fast %D\n",
    "|I15\t|slowD\t|Stochastic Slow %D\n",
    "|I16\t|stochWPR\t|William's %R\n",
    "|I17\t|RSI14\t|Relative Strength Index (open) 14\n",
    "|I18\t|williamsAD\t|Williams Accumulation / Distribution\n",
    "|I19\t|WPR\t|William's %R 14\n",
    "|I20\t|AO\t|(Awesome Oscillator, AO) SMA5 — SMA34\n",
    "|I21\t|AC\t|AO сглаженный 5-периодной средней AO — SMA(AO, 5)\n",
    "|I22\t|MACD\t|EMA12 — EMA26\n",
    "|I23\t|MACD_SMA9\t|MACD сглаженный 9-периодной скользящей MACD- SMA(MACD, 9)\n",
    "|I24\t|DIp\t|The positive Direction Index\n",
    "|I25\t|DIn\t|The negative Direction Index.\n",
    "|I26\t|DX\t|The Direction Index\n",
    "|I27\t|ADX\t|The Average Direction Index (trend strength)\n",
    "|I28\t|ar\t|aroon(HL, n) — 1 out (oscillator)\n",
    "|I29\t|chv16\t|Chaikin Volatility — chaikinVolatility (HLC,n) — 1 out\n",
    "|I30\t|cmo16\t|Chande Momentum Oscillator — CMO(Med, n) — 1 out\n",
    "|I31\t|macd12_26\t|MACD Oscillator 12, 26, 9\n",
    "|I32\t|osma\t|Moving Average of Oscillator\n",
    "|I33\t|rsi16\t|Relative Strength Index med 16\n",
    "|I34\t|fastK14_3_3\t|Stochastic Oscillator 14 3 3 fastK\n",
    "|I35\t|fastD14_3_3\t|Stochastic Oscillator 14 3 3 fastD\n",
    "|I36\t|slowD14_3_3\t|Stochastic Oscillator 14 3 3 slowD\n",
    "|I37\t|smi13_2SMI\t|Stochastic Momentum Index SMI 13 2\n",
    "|I38\t|smi13_2signal\t|Stochastic Momentum Index signal 13 2\n",
    "|I39\t|vol16\t|Volatility 16\n",
    "|I40\t|SMA24Cross\t|Логарифм отношения цены открытия и SMA24\n",
    "|I41\t|SMA60Cross\t|Логарифм отношения цены открытия и SMA60\n",
    "|I42\t|SMA24_60Cross\t|Логарифм отношения SMA24 и SMA60\n",
    "|I43\t|SMA24Trand\t|Логарифм отношения SMA24 по сравнению с предыдущим значением\n",
    "|I44\t|SMA60Trand\t|Логарифм отношения SMA24 по сравнению с предыдущим значением\n",
    "|I45\t|MOM24\t|Momentum 24 / Rate of Change\n",
    "|I46\t|MOM60\t|Momentum 60 / Rate of Change\n",
    "|PCA\t|PC1-PC16\t|Сжатие признаков I01-I46 методом главных компонент в 16 значений"
   ]
  },
  {
   "cell_type": "markdown",
   "metadata": {},
   "source": [
    "see [quantmod](https://cran.r-project.org/web/packages/quantmod/quantmod.pdf) and [TTR](https://cran.r-project.org/web/packages/TTR/TTR.pdf) for details; it will also useful to read [forecast](https://cran.r-project.org/web/packages/forecast/forecast.pdf) docs"
   ]
  },
  {
   "cell_type": "code",
   "execution_count": 25,
   "metadata": {},
   "outputs": [
    {
     "data": {
      "text/html": [
       "'FXPO.L'"
      ],
      "text/latex": [
       "'FXPO.L'"
      ],
      "text/markdown": [
       "'FXPO.L'"
      ],
      "text/plain": [
       "[1] \"FXPO.L\""
      ]
     },
     "metadata": {},
     "output_type": "display_data"
    }
   ],
   "source": [
    "startDate = as.Date(\"2007-01-01\")\n",
    "#Начало рассматриваемого промежутка\n",
    "\n",
    "endDate = as.Date(\"2017-12-31\") \n",
    "#Конец промежутка\n",
    "\n",
    "getSymbols(\"FXPO.L\", src = \"google\", from = startDate, to = endDate) \n",
    "#Получаем данные стоимости акций Bank of America\n",
    "\n",
    "FXPO.L <- na.omit(FXPO.L)"
   ]
  },
  {
   "cell_type": "code",
   "execution_count": 26,
   "metadata": {
    "collapsed": true
   },
   "outputs": [],
   "source": [
    "len <- length(FXPO.L[,1])"
   ]
  },
  {
   "cell_type": "markdown",
   "metadata": {},
   "source": [
    "## Beginning of [Part 2](https://habrahabr.ru/post/234303/)"
   ]
  },
  {
   "cell_type": "markdown",
   "metadata": {},
   "source": [
    "Теперь, когда у нас есть все необходимые данные, давайте получим наш индикатор «день недели»:"
   ]
  },
  {
   "cell_type": "code",
   "execution_count": 27,
   "metadata": {
    "collapsed": true
   },
   "outputs": [],
   "source": [
    "DayofWeek<-wday(FXPO.L, label=TRUE)\n",
    "#Находим день недели"
   ]
  },
  {
   "cell_type": "markdown",
   "metadata": {},
   "source": [
    "То, что мы собираемся спрогнозировать, т.е. движение цены вверх или вниз, и создание финального набора данных:"
   ]
  },
  {
   "cell_type": "code",
   "execution_count": 28,
   "metadata": {
    "collapsed": true
   },
   "outputs": [],
   "source": [
    "PriceChange<- Cl(FXPO.L) - Op(FXPO.L)\n",
    "#Находим разницу между ценой закрытия и ценой открытия.\n",
    "\n",
    "Class<-ifelse(PriceChange>0, \"UP\",\"DOWN\")\n",
    "#Конвертируем в двоичную классификацию. (В наших данных не встречаются дни, когда цена открытия была равна цене закрытия, т. е. изменение было равно нулю, поэтому для упрощения мы не рассматриваем этот случай)\n",
    "\n",
    "DataSet<-data.frame(DayofWeek,Class)\n",
    "#Создаем наш набор данных"
   ]
  },
  {
   "cell_type": "markdown",
   "metadata": {},
   "source": [
    "Теперь мы готовы применить наивный байесовский классификатор:"
   ]
  },
  {
   "cell_type": "code",
   "execution_count": 29,
   "metadata": {
    "collapsed": true
   },
   "outputs": [],
   "source": [
    "MyModel<-naiveBayes(DataSet[,1],DataSet[,2])\n",
    "#Входное значение, или независимая переменная (DataSet[,1]), и то, что мы собираемся предсказывать, зависимая переменная (DataSet[,2])."
   ]
  },
  {
   "cell_type": "markdown",
   "metadata": {},
   "source": [
    "Улучшаем модель\n",
    "\n",
    "Очевидно вам захочется использовать более сложную стратегию, нежели просто ориентирование на день недели. Давайте добавим пересечение со скользящей средней в нашу модель (вы можете получить больше информации о добавлении различных индикаторов к вашей модели здесь)\n",
    "Я предпочитаю использовать экспоненциальные скользящие средние, поэтому давайте рассмотрим 5-ти дневные и 10-дневные экспоненциальные скользящие средние (EMA).\n",
    "Для начала нам необходимо рассчитать EMA:"
   ]
  },
  {
   "cell_type": "code",
   "execution_count": 30,
   "metadata": {
    "collapsed": true
   },
   "outputs": [],
   "source": [
    "EMA5<-EMA(Op(FXPO.L),n = 5)\n",
    "#Мы рассчитываем 5-периодную EMA по цене открытия\n",
    "\n",
    "EMA10<-EMA(Op(FXPO.L),n = 10)\n",
    "#Затем 10-ти периодную EMA, так же по цене открытия"
   ]
  },
  {
   "cell_type": "markdown",
   "metadata": {},
   "source": [
    "Затем рассчитываем пересечение:"
   ]
  },
  {
   "cell_type": "code",
   "execution_count": 31,
   "metadata": {
    "collapsed": true
   },
   "outputs": [],
   "source": [
    "EMACross <- EMA5 - EMA10 \n",
    "#Положительные значения будут означать что EMA5 расположена на графике выше EMA10"
   ]
  },
  {
   "cell_type": "markdown",
   "metadata": {},
   "source": [
    "Теперь округляем значения до 2-х знаков после запятой. Это важно, поскольку если попадется значение, которое наивный классификатор байеса не видел во время обучения, он автоматически рассчитает вероятность в 0%. Например, если мы смотрим на пересечение EMA с точностью до 6-ти знаков, и была найдена высокая вероятность движения цены вниз, когда разница была \\$2.349181, а затем была представлена новая точка данных, которая имела разницу \\$2.349182, будет рассчитана 0% вероятность повышения или понижения цены. Окрулив до 2-х знаков после запятой, мы снижаем риск столкнуться с неизвестным для модели значением (при условии, что для обучения использовался достаточно большой набор данных, в котором скорее всего встретятся все значения индикатора). Это важное ограничение, о котором нужно помнить, при построении собственных моделей."
   ]
  },
  {
   "cell_type": "code",
   "execution_count": 32,
   "metadata": {
    "collapsed": true
   },
   "outputs": [],
   "source": [
    "EMACross<-round(EMACross,2)"
   ]
  },
  {
   "cell_type": "markdown",
   "metadata": {},
   "source": [
    "Давайте создадим новый dataset и разделим данные на тренировочный и тестовый набор. Таким образом, мы сможем понять, насколько хорошо работает наша модель на новых данных."
   ]
  },
  {
   "cell_type": "code",
   "execution_count": 33,
   "metadata": {
    "collapsed": true
   },
   "outputs": [],
   "source": [
    "DataSet2<-data.frame(DayofWeek,EMACross, Class)\n",
    "DataSet2<-DataSet2[-c(1:10),]\n",
    "#Нам нужно удалить значения, в которых 10-периодная скользящая средняя все еще не рассчитана\n",
    "TrainingSet<-DataSet2[1:328,]\n",
    "#Мы используем 2/3 данных для обучения модели\n",
    "TestSet<-DataSet2[329:492,] \n",
    "#И 1/3 для тестирования модели"
   ]
  },
  {
   "cell_type": "markdown",
   "metadata": {},
   "source": [
    "Теперь построим модель:"
   ]
  },
  {
   "cell_type": "code",
   "execution_count": 34,
   "metadata": {
    "collapsed": true
   },
   "outputs": [],
   "source": [
    "EMACrossModel<-naiveBayes(TrainingSet[,1:2],TrainingSet[,3])"
   ]
  },
  {
   "cell_type": "markdown",
   "metadata": {},
   "source": [
    "Условная вероятность пересечения скользящих средних – число, которое показывает среднее значение для каждого случая ([,1]) и для стандартного отклонения ([,2]). Мы можем видеть, что в среднем разница между 5-дневной EMA и 10-ти дневной EMА для длинных и коротких торгов была \\$0.54 и -\\$0.24 соответственно.\n",
    "Теперь протестируем на новых данных:"
   ]
  },
  {
   "cell_type": "code",
   "execution_count": 35,
   "metadata": {},
   "outputs": [],
   "source": [
    "acc<-table(predict(EMACrossModel,TestSet),TestSet[,3],dnn=list('predicted','actual'))"
   ]
  },
  {
   "cell_type": "code",
   "execution_count": 36,
   "metadata": {},
   "outputs": [
    {
     "data": {
      "text/html": [
       "0.530487804878049"
      ],
      "text/latex": [
       "0.530487804878049"
      ],
      "text/markdown": [
       "0.530487804878049"
      ],
      "text/plain": [
       "[1] 0.5304878"
      ]
     },
     "metadata": {},
     "output_type": "display_data"
    }
   ],
   "source": [
    "(acc[1,1]+acc[2,2])/(acc[1,1]+acc[1,2]+acc[2,1]+acc[2,2])"
   ]
  },
  {
   "cell_type": "markdown",
   "metadata": {},
   "source": [
    "## End of Part 2"
   ]
  },
  {
   "cell_type": "markdown",
   "metadata": {},
   "source": [
    "## Cont. of Part 3"
   ]
  },
  {
   "cell_type": "code",
   "execution_count": 37,
   "metadata": {
    "collapsed": true
   },
   "outputs": [],
   "source": [
    "RSI3<-RSI(Op(FXPO.L), n= 3) \n",
    "#Рассчитываем 3-х дневный индекс относительной силы (RSI) по цене открытия\n",
    "\n",
    "EMA5<-EMA(Op(FXPO.L),n=5) \n",
    "#Рассчитываем 5-дневную экспоненциальную скользящую среднюю (EMA)\n",
    "EMAcross<- Op(FXPO.L)-EMA5 \n",
    "#Давайте посмотрим на разницу между ценой открытия и нашей 5-ти дневной EMA\n",
    "\n",
    "SMAcross <- SMA(Op(FXPO.L),10)-EMA(Op(FXPO.L),30)\n",
    "\n",
    "MACD<-MACD(Op(FXPO.L),fast = 12, slow = 26, signal = 9) \n",
    "#Рассчитываем MACD(Схождение/расхождение скользящих средних) со стандартными параметрами\n",
    "\n",
    "MACDcross<-MACD[,1]-MACD[,2] \n",
    "#Используем только сигнальную линию в качестве индикатора \n",
    "\n",
    "SMI<-SMI(Op(FXPO.L),n=13,slow=25,fast=2,signal=9) \n",
    "\n",
    "#Стохастический осциллятор со стандартными параметрами\n",
    "SMI<-SMI[,1] \n",
    "#Используем только осциллятор в качестве индикатора\n",
    "SSTO <- stoch(HLC(FXPO.L))\n",
    "Scross <- round(SSTO$fastD-SSTO$slowD,3)"
   ]
  },
  {
   "cell_type": "markdown",
   "metadata": {},
   "source": [
    "Затем рассчитываем переменную, которую мы предсказываем и формируем data sets."
   ]
  },
  {
   "cell_type": "code",
   "execution_count": 38,
   "metadata": {
    "collapsed": true
   },
   "outputs": [],
   "source": [
    "PriceChange<- Cl(FXPO.L) - Op(FXPO.L) \n",
    "#Рассчитываем разницу между ценой закрытия и открытия\n",
    "Class<-ifelse(PriceChange>0,\"UP\",\"DOWN\") \n",
    "#Переменная которую мы хотим предсказать.\n",
    "\n",
    "DataSet<-data.frame(RSI3,EMAcross,MACDcross,SMI,Class,SSTO,Scross,SMAcross) \n",
    "#Создаем наш data set\n",
    "colnames(DataSet)<-c(\"RSI3\",\"EMAcross\",\"MACDcross\",\"Stochastic\",\"Class\",'SSTO','Scross','SMAcross') \n",
    "#Задаем имена колонкам\n",
    "#DataSet<-DataSet[-c(1:33),] \n",
    "#Избавляемся от данных, на которых происходит первоначальное формирование индикаторов\n",
    "\n",
    "train <- len/3*2\n",
    "TrainingSet<-DataSet[1:train,] \n",
    "#Используем 2/3 наших данных для построения дерева\n",
    "TestSet<-DataSet[train:len,]\n",
    "#И оставляем 1/3 данных для тестирования нашей стратегии"
   ]
  },
  {
   "cell_type": "markdown",
   "metadata": {},
   "source": [
    "Теперь, когда у нас есть всё, что нужно, давайте построим уже это дерево!"
   ]
  },
  {
   "cell_type": "code",
   "execution_count": 39,
   "metadata": {
    "collapsed": true
   },
   "outputs": [],
   "source": [
    "DecisionTree<-rpart(Class~RSI3+EMAcross+MACDcross+Stochastic+SSTO+Scross+SMAcross,data=TrainingSet, cp=.001)\n",
    "#Указываем индикаторы, которые мы хотим использовать для предсказания и контролируем рост дерева, указывая минимальное значение параметра сложности (ср), необходимого для организации разделения."
   ]
  },
  {
   "cell_type": "markdown",
   "metadata": {},
   "source": [
    "Отлично! У нас есть наше первое дерево решений, посмотрим, что же мы построили."
   ]
  },
  {
   "cell_type": "code",
   "execution_count": 40,
   "metadata": {},
   "outputs": [
    {
     "data": {
      "image/png": "[encoded data removed]",
      "text/plain": [
       "plot without title"
      ]
     },
     "metadata": {},
     "output_type": "display_data"
    }
   ],
   "source": [
    "prp(DecisionTree,type=2,extra=8)\n",
    "#Отличный графический инструмент, с несколькими параметрами для красивого отображения. "
   ]
  },
  {
   "cell_type": "markdown",
   "metadata": {},
   "source": [
    "Маленькая заметка по интерпретации этого дерева: узлы представляют расщепление, где левая ветка отражает ответ «да», а правая ветка ответ «нет». Число в конечном листе – процентное число случаев, которые были корректно классифицированы этим узлом. \n",
    "Дерева решений так же могут быть использованы для выбора и оценки индикаторов. Индикаторы, которые ближе к корню (верх) дерева, дают больше разделений и содержат больше информации чем те, что внизу дерева. В нашем случае Стохастический Осциллятор даже не попал в дерево!\n",
    "\n",
    "Хоть у нас и появился набор правил, которым можно следовать, стоит все-таки убедиться, что мы не переобучили модель, поэтому давайте подрежем дерево. Самый простой способ сделать это – посмотреть на параметр сложности, который является «стоимостью», или снижением производительности. Для этого нужно добавить еще одно разделение и выбрать размер дерева, который минимизирует нашу ошибку перекрестной проверки."
   ]
  },
  {
   "cell_type": "code",
   "execution_count": 41,
   "metadata": {},
   "outputs": [
    {
     "name": "stdout",
     "output_type": "stream",
     "text": [
      "\n",
      "Classification tree:\n",
      "rpart(formula = Class ~ RSI3 + EMAcross + MACDcross + Stochastic + \n",
      "    SSTO + Scross + SMAcross, data = TrainingSet, cp = 0.001)\n",
      "\n",
      "Variables actually used in tree construction:\n",
      "[1] EMAcross   MACDcross  RSI3       Scross     SMAcross   SSTO       Stochastic\n",
      "\n",
      "Root node error: 815/1759 = 0.46333\n",
      "\n",
      "n=1759 (3 observations deleted due to missingness)\n",
      "\n",
      "          CP nsplit rel error  xerror     xstd\n",
      "1  0.2638037      0   1.00000 1.00000 0.025661\n",
      "2  0.0392638      1   0.73620 0.73988 0.024426\n",
      "3  0.0361963      5   0.54969 0.64663 0.023573\n",
      "4  0.0184049      7   0.47730 0.57791 0.022787\n",
      "5  0.0159509      8   0.45890 0.55460 0.022486\n",
      "6  0.0110429      9   0.44294 0.55337 0.022470\n",
      "7  0.0073620     11   0.42086 0.52147 0.022028\n",
      "8  0.0061350     18   0.35828 0.48221 0.021435\n",
      "9  0.0049080     21   0.33988 0.48098 0.021416\n",
      "10 0.0042945     22   0.33497 0.47730 0.021357\n",
      "11 0.0036810     26   0.31779 0.46748 0.021198\n",
      "12 0.0030675     31   0.29816 0.47117 0.021258\n",
      "13 0.0020450     34   0.28712 0.47853 0.021377\n",
      "14 0.0018405     41   0.26748 0.47730 0.021357\n",
      "15 0.0012270     43   0.26380 0.47362 0.021298\n",
      "16 0.0010000     51   0.25399 0.47485 0.021318\n"
     ]
    },
    {
     "data": {
      "image/png": "[encoded data removed]",
      "text/plain": [
       "plot without title"
      ]
     },
     "metadata": {},
     "output_type": "display_data"
    }
   ],
   "source": [
    "printcp(DecisionTree)\n",
    "#Вывод минимального cp(параметра сложности) для каждого дерева, каждого размера\n",
    "plotcp(DecisionTree,upper=\"splits\")\n",
    "#Чертеж среднего геометрического значения для деревьев каждого размера"
   ]
  },
  {
   "cell_type": "code",
   "execution_count": 42,
   "metadata": {},
   "outputs": [
    {
     "name": "stdout",
     "output_type": "stream",
     "text": [
      "\n",
      "Classification tree:\n",
      "rpart(formula = Class ~ RSI3 + EMAcross + MACDcross + Stochastic + \n",
      "    SSTO + Scross + SMAcross, data = TrainingSet, cp = 0.001)\n",
      "\n",
      "Variables actually used in tree construction:\n",
      "[1] EMAcross   MACDcross  RSI3       Scross     SMAcross   SSTO       Stochastic\n",
      "\n",
      "Root node error: 815/1759 = 0.46333\n",
      "\n",
      "n=1759 (3 observations deleted due to missingness)\n",
      "\n",
      "          CP nsplit rel error  xerror     xstd\n",
      "1  0.2638037      0   1.00000 1.00000 0.025661\n",
      "2  0.0392638      1   0.73620 0.73988 0.024426\n",
      "3  0.0361963      5   0.54969 0.64663 0.023573\n",
      "4  0.0184049      7   0.47730 0.57791 0.022787\n",
      "5  0.0159509      8   0.45890 0.55460 0.022486\n",
      "6  0.0110429      9   0.44294 0.55337 0.022470\n",
      "7  0.0073620     11   0.42086 0.52147 0.022028\n",
      "8  0.0061350     18   0.35828 0.48221 0.021435\n",
      "9  0.0049080     21   0.33988 0.48098 0.021416\n",
      "10 0.0042945     22   0.33497 0.47730 0.021357\n",
      "11 0.0036810     26   0.31779 0.46748 0.021198\n",
      "12 0.0030675     31   0.29816 0.47117 0.021258\n",
      "13 0.0020450     34   0.28712 0.47853 0.021377\n",
      "14 0.0018405     41   0.26748 0.47730 0.021357\n",
      "15 0.0012270     43   0.26380 0.47362 0.021298\n",
      "16 0.0010000     51   0.25399 0.47485 0.021318\n",
      "\n",
      "Classification tree:\n",
      "rpart(formula = Class ~ RSI3 + EMAcross + MACDcross + Stochastic + \n",
      "    SSTO + Scross + SMAcross, data = TrainingSet, cp = 0.001)\n",
      "\n",
      "Variables actually used in tree construction:\n",
      "[1] EMAcross   MACDcross  RSI3       Scross     SMAcross   SSTO       Stochastic\n",
      "\n",
      "Root node error: 815/1759 = 0.463\n",
      "\n",
      "n=1759 (3 observations deleted due to missingness)\n",
      "\n",
      "        CP nsplit rel error xerror   xstd\n",
      "1  0.26380      0     1.000  1.000 0.0257\n",
      "2  0.03926      1     0.736  0.740 0.0244\n",
      "3  0.03620      5     0.550  0.647 0.0236\n",
      "4  0.01840      7     0.477  0.578 0.0228\n",
      "5  0.01595      8     0.459  0.555 0.0225\n",
      "6  0.01104      9     0.443  0.553 0.0225\n",
      "7  0.00736     11     0.421  0.521 0.0220\n",
      "8  0.00613     18     0.358  0.482 0.0214\n",
      "9  0.00491     21     0.340  0.481 0.0214\n",
      "10 0.00429     22     0.335  0.477 0.0214\n",
      "11 0.00368     26     0.318  0.467 0.0212\n",
      "12 0.00307     31     0.298  0.471 0.0213\n",
      "13 0.00204     34     0.287  0.479 0.0214\n",
      "14 0.00184     41     0.267  0.477 0.0214\n",
      "15 0.00123     43     0.264  0.474 0.0213\n",
      "16 0.00100     51     0.254  0.475 0.0213\n",
      "\n",
      "Classification tree:\n",
      "rpart(formula = Class ~ RSI3 + EMAcross + MACDcross + Stochastic + \n",
      "    SSTO + Scross + SMAcross, data = TrainingSet, cp = 0.001)\n",
      "\n",
      "Variables actually used in tree construction:\n",
      "[1] EMAcross   MACDcross  RSI3       Scross     SMAcross   SSTO       Stochastic\n",
      "\n",
      "Root node error: 815/1759 = 0.463\n",
      "\n",
      "n=1759 (3 observations deleted due to missingness)\n",
      "\n",
      "        CP nsplit rel error xerror   xstd\n",
      "1  0.26380      0     1.000  1.000 0.0257\n",
      "2  0.03926      1     0.736  0.740 0.0244\n",
      "3  0.03620      5     0.550  0.647 0.0236\n",
      "4  0.01840      7     0.477  0.578 0.0228\n",
      "5  0.01595      8     0.459  0.555 0.0225\n",
      "6  0.01104      9     0.443  0.553 0.0225\n",
      "7  0.00736     11     0.421  0.521 0.0220\n",
      "8  0.00613     18     0.358  0.482 0.0214\n",
      "9  0.00491     21     0.340  0.481 0.0214\n",
      "10 0.00429     22     0.335  0.477 0.0214\n",
      "11 0.00368     26     0.318  0.467 0.0212\n",
      "12 0.00307     31     0.298  0.471 0.0213\n",
      "13 0.00204     34     0.287  0.479 0.0214\n",
      "14 0.00184     41     0.267  0.477 0.0214\n",
      "15 0.00123     43     0.264  0.474 0.0213\n",
      "16 0.00100     51     0.254  0.475 0.0213\n"
     ]
    }
   ],
   "source": [
    "minel <- printcp(DecisionTree)[match(min(printcp(DecisionTree,digits = 3)[,4]),printcp(DecisionTree,digits = 3)[,4]),1]"
   ]
  },
  {
   "cell_type": "markdown",
   "metadata": {},
   "source": [
    "Вы можете видеть, что наименьшая ошибка достигается для дерева из XX разделений. Благодаря режиму перекрестной проверки, который случайным образом выбирает данные для тестирования модели, ваш результат может отличаться от того, который отображен на скриншоте. Один из недостатков дерева решений в том, что они могут быть не стабильными, т.е. малые изменения данных могут привести к большим изменениям в дереве. Поэтому процесс «обрезки» дерева и другие способы предотвратить переобучение столь важны.\n",
    "\n",
    "Давайте обрежем это дерево и посмотрим, как будет выглядеть наша стратегия."
   ]
  },
  {
   "cell_type": "code",
   "execution_count": 43,
   "metadata": {},
   "outputs": [
    {
     "data": {
      "text/html": [
       "0.00368098159509202"
      ],
      "text/latex": [
       "0.00368098159509202"
      ],
      "text/markdown": [
       "0.00368098159509202"
      ],
      "text/plain": [
       "[1] 0.003680982"
      ]
     },
     "metadata": {},
     "output_type": "display_data"
    }
   ],
   "source": [
    "\n",
    "PrunedDecisionTree<-prune(DecisionTree,cp=minel)\n",
    "#Я использую параметр сложности (cp), у которого наименьшая ошибка перекрестной проверки (xerror)\n",
    "minel"
   ]
  },
  {
   "cell_type": "markdown",
   "metadata": {},
   "source": [
    "Теперь дерево выглядит так:"
   ]
  },
  {
   "cell_type": "code",
   "execution_count": 44,
   "metadata": {},
   "outputs": [
    {
     "data": {
      "image/png": "[encoded data removed]",
      "text/plain": [
       "plot without title"
      ]
     },
     "metadata": {},
     "output_type": "display_data"
    }
   ],
   "source": [
    "prp(PrunedDecisionTree, type=2, extra=8)"
   ]
  },
  {
   "cell_type": "markdown",
   "metadata": {},
   "source": [
    "Так гораздо лучше! Здесь видно, что линия MACD сигнала больше не используется. Мы начали с 4-х индикаторов, из которых только 3-х дневный RSI, разница между ценами, и 5-ти дневный EMA могут быть полезны в предсказании движения цены.\n",
    "\n",
    "Пришло время проверить модель на тестовых данных."
   ]
  },
  {
   "cell_type": "code",
   "execution_count": 45,
   "metadata": {
    "collapsed": true
   },
   "outputs": [],
   "source": [
    "acc <- table(predict(PrunedDecisionTree,TestSet,type=\"class\"),TestSet[,5],dnn=list('predicted','actual'))"
   ]
  },
  {
   "cell_type": "code",
   "execution_count": 46,
   "metadata": {},
   "outputs": [
    {
     "data": {
      "text/html": [
       "0.781179138321995"
      ],
      "text/latex": [
       "0.781179138321995"
      ],
      "text/markdown": [
       "0.781179138321995"
      ],
      "text/plain": [
       "[1] 0.7811791"
      ]
     },
     "metadata": {},
     "output_type": "display_data"
    }
   ],
   "source": [
    "(acc[1,1]+acc[2,2])/(acc[1,1]+acc[1,2]+acc[2,1]+acc[2,2])"
   ]
  },
  {
   "cell_type": "code",
   "execution_count": 47,
   "metadata": {},
   "outputs": [
    {
     "data": {
      "text/html": [
       "'FXPO.L'"
      ],
      "text/latex": [
       "'FXPO.L'"
      ],
      "text/markdown": [
       "'FXPO.L'"
      ],
      "text/plain": [
       "[1] \"FXPO.L\""
      ]
     },
     "metadata": {},
     "output_type": "display_data"
    },
    {
     "data": {
      "text/html": [
       "<dl class=dl-horizontal>\n",
       "\t<dt>2017-12-15</dt>\n",
       "\t\t<dd>UP</dd>\n",
       "\t<dt>2017-12-18</dt>\n",
       "\t\t<dd>UP</dd>\n",
       "\t<dt>2017-12-19</dt>\n",
       "\t\t<dd>UP</dd>\n",
       "\t<dt>2017-12-20</dt>\n",
       "\t\t<dd>UP</dd>\n",
       "\t<dt>2017-12-21</dt>\n",
       "\t\t<dd>UP</dd>\n",
       "\t<dt>2017-12-22</dt>\n",
       "\t\t<dd>UP</dd>\n",
       "</dl>\n"
      ],
      "text/latex": [
       "\\begin{description*}\n",
       "\\item[2017-12-15] UP\n",
       "\\item[2017-12-18] UP\n",
       "\\item[2017-12-19] UP\n",
       "\\item[2017-12-20] UP\n",
       "\\item[2017-12-21] UP\n",
       "\\item[2017-12-22] UP\n",
       "\\end{description*}\n"
      ],
      "text/markdown": [
       "2017-12-15\n",
       ":   UP2017-12-18\n",
       ":   UP2017-12-19\n",
       ":   UP2017-12-20\n",
       ":   UP2017-12-21\n",
       ":   UP2017-12-22\n",
       ":   UP\n",
       "\n"
      ],
      "text/plain": [
       "2017-12-15 2017-12-18 2017-12-19 2017-12-20 2017-12-21 2017-12-22 \n",
       "        UP         UP         UP         UP         UP         UP \n",
       "Levels: DOWN UP"
      ]
     },
     "metadata": {},
     "output_type": "display_data"
    }
   ],
   "source": [
    "getSymbols(\"FXPO.L\", src = \"google\")\n",
    "FXPO.L <- na.omit(FXPO.L)\n",
    "RSI3<-RSI(Op(FXPO.L), n= 3) \n",
    "EMA5<-EMA(Op(FXPO.L),n=5) \n",
    "EMAcross<- Op(FXPO.L)-EMA5 \n",
    "SMAcross <- SMA(Op(FXPO.L),10)-EMA(Op(FXPO.L),30)\n",
    "MACD<-MACD(Op(FXPO.L),fast = 12, slow = 26, signal = 9) \n",
    "MACDcross<-MACD[,1]-MACD[,2] \n",
    "SMI<-SMI(Op(FXPO.L),n=13,slow=25,fast=2,signal=9) \n",
    "SMI<-SMI[,1] \n",
    "SSTO <- stoch(HLC(FXPO.L))\n",
    "Scross <- round(SSTO$fastD-SSTO$slowD,3)\n",
    "PriceChange<- Cl(FXPO.L) - Op(FXPO.L) \n",
    "Class<-ifelse(PriceChange>0,\"UP\",\"DOWN\") \n",
    "DataSet<-data.frame(RSI3,EMAcross,MACDcross,SMI,Class,SSTO,Scross,SMAcross) \n",
    "colnames(DataSet)<-c(\"RSI3\",\"EMAcross\",\"MACDcross\",\"Stochastic\",\"Class\",'SSTO','Scross','SMAcross')\n",
    "tail(predict(PrunedDecisionTree,DataSet,type=\"class\"))"
   ]
  },
  {
   "cell_type": "markdown",
   "metadata": {},
   "source": [
    "В общем не плохо, XX% точность. Что более важно, у вас есть основа стратегии с четко определенными, математическими параметрами. Используя всего 25 команд, мы смогли определить, какие индикаторы полезны и какие специальные условия нам нужны для совершения сделки. Теперь вы можете использовать эти индикаторы для собственной торговли или улучшить дерево.\n",
    "\n",
    "В следующей статье мы рассмотрим еще один мощный алгоритм машинного обучения, метод опорных векторов, и разберемся, как можно использовать его результаты для еще более здравой стратегии."
   ]
  },
  {
   "cell_type": "markdown",
   "metadata": {},
   "source": [
    "## How to Trade the RSI: An analysis using a Support Vector Machine (base on [this](https://inovancetech.com/how-to-trade-rsi.html))"
   ]
  },
  {
   "cell_type": "markdown",
   "metadata": {},
   "source": [
    "Machine-learning algorithms can be used to find the best values to trade your indicators.\n",
    "\n",
    "The Relative Strength Index, or RSI, is one of the most common technical indicators. It is used to identify oversold and overbought conditions. Traditionally, traders look for RSI values over 70 to represent overbought market conditions and under 30 to represent oversold market conditions. However, is there any validity to these claims? Why 70 and why 30? Further, how do different trending markets affect the RSI signals you should be looking for?\n",
    "\n",
    "In this post, we’ll use a Support Vector Machine (SVM), a powerful machine-learning algorithm, to explore what values of an RSI you should actually be looking for while taking into account the overall trend in the market.\n",
    "\n",
    "First, we’ll give a brief overview of the SVM, then outline the problem, and finally build and test a strategy based off of the patterns discovered by the algorithm.\n",
    "\n",
    "### Support Vector Machines\n",
    "\n",
    "Support Vector Machines are one of the more popular and powerful “off-the-shelf” machine-learning algorithms based on their ability to find non-linear patterns. SVMs work by finding a line, known as a “decision boundary” or “hyperplane”, that best separates your data based on the class (in our case, “bullish” or “bearish” bars). The power of an SVM is being able to rearrange, or map, your data with a set of mathematical functions, known as “kernels”, into a multidimensional feature space where your data is linearly separable.\n",
    "\n",
    "The SVM then draws a line in the higher dimensional space that maximizes the distance between the two classes. When a new data point is presented to the SVM, it then calculates which side of the line the point falls and makes its prediction.\n",
    "\n",
    "Another advantage of the SVM is there are relatively few parameters that must be selected before you are able to use it. First, you must select the kernel, or mapping, function to use to translate your data into a higher dimensional space. A radial basis function is a popular choice and will work well in our case. Next, you need to choose the gamma parameter. The gamma determines how much effect a single training example can have on the decision boundary. Low values mean a single point will have a large effect on where the line is drawn and high values mean each point will only have a small effect. A good rule of thumb to select the gamma parameter to be one over number of inputs to your model (1/(number of inputs)). Finally, you need to choose the regularization parameter, C. C determines the trade off between misclassifying examples in your training set and the simplicity of the decision boundary. A low C creates a smoother decision boundary and decreases overfitting, while a high C will attempt to classify every data point in the training set correctly and may lead to overfitting. We want to decrease how much our model overfits so we will select a value of 1 but feel free to play around with it yourself.\n",
    "\n",
    "Now that we have a basic idea of how a Support Vector Machine works and how to select its parameters, let’s see if we can use it to figure out how to trade an RSI.\n",
    "\n",
    "### Trading an RSI\n",
    "\n",
    "The relative strength index, or RSI, compares the average size of the “up” moves to the average size of the “down” moves and normalizes it between 0 and 100. The conventional logic goes that once the asset has had more, significant upticks, it has become overbought, or overvalued, and is likely to decrease in price. Overbought is usually determined by an RSI value over 70, with opposite conditions representing oversold, or undervalued, at an RSI value of 30.\n",
    "\n",
    "However, these conditions don’t happen in a vacuum. There are also broader market trends at work. An RSI value over 70 in the middle of a strong uptrend might represent a continuation of the trend while a value of 70 during a downtrend could signify a great entry point. The problem is finding out exactly what conditions we should be looking for considering both factors.\n",
    "\n",
    "We could gather thousands of data points and try to find those relationships ourselves or we could use a Support Vector Machine, an algorithm designed to find non-linear patterns, to do the legwork for us.\n",
    "\n",
    "Let’s see what patterns we are able to find in a 3-period RSI and define a trend by comparing the open price to a 50-period simple moving average (SMA) using the AUD/USD 4 hour charts.\n",
    "\n",
    "### Building Your Model\n",
    "\n",
    "Let’s use R to build our model, analyze the patterns it was able to find and then test to see if those patterns hold up in an actual trading strategy.\n",
    "\n",
    "To create the data set and build the model (data can be downloaded from [here](https://www.dropbox.com/s/kk47ydcz36xik2i/AUDUSD.csv?dl=0), [e1071 package man](https://cran.r-project.org/web/packages/e1071/e1071.pdf) might be useful as well)"
   ]
  },
  {
   "cell_type": "code",
   "execution_count": 51,
   "metadata": {},
   "outputs": [
    {
     "ename": "ERROR",
     "evalue": "Error in if (any(co)) {: missing value where TRUE/FALSE needed\n",
     "output_type": "error",
     "traceback": [
      "Error in if (any(co)) {: missing value where TRUE/FALSE needed\nTraceback:\n",
      "1. svm(Class ~ RSI3 + Trend, data = Training, kernel = \"radial\", \n .     cost = 1, gamma = 1/2)",
      "2. svm.formula(Class ~ RSI3 + Trend, data = Training, kernel = \"radial\", \n .     cost = 1, gamma = 1/2)",
      "3. svm.default(x, y, scale = scale, ..., na.action = na.action)"
     ]
    }
   ],
   "source": [
    "#getSymbols('FXPO.L') # Added by me\n",
    "Data<-na.omit(FXPO.L)       # the same\n",
    "#Our 4-hour bars of the Australian Dollar/US Dollar currency pair dating back to 01/01/2010. You can download it here (dropbox) for your own use.\n",
    "RSI3<-RSI(Op(FXPO.L),n=3)\n",
    "#The 3-period relative strength index calculated off the open\n",
    "SMA50<-SMA(Op(FXPO.L),n=50)\n",
    "Trend<-Op(FXPO.L)-SMA50\n",
    "#Our measure of trend: the difference between the open price and the 50-period simple moving average\n",
    "Price<-Cl(FXPO.L)-Op(FXPO.L)\n",
    "Class<-ifelse(Price>0,\"UP\",\"DOWN\")\n",
    "#The variable we are looking to predict; the direction of the next bar\n",
    "DataSet<-data.frame(RSI3,Trend,Class)\n",
    "#DataSet<-DataSet[-c(1:49),]\n",
    "colnames(DataSet) <-  c('RSI3','Trend','Class')\n",
    "#Create the data set and removing the points where our indicators are still being calculated\n",
    "Training<-DataSet[1:0.6*len,]\n",
    "Test<-DataSet[0.6*len:0.8*len,]\n",
    "Val<-DataSet[0.8*len:len,]\n",
    "#Separate the data into 60% training set to build our model, 20% test set to test the patterns we found, and 20% validation set to run our strategy over new data\n",
    "SVM<-svm(Class~RSI3+Trend,data=Training, kernel=\"radial\",cost=1,gamma=1/2)\n",
    "#Build our support vector machine using a radial basis function as our kernel, the cost, or C, at 1, and the gamma function at ½, or 1 over the number of inputs we are using\n",
    "TrainingPredictions<-predict(SVM,Training,type=\"class\")\n",
    "#Run the algorithm once more over the training set to visualize the patterns it found\n",
    "TrainingData<-data.frame(Training,TrainingPredictions)\n",
    "#Create a data set with the predictions\n",
    "ggplot(TrainingData,aes(x=Trend,y=RSI3))+stat_density2d(geom=\"contour\",aes(color=TrainingPredictions))+labs(title=\"SVM RSI3 and Trend Predictions\",x=\"Open - SMA50\",y=\"RSI3\",color=\"Training Predictions\")\n",
    "#Now let’s see what patterns it was able to find"
   ]
  },
  {
   "cell_type": "markdown",
   "metadata": {},
   "source": [
    "Interesting! We can see three distinct areas where the algorithm went short and one range in the middle where it only went long. Let’s explore further.\n",
    "\n",
    "|Long\t|Short\n",
    "|--|--|\n",
    "|RSI below 25 and the Price is more than 20 pips below the SMA 50 (56% accurate, 36 trades)\t |RSI less than 25 and the Price is between 10 and 5 pips below the SMA 50 (54% accurate, 81 trades)\n",
    "|RSI3 is between 50 and 75 and the Price is between 5 and 10 pips above the SMA 50 (58% accurate, 104 trades )\t |RSI greater than 70 and the Price more than 5 pips below the SMA 50 (59% accurate, 37 trades)\n",
    "||RSI greater than 75 and price more than 15 pips above the SMA 50 (59% accurate, 34 trades)\n",
    "\n",
    "First the short area on the bottom left. Here the price has just crossed below the 50-period SMA and the RSI is below 25, suggesting a breakout of a downward trend.\n",
    "\n",
    "However, if the price moves beyond 20 pips below the 50-period SMA and the RSI remains under 25, the algorithm found a stronger signal for a reversion to the mean and predicted a long trade.\n",
    "\n",
    "Next, the short opportunity on the upper left of the plot represents the traditional view of the RSI. Here we are looking for the RSI to be over 70 while the price is more than 15 pips above the 50-period SMA to represent “overbought” conditions, suggesting we go short.\n",
    "\n",
    "The short area on the upper left is a little different. When the price had just crossed below the 50-period SMA and the RSI was over 70, it found a short opportunity. This is similar to the first case but instead of traditional “overbought” conditions, we are looking for a bearish breakout entry signal.\n",
    "\n",
    "Finally, there was an area where the RSI was between 50 and 75, while the price had crossed above the 50-period SMA where the algorithm found a strong buy signal.\n",
    "\n",
    "Now that we have found a basic set of rules that the SVM uncovered, let’s test to see how well they hold up over new data, our test set.\n",
    "\n"
   ]
  },
  {
   "cell_type": "code",
   "execution_count": null,
   "metadata": {
    "collapsed": true
   },
   "outputs": [],
   "source": [
    "ShortRange1<-which(Test$RSI3 < 25 & Test$Trend > -.010 & Test$Trend < -.005)\n",
    "ShortRange2<-which(Test$RSI3 > 70 & Test$Trend < -.005)\n",
    "ShortRange3<-which(Test$RSI3 > 75 & Test$Trend > .015)\n",
    "LongRange1<-which(Test$RSI3 < 25 & Test$Trend < -.02)\n",
    "LongRange2<-which(Test$RSI3 > 50 & Test$RSI3 < 75 & Test$Trend > .005 & Test$Trend < .01)"
   ]
  },
  {
   "cell_type": "markdown",
   "metadata": {},
   "source": [
    "Now let’s see how well these patterns hold up over out test set:"
   ]
  },
  {
   "cell_type": "code",
   "execution_count": null,
   "metadata": {
    "collapsed": true
   },
   "outputs": [],
   "source": [
    "ShortTrades<-Test[c(ShortRange1,ShortRange2,ShortRange3),]\n",
    "ShortCorrect<-((length(which(ShortTrades[,3]==\"DOWN\")))/nrow(ShortTrades))*100\n",
    "#Our short trades\n",
    "LongTrades<-Test[c(LongRange1,LongRange2), ]\n",
    "LongCorrect<-((length(which(LongTrades[,3]==\"UP\")))/nrow(LongTrades))*100\n",
    "#Our long trades"
   ]
  },
  {
   "cell_type": "markdown",
   "metadata": {},
   "source": [
    "Wow! 58% (85 correct out of 147 trades) for our short trades and 57% (80 correct out of 140 trades) for our long trades.\n",
    "\n",
    "Now let’s turn this into an actual trading strategy with a stop loss and take profit as our exit conditions.\n",
    "\n",
    "[Note: see my previous post “How to Backtest in R” for step-by-step instructions]\n",
    "\n",
    "I added a fairly tight take profit and stop loss and maintained a 1:1 risk-to-reward ratio due to the short nature of our predictions (just one bar) and to take advantage of our over 50% accuracy.\n",
    "\n",
    "Let’s see how well we did:"
   ]
  },
  {
   "cell_type": "markdown",
   "metadata": {},
   "source": []
  },
  {
   "cell_type": "markdown",
   "metadata": {},
   "source": [
    "You can see how well the strategy did compared to the a buy-and-hold strategy and just the entry signals. Overall, the equity curve looks fairly smooth and a strategy based off these two simple indicators looks very promising.\n",
    "\n",
    "Using a Support Vector Machine, a powerful machine-learning algorithm, we were not only able to learn under what conditions the conventional wisdom of an RSI hold up but we were able to create a robust trading strategy.\n",
    "\n",
    "This process, known as Association Rule Learning, or deriving rules from machine-learning algorithms, allows you to leverage the capabilities of a machine-learning algorithm with your own experiences as a trader.\n",
    "\n",
    "We believe that the best results are found when combining both man and machine, and this has formed the basis of TRAIDE. We are excited to announce that TRAIDE for FX is now available so sign up now for a free trial. We’d love to have your feedback!"
   ]
  },
  {
   "cell_type": "markdown",
   "metadata": {},
   "source": [
    "## Time to work with [Part 4](https://inovancetech.com/machine-learning-feature-selection.html)"
   ]
  },
  {
   "cell_type": "markdown",
   "metadata": {
    "collapsed": true
   },
   "source": [
    "Selecting the indicators to use is one of the most important and difficult aspects of building a successful strategy.\n",
    "\n",
    "Not only are there thousands of different indicators, but most indicators have numerous settings which amounts to virtually limitless indicator combinations. Clearly testing every combination is not possible, so many traders are left on their own selecting somewhat random inputs to build their strategy.\n",
    "\n",
    "Luckily this process, known as “feature selection”, is a very well-researched topic in the machine learning world. In this post we’ll use a popular technique known as a “wrapper method” that uses a support vector machine (SVM) and a “hill climbing” search to find a robust subset of indicators to use in your strategy.\n",
    "\n",
    "### Feature Selection with Machine Learning: Wrapper Method and Hill Climbing\n",
    "\n",
    "Selecting from the near limitless possible combinations of indicators to use in your strategy can be very daunting. However, this is a problem that machine learning experts and data scientists have been grappling with for a long time and have come up with a wide range of tools and techniques to help you out.\n",
    "\n",
    "One popular technique is a wrapper method. A wrapper method uses a machine-learning algorithm to evaluate each subset of indicators. The main advantage to this method, as opposed to evaluating each indicator on its own, is we can find the relationships and dependencies between indicators. For example, a 14-period RSI or a 30-period CCI alone may not be great predictors, but combined could provide some valuable insight.\n",
    "\n",
    "The next question is how do you decide which subsets of indicators to evaluate? If you are only looking at a few indicators then trying every combination might be possible, but even looking through 15 different indicators for 3 to use in your strategy leads to over 450 different possible combinations! Other techniques either rank the indicators based on a certain performance metric, like correlation, or start with the full or empty set and add/subtract indicators one by one. These type of searches are known as being “greedy”, meaning that they can only search in one direction, e.g. going from strongest correlation to weakest, but may miss some important relationships between indicators.\n",
    "\n",
    "One method that attempts to get around this is the known as a “hill climbing” method. A hill climbing method starts with a random subset of indicators and then evaluates all of the “neighboring” combinations, selecting the best performing combination. While this does allow us to find interesting relationships between indicators, there is a chance that we get stuck in what’s called a “local maximum,” which means that it may just be the best combination of neighbors but not necessarily the best overall combination. To get around this, we can run the search multiple times to see what patterns emerge in the top neighboring subsets.\n",
    "\n",
    "For this article, we’ll use a support vector machine (which we previously used to [build a strategy for the RSI](https://inovancetech.com/how-to-trade-rsi.html)) and repeat the hill climbing search 10 times to find the best subset.\n",
    "\n",
    "### Selecting Indicators\n",
    "\n",
    "Even when using these techniques, we still need to define the feature space to search from. This is where your domain experience comes in. Now you may not know the best period to use, but you most likely have a set of “favorite” indicators that you know and make sense to you conceptually. You can give this process a huge head start by selecting meaningful, relevant indicators that you understand.\n",
    "\n",
    "In the name of simplicity, we’ll start with just 5 different and commonly used base indicators: SMA, EMA, RSI, CCI and MACD.\n",
    "\n",
    "We can use different periods and calculations based off these indicators to create features.\n",
    "\n",
    "For example, here are 20 different \"features\":\n",
    "\n",
    "|Indicator |Indicator|\n",
    "|--|--|\n",
    "|Price - SMA(5)\t |Price - SMA(30)|\n",
    "|Price - SMA(50)\t |SMA(5) - SMA(30)|\n",
    "|SMA(5) - SMA(50)\t |SMA(30) - SMA(50)|\n",
    "|Price - EMA(5)\t |Price - EMA(30)|\n",
    "|Price - EMA(50)\t |EMA(5) - EMA(30)|\n",
    "|EMA(5) - EMA(50)\t |EMA(30) - EMA(50)|\n",
    "|RSI(5)\t |RSI(14)|\n",
    "|RSI(30)\t |CCI(5)|\n",
    "|CCI(14)\t |CCI(30)|\n",
    "|MACD_Line\t |MACD_Signal|\n",
    "\n",
    "We can see how even looking at only 5 indicators leads to a huge number of possible inputs to your strategy!\n",
    "\n",
    "Let's get started building our model. We'll explore the usefulness of the above 20 features in building a profitable strategy.\n",
    "\n",
    "### Building Our Model\n",
    "\n",
    "Now that we have our features we can build our model in R (When working with an SVM, it is important to normalize the data: You can [download](https://inovancetech.com/Data/audusd_model_data.zip) the original data and the normalized data we use for inputs to the model here).\n",
    "\n",
    "First, we need to install the necessary libraries:"
   ]
  },
  {
   "cell_type": "markdown",
   "metadata": {},
   "source": [
    "Then split the data into our training and test sets. We’ll use ⅔ of the data to build the model and reserve ⅓ to test out of sample."
   ]
  },
  {
   "cell_type": "code",
   "execution_count": 52,
   "metadata": {
    "collapsed": true
   },
   "outputs": [],
   "source": [
    "Model_Data <- read.csv('AUDUSD_Model_Data_Normalized.csv')\n",
    "Breakpoint <- nrow(Model_Data)*(2/3)\n",
    "Training<-Model_Data[1:Breakpoint, ]\n",
    "Validation<-Model_Data[(Breakpoint+1):nrow(Model_Data), ]"
   ]
  },
  {
   "cell_type": "markdown",
   "metadata": {},
   "source": [
    "We’ll then need to build the function that evaluates each subset using the SVM. We’ll break our training set into another training and test set to evaluate these models on data that was not used in the building process. This is another check to make sure we are not overfitting."
   ]
  },
  {
   "cell_type": "code",
   "execution_count": 53,
   "metadata": {
    "collapsed": true
   },
   "outputs": [],
   "source": [
    "SVM_Evaluator<-function(subset){\n",
    "data<-Training\n",
    "break_point<-(2/3)*nrow(data)\n",
    "Training_Set<-data[1:break_point,]\n",
    "Test_Set<-data[(break_point+1):nrow(data),]\n",
    "SVM<-svm(Predicted_Class~.,data=Training_Set, kernel=\"radial\",cost=1,gamma=1/20)\n",
    "SVM_Predictions<-predict(SVM,Test_Set,type=\"class\")\n",
    "Accuracy<-sum(SVM_Predictions == Test_Set$Predicted_Class)/nrow(Test_Set)\n",
    "return(Accuracy)\n",
    "}"
   ]
  },
  {
   "cell_type": "markdown",
   "metadata": {},
   "source": [
    "Now we can run the hill climbing search once to see what it finds:"
   ]
  },
  {
   "cell_type": "code",
   "execution_count": 54,
   "metadata": {
    "collapsed": true
   },
   "outputs": [],
   "source": [
    "set.seed(2)\n",
    "Attribute_Names<-names(Training)[-ncol(Training)]\n",
    "Hill_Climbing<-hill.climbing.search(Attribute_Names,SVM_Evaluator)"
   ]
  },
  {
   "cell_type": "markdown",
   "metadata": {},
   "source": [
    "But what we really care about is running it 10 times to help stabilize the results (this will take a couple minutes to run):"
   ]
  },
  {
   "cell_type": "code",
   "execution_count": null,
   "metadata": {
    "collapsed": true
   },
   "outputs": [],
   "source": [
    "set.seed(2)\n",
    "Replication_Test <-replicate(10,hill.climbing.search(Attribute_Names,SVM_Evaluator))"
   ]
  },
  {
   "cell_type": "markdown",
   "metadata": {},
   "source": [
    "Let’s dive into the results and take a look at which indicators tended to be included in the best subsets:"
   ]
  },
  {
   "cell_type": "code",
   "execution_count": null,
   "metadata": {
    "collapsed": true
   },
   "outputs": [],
   "source": [
    "Indicator_Count<-function(names){\n",
    "as.numeric(length(grep(names,Replication_Test)))\n",
    "}\n",
    "\n",
    "Distribution<-lapply(Attribute_Names,Indicator_Count)\n",
    "Attribute_Names_df<-as.data.frame(Attribute_Names)\n",
    "\n",
    "Distribution_df<-t(data.frame(Distribution))\n",
    "Indicator_Distribution<-data.frame(Attribute_Names_df,Distribution_df,row.names=NULL)\n",
    "\n",
    "ggplot(Indicator_Distribution,aes(x=Attribute_Names,y=Distribution_df))+geom_bar(fill=\"blue\",stat=\"identity\")+ theme(axis.text.x = element_text (size=10,angle=90,color=\"black\"), axis.title.x=element_text(size=15),axis.title.y=element_text(size=15),title=element_text(size=20))+labs(y=\"Appearances in Subsets\",x=\"Indicator Name\",title=\"Indicator Subset Frequency\")+ylim(c(0,10))"
   ]
  },
  {
   "cell_type": "markdown",
   "metadata": {},
   "source": [
    "Interesting, so we can see that the distance between the price and a 5-period simple moving average (“Price_Minus_SMA_5”) appeared in 9 of the 10 subsets, followed by the distance between the price in a 5-period exponential moving average (“Price_Minus_EMA_5”) and the distance between the price in a 50-period exponential moving average (“Price_Minus_EMA_50”) in 8 of the 10 subsets. Since we are looking to predict only the next bar, it makes sense that the shorter periods would perform best but it is interesting that a simple moving average was selected in more subsets than the exponential moving average.\n",
    "\n",
    "Now let’s see how many indicators are in each subset:"
   ]
  },
  {
   "cell_type": "code",
   "execution_count": null,
   "metadata": {
    "collapsed": true
   },
   "outputs": [],
   "source": [
    "summary(Replication_Test)"
   ]
  },
  {
   "cell_type": "markdown",
   "metadata": {},
   "source": [
    "So the 5th and 8th iterations of our search each had top subsets with only 6 indicators but while I tend to favor subsets with smaller number of indicators, the 4th iteration was the smallest subset that included our top feature, the “Price_Minus_SMA_5”, so let’s use that one as our final model:"
   ]
  },
  {
   "cell_type": "code",
   "execution_count": null,
   "metadata": {
    "collapsed": true
   },
   "outputs": [],
   "source": [
    "Replication_Test[[ 4 ]]"
   ]
  },
  {
   "cell_type": "markdown",
   "metadata": {},
   "source": [
    "We’ll build the final model with the entire Training Set and test it over our yet-to-be-touched Validation set:"
   ]
  },
  {
   "cell_type": "code",
   "execution_count": null,
   "metadata": {
    "collapsed": true
   },
   "outputs": [],
   "source": [
    "SVM_Final<-svm(Predicted_Class~PRICE_Minus_SMA_5+PRICE_Minus_SMA_30+PRICE_Minus_SMA_50+PRICE_Minus_EMA_30+CCI_5+CCI_30+MACD_Signal,data=Training, kernel=\"radial\",cost=1,gamma=1/20)\n",
    "SVM_Predictions_Final<-predict(SVM_Final,Validation,type=\"class\") # Predict over the Validation set\n",
    "Accuracy_Final<- Accuracy<-sum(SVM_Predictions_Final == Validation$Predicted_Class) /nrow(Validation)"
   ]
  },
  {
   "cell_type": "markdown",
   "metadata": {},
   "source": [
    "Very nice, so over our out-of-sample validation set, we were able to get 53% accuracy! While this does not seem like much, the point of this process was to be able to find a robust subset of indicators. Now we have a baseline of 53% accuracy that we can then use to further build and improve our strategy.\n",
    "\n",
    "With [TRAIDE](https://inovancetech.com/), we can then use an ensemble of machine-learning algorithms to find the most profitable entry signals based on these indicators.\n",
    "\n",
    "Now it’s your turn to use machine learning to build your next strategy!"
   ]
  },
  {
   "cell_type": "code",
   "execution_count": null,
   "metadata": {
    "collapsed": true
   },
   "outputs": [],
   "source": []
  }
 ],
 "metadata": {
  "kernelspec": {
   "display_name": "R",
   "language": "R",
   "name": "ir"
  },
  "language_info": {
   "codemirror_mode": "r",
   "file_extension": ".r",
   "mimetype": "text/x-r-source",
   "name": "R",
   "pygments_lexer": "r",
   "version": "3.4.2"
  }
 },
 "nbformat": 4,
 "nbformat_minor": 2
}
