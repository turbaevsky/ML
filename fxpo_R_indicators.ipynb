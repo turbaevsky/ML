{
 "cells": [
  {
   "cell_type": "markdown",
   "metadata": {},
   "source": [
    "## [Part 3](https://habrahabr.ru/post/236769/) (aslo see [how to markdown](http://assemble.io/docs/Cheatsheet-Markdown.html))"
   ]
  },
  {
   "cell_type": "code",
   "execution_count": 1,
   "metadata": {},
   "outputs": [
    {
     "name": "stderr",
     "output_type": "stream",
     "text": [
      "\n",
      "Attaching package: ‘lubridate’\n",
      "\n",
      "The following object is masked from ‘package:base’:\n",
      "\n",
      "    date\n",
      "\n",
      "Loading required package: xts\n",
      "Loading required package: zoo\n",
      "\n",
      "Attaching package: ‘zoo’\n",
      "\n",
      "The following objects are masked from ‘package:base’:\n",
      "\n",
      "    as.Date, as.Date.numeric\n",
      "\n",
      "Loading required package: TTR\n",
      "Version 0.4-0 included new data defaults. See ?getSymbols.\n"
     ]
    }
   ],
   "source": [
    "#install.packages(\"lubridate\")\n",
    "library(\"lubridate\")\n",
    "#Упрощает работу с датами\n",
    "#install.packages(\"e1071\")\n",
    "library(\"e1071\")\n",
    "#Дает доступ к алгоритму наивного байесовского классификатора\n",
    "#install.packages(\"quantmod\")\n",
    "library(\"quantmod\")\n",
    "#Позволяет импортировать необходимые данные и рассчитывать технические индикаторы\n",
    "#install.packages(\"rpart\") \n",
    "library(\"rpart\")\n",
    "#Даёт доступ к деревам решений, которые мы будем использовать.\n",
    "#install.packages(\"rpart.plot\") \n",
    "library(\"rpart.plot\")\n",
    "#Позволяет легко создать симпатичные диаграммы деревьев\n",
    "#install.packages('FSelector') # the library for the hill climbing search\n",
    "library(FSelector)\n",
    "#install.packages('e1071') # the library for the support vector machine\n",
    "library(e1071)\n",
    "#install.packages('ggplot2') # the library for our plots\n",
    "library(ggplot2)"
   ]
  },
  {
   "cell_type": "markdown",
   "metadata": {},
   "source": [
    "Затем, давайте получим данные и рассчитаем индикаторы."
   ]
  },
  {
   "cell_type": "markdown",
   "metadata": {},
   "source": [
    "|Input\t|Техническое имя\t|Индикатор технического анализа|\n",
    "|--|--|--|\n",
    "|I01\t|EMA5Cross\t|Пересечение EMA5 и цены открытия\n",
    "|I02\t|EMA17Cross\t|Пересечение EMA17 и цены открытия\n",
    "|I03\t|EMA5_17Cross\t|Пересечение EMA17 и EMA5\n",
    "|I04\t|VolumeROC1\t|Rate of Change / Momentum\n",
    "|I05\t|CCI12\t|Commodity Channel Index 12\n",
    "|I06\t|MFI14\t|Money Flow Index 14\n",
    "|I07\t|MOM\t|Momentum 3 / Rate of Change\n",
    "|I08\t|Lag1\t|Движение цены на текущем баре (1)\n",
    "|I09\t|Lag2\t|Движение цены на текущем баре (2)\n",
    "|I10\t|Lag3\t|Движение цены на текущем баре (3)\n",
    "|I11\t|Lag4\t|Движение цены на текущем баре (4)\n",
    "|I12\t|Lag5\t|Движение цены на текущем баре (5)\n",
    "|I13\t|fastK\t|Stochastic Fast %K\n",
    "|I14\t|fastD\t|Stochastic Fast %D\n",
    "|I15\t|slowD\t|Stochastic Slow %D\n",
    "|I16\t|stochWPR\t|William's %R\n",
    "|I17\t|RSI14\t|Relative Strength Index (open) 14\n",
    "|I18\t|williamsAD\t|Williams Accumulation / Distribution\n",
    "|I19\t|WPR\t|William's %R 14\n",
    "|I20\t|AO\t|(Awesome Oscillator, AO) SMA5 — SMA34\n",
    "|I21\t|AC\t|AO сглаженный 5-периодной средней AO — SMA(AO, 5)\n",
    "|I22\t|MACD\t|EMA12 — EMA26\n",
    "|I23\t|MACD_SMA9\t|MACD сглаженный 9-периодной скользящей MACD- SMA(MACD, 9)\n",
    "|I24\t|DIp\t|The positive Direction Index\n",
    "|I25\t|DIn\t|The negative Direction Index.\n",
    "|I26\t|DX\t|The Direction Index\n",
    "|I27\t|ADX\t|The Average Direction Index (trend strength)\n",
    "|I28\t|ar\t|aroon(HL, n) — 1 out (oscillator)\n",
    "|I29\t|chv16\t|Chaikin Volatility — chaikinVolatility (HLC,n) — 1 out\n",
    "|I30\t|cmo16\t|Chande Momentum Oscillator — CMO(Med, n) — 1 out\n",
    "|I31\t|macd12_26\t|MACD Oscillator 12, 26, 9\n",
    "|I32\t|osma\t|Moving Average of Oscillator\n",
    "|I33\t|rsi16\t|Relative Strength Index med 16\n",
    "|I34\t|fastK14_3_3\t|Stochastic Oscillator 14 3 3 fastK\n",
    "|I35\t|fastD14_3_3\t|Stochastic Oscillator 14 3 3 fastD\n",
    "|I36\t|slowD14_3_3\t|Stochastic Oscillator 14 3 3 slowD\n",
    "|I37\t|smi13_2SMI\t|Stochastic Momentum Index SMI 13 2\n",
    "|I38\t|smi13_2signal\t|Stochastic Momentum Index signal 13 2\n",
    "|I39\t|vol16\t|Volatility 16\n",
    "|I40\t|SMA24Cross\t|Логарифм отношения цены открытия и SMA24\n",
    "|I41\t|SMA60Cross\t|Логарифм отношения цены открытия и SMA60\n",
    "|I42\t|SMA24_60Cross\t|Логарифм отношения SMA24 и SMA60\n",
    "|I43\t|SMA24Trand\t|Логарифм отношения SMA24 по сравнению с предыдущим значением\n",
    "|I44\t|SMA60Trand\t|Логарифм отношения SMA24 по сравнению с предыдущим значением\n",
    "|I45\t|MOM24\t|Momentum 24 / Rate of Change\n",
    "|I46\t|MOM60\t|Momentum 60 / Rate of Change\n",
    "|PCA\t|PC1-PC16\t|Сжатие признаков I01-I46 методом главных компонент в 16 значений"
   ]
  },
  {
   "cell_type": "markdown",
   "metadata": {},
   "source": [
    "see [quantmod](https://cran.r-project.org/web/packages/quantmod/quantmod.pdf) and [TTR](https://cran.r-project.org/web/packages/TTR/TTR.pdf) for details; it will also useful to read [forecast](https://cran.r-project.org/web/packages/forecast/forecast.pdf) docs"
   ]
  },
  {
   "cell_type": "code",
   "execution_count": 11,
   "metadata": {},
   "outputs": [
    {
     "name": "stderr",
     "output_type": "stream",
     "text": [
      "‘getSymbols’ currently uses auto.assign=TRUE by default, but will\n",
      "use auto.assign=FALSE in 0.5-0. You will still be able to use\n",
      "‘loadSymbols’ to automatically load data. getOption(\"getSymbols.env\")\n",
      "and getOption(\"getSymbols.auto.assign\") will still be checked for\n",
      "alternate defaults.\n",
      "\n",
      "This message is shown once per session and may be disabled by setting \n",
      "options(\"getSymbols.warning4.0\"=FALSE). See ?getSymbols for details.\n"
     ]
    },
    {
     "data": {
      "text/html": [
       "'FXPO.L'"
      ],
      "text/latex": [
       "'FXPO.L'"
      ],
      "text/markdown": [
       "'FXPO.L'"
      ],
      "text/plain": [
       "[1] \"FXPO.L\""
      ]
     },
     "metadata": {},
     "output_type": "display_data"
    }
   ],
   "source": [
    "startDate = as.Date(\"2007-01-01\")\n",
    "#Начало рассматриваемого промежутка\n",
    "\n",
    "endDate = as.Date(\"2017-12-31\") \n",
    "#Конец промежутка\n",
    "\n",
    "getSymbols(\"FXPO.L\", src = \"google\", from = startDate, to = endDate) \n",
    "#Получаем данные стоимости акций Bank of America\n",
    "\n",
    "FXPO.L <- na.omit(FXPO.L)\n",
    "\n",
    "RSI3<-RSI(Op(FXPO.L), n= 3) \n",
    "#Рассчитываем 3-х дневный индекс относительной силы (RSI) по цене открытия\n",
    "\n",
    "EMA5<-EMA(Op(FXPO.L),n=5) \n",
    "#Рассчитываем 5-дневную экспоненциальную скользящую среднюю (EMA)\n",
    "EMAcross<- Op(FXPO.L)-EMA5 \n",
    "#Давайте посмотрим на разницу между ценой открытия и нашей 5-ти дневной EMA\n",
    "\n",
    "MACD<-MACD(Op(FXPO.L),fast = 12, slow = 26, signal = 9) \n",
    "#Рассчитываем MACD(Схождение/расхождение скользящих средних) со стандартными параметрами\n",
    "\n",
    "MACDsignal<-MACD[,2] \n",
    "#Используем только сигнальную линию в качестве индикатора \n",
    "\n",
    "SMI<-SMI(Op(FXPO.L),n=13,slow=25,fast=2,signal=9) \n",
    "\n",
    "#Стохастический осциллятор со стандартными параметрами\n",
    "SMI<-SMI[,1] \n",
    "#Используем только осциллятор в качестве индикатора"
   ]
  },
  {
   "cell_type": "code",
   "execution_count": 12,
   "metadata": {
    "collapsed": true
   },
   "outputs": [],
   "source": [
    "len <- length(FXPO.L[,1])"
   ]
  },
  {
   "cell_type": "markdown",
   "metadata": {},
   "source": [
    "## Beginning of [Part 2](https://habrahabr.ru/post/234303/)"
   ]
  },
  {
   "cell_type": "markdown",
   "metadata": {},
   "source": [
    "Теперь, когда у нас есть все необходимые данные, давайте получим наш индикатор «день недели»:"
   ]
  },
  {
   "cell_type": "code",
   "execution_count": 13,
   "metadata": {
    "collapsed": true
   },
   "outputs": [],
   "source": [
    "DayofWeek<-wday(FXPO.L, label=TRUE)\n",
    "#Находим день недели"
   ]
  },
  {
   "cell_type": "markdown",
   "metadata": {},
   "source": [
    "То, что мы собираемся спрогнозировать, т.е. движение цены вверх или вниз, и создание финального набора данных:"
   ]
  },
  {
   "cell_type": "code",
   "execution_count": 14,
   "metadata": {
    "collapsed": true
   },
   "outputs": [],
   "source": [
    "PriceChange<- Cl(FXPO.L) - Op(FXPO.L)\n",
    "#Находим разницу между ценой закрытия и ценой открытия.\n",
    "\n",
    "Class<-ifelse(PriceChange>0, \"UP\",\"DOWN\")\n",
    "#Конвертируем в двоичную классификацию. (В наших данных не встречаются дни, когда цена открытия была равна цене закрытия, т. е. изменение было равно нулю, поэтому для упрощения мы не рассматриваем этот случай)\n",
    "\n",
    "DataSet<-data.frame(DayofWeek,Class)\n",
    "#Создаем наш набор данных"
   ]
  },
  {
   "cell_type": "markdown",
   "metadata": {},
   "source": [
    "Теперь мы готовы применить наивный байесовский классификатор:"
   ]
  },
  {
   "cell_type": "code",
   "execution_count": 15,
   "metadata": {
    "collapsed": true
   },
   "outputs": [],
   "source": [
    "MyModel<-naiveBayes(DataSet[,1],DataSet[,2])\n",
    "#Входное значение, или независимая переменная (DataSet[,1]), и то, что мы собираемся предсказывать, зависимая переменная (DataSet[,2])."
   ]
  },
  {
   "cell_type": "markdown",
   "metadata": {},
   "source": [
    "Улучшаем модель\n",
    "\n",
    "Очевидно вам захочется использовать более сложную стратегию, нежели просто ориентирование на день недели. Давайте добавим пересечение со скользящей средней в нашу модель (вы можете получить больше информации о добавлении различных индикаторов к вашей модели здесь)\n",
    "Я предпочитаю использовать экспоненциальные скользящие средние, поэтому давайте рассмотрим 5-ти дневные и 10-дневные экспоненциальные скользящие средние (EMA).\n",
    "Для начала нам необходимо рассчитать EMA:"
   ]
  },
  {
   "cell_type": "code",
   "execution_count": 16,
   "metadata": {
    "collapsed": true
   },
   "outputs": [],
   "source": [
    "EMA5<-EMA(Op(FXPO.L),n = 5)\n",
    "#Мы рассчитываем 5-периодную EMA по цене открытия\n",
    "\n",
    "EMA10<-EMA(Op(FXPO.L),n = 10)\n",
    "#Затем 10-ти периодную EMA, так же по цене открытия"
   ]
  },
  {
   "cell_type": "markdown",
   "metadata": {},
   "source": [
    "Затем рассчитываем пересечение:"
   ]
  },
  {
   "cell_type": "code",
   "execution_count": 17,
   "metadata": {
    "collapsed": true
   },
   "outputs": [],
   "source": [
    "EMACross <- EMA5 - EMA10 \n",
    "#Положительные значения будут означать что EMA5 расположена на графике выше EMA10"
   ]
  },
  {
   "cell_type": "markdown",
   "metadata": {},
   "source": [
    "Теперь округляем значения до 2-х знаков после запятой. Это важно, поскольку если попадется значение, которое наивный классификатор байеса не видел во время обучения, он автоматически рассчитает вероятность в 0%. Например, если мы смотрим на пересечение EMA с точностью до 6-ти знаков, и была найдена высокая вероятность движения цены вниз, когда разница была \\$2.349181, а затем была представлена новая точка данных, которая имела разницу \\$2.349182, будет рассчитана 0% вероятность повышения или понижения цены. Окрулив до 2-х знаков после запятой, мы снижаем риск столкнуться с неизвестным для модели значением (при условии, что для обучения использовался достаточно большой набор данных, в котором скорее всего встретятся все значения индикатора). Это важное ограничение, о котором нужно помнить, при построении собственных моделей."
   ]
  },
  {
   "cell_type": "code",
   "execution_count": 18,
   "metadata": {
    "collapsed": true
   },
   "outputs": [],
   "source": [
    "EMACross<-round(EMACross,2)"
   ]
  },
  {
   "cell_type": "markdown",
   "metadata": {},
   "source": [
    "Давайте создадим новый dataset и разделим данные на тренировочный и тестовый набор. Таким образом, мы сможем понять, насколько хорошо работает наша модель на новых данных."
   ]
  },
  {
   "cell_type": "code",
   "execution_count": 19,
   "metadata": {
    "collapsed": true
   },
   "outputs": [],
   "source": [
    "DataSet2<-data.frame(DayofWeek,EMACross, Class)\n",
    "DataSet2<-DataSet2[-c(1:10),]\n",
    "#Нам нужно удалить значения, в которых 10-периодная скользящая средняя все еще не рассчитана\n",
    "TrainingSet<-DataSet2[1:328,]\n",
    "#Мы используем 2/3 данных для обучения модели\n",
    "TestSet<-DataSet2[329:492,] \n",
    "#И 1/3 для тестирования модели"
   ]
  },
  {
   "cell_type": "markdown",
   "metadata": {},
   "source": [
    "Теперь построим модель:"
   ]
  },
  {
   "cell_type": "code",
   "execution_count": 20,
   "metadata": {
    "collapsed": true
   },
   "outputs": [],
   "source": [
    "EMACrossModel<-naiveBayes(TrainingSet[,1:2],TrainingSet[,3])"
   ]
  },
  {
   "cell_type": "markdown",
   "metadata": {},
   "source": [
    "Условная вероятность пересечения скользящих средних – число, которое показывает среднее значение для каждого случая ([,1]) и для стандартного отклонения ([,2]). Мы можем видеть, что в среднем разница между 5-дневной EMA и 10-ти дневной EMА для длинных и коротких торгов была \\$0.54 и -\\$0.24 соответственно.\n",
    "Теперь протестируем на новых данных:"
   ]
  },
  {
   "cell_type": "code",
   "execution_count": 21,
   "metadata": {},
   "outputs": [
    {
     "data": {
      "text/plain": [
       "         actual\n",
       "predicted DOWN UP\n",
       "     DOWN   75 68\n",
       "     UP      9 12"
      ]
     },
     "metadata": {},
     "output_type": "display_data"
    }
   ],
   "source": [
    "table(predict(EMACrossModel,TestSet),TestSet[,3],dnn=list('predicted','actual'))"
   ]
  },
  {
   "cell_type": "markdown",
   "metadata": {},
   "source": [
    "## End of Part 2"
   ]
  },
  {
   "cell_type": "markdown",
   "metadata": {},
   "source": [
    "## Cont. of Part 3"
   ]
  },
  {
   "cell_type": "markdown",
   "metadata": {},
   "source": [
    "Затем рассчитываем переменную, которую мы предсказываем и формируем data sets."
   ]
  },
  {
   "cell_type": "code",
   "execution_count": 22,
   "metadata": {
    "collapsed": true
   },
   "outputs": [],
   "source": [
    "PriceChange<- Cl(FXPO.L) - Op(FXPO.L) \n",
    "#Рассчитываем разницу между ценой закрытия и открытия\n",
    "Class<-ifelse(PriceChange>0,\"UP\",\"DOWN\") \n",
    "#Переменная которую мы хотим предсказать.\n",
    "\n",
    "DataSet<-data.frame(RSI3,EMAcross,MACDsignal,SMI,Class) \n",
    "#Создаем наш data set\n",
    "colnames(DataSet)<-c(\"RSI3\",\"EMAcross\",\"MACDsignal\",\"Stochastic\",\"Class\") \n",
    "#Задаем имена колонкам\n",
    "#DataSet<-DataSet[-c(1:33),] \n",
    "#Избавляемся от данных, на которых происходит первоначальное формирование индикаторов\n",
    "\n",
    "train <- len/3*2\n",
    "TrainingSet<-DataSet[1:train,] \n",
    "#Используем 2/3 наших данных для построения дерева\n",
    "TestSet<-DataSet[train:len,]\n",
    "#И оставляем 1/3 данных для тестирования нашей стратегии"
   ]
  },
  {
   "cell_type": "markdown",
   "metadata": {},
   "source": [
    "Теперь, когда у нас есть всё, что нужно, давайте построим уже это дерево!"
   ]
  },
  {
   "cell_type": "code",
   "execution_count": 23,
   "metadata": {
    "collapsed": true
   },
   "outputs": [],
   "source": [
    "DecisionTree<-rpart(Class~RSI3+EMAcross+MACDsignal+Stochastic,data=TrainingSet, cp=.001)\n",
    "#Указываем индикаторы, которые мы хотим использовать для предсказания и контролируем рост дерева, указывая минимальное значение параметра сложности (ср), необходимого для организации разделения."
   ]
  },
  {
   "cell_type": "markdown",
   "metadata": {},
   "source": [
    "Отлично! У нас есть наше первое дерево решений, посмотрим, что же мы построили."
   ]
  },
  {
   "cell_type": "code",
   "execution_count": 24,
   "metadata": {},
   "outputs": [
    {
     "name": "stderr",
     "output_type": "stream",
     "text": [
      "Warning message:\n",
      "“labs do not fit even at cex 0.15, there may be some overplotting”"
     ]
    },
    {
     "data": {
      "image/png": "[encoded data removed]",
      "text/plain": [
       "plot without title"
      ]
     },
     "metadata": {},
     "output_type": "display_data"
    }
   ],
   "source": [
    "prp(DecisionTree,type=2,extra=8)\n",
    "#Отличный графический инструмент, с несколькими параметрами для красивого отображения. "
   ]
  },
  {
   "cell_type": "markdown",
   "metadata": {},
   "source": [
    "Маленькая заметка по интерпретации этого дерева: узлы представляют расщепление, где левая ветка отражает ответ «да», а правая ветка ответ «нет». Число в конечном листе – процентное число случаев, которые были корректно классифицированы этим узлом. \n",
    "Дерева решений так же могут быть использованы для выбора и оценки индикаторов. Индикаторы, которые ближе к корню (верх) дерева, дают больше разделений и содержат больше информации чем те, что внизу дерева. В нашем случае Стохастический Осциллятор даже не попал в дерево!\n",
    "\n",
    "Хоть у нас и появился набор правил, которым можно следовать, стоит все-таки убедиться, что мы не переобучили модель, поэтому давайте подрежем дерево. Самый простой способ сделать это – посмотреть на параметр сложности, который является «стоимостью», или снижением производительности. Для этого нужно добавить еще одно разделение и выбрать размер дерева, который минимизирует нашу ошибку перекрестной проверки."
   ]
  },
  {
   "cell_type": "code",
   "execution_count": 25,
   "metadata": {},
   "outputs": [
    {
     "name": "stdout",
     "output_type": "stream",
     "text": [
      "\n",
      "Classification tree:\n",
      "rpart(formula = Class ~ RSI3 + EMAcross + MACDsignal + Stochastic, \n",
      "    data = TrainingSet, cp = 0.001)\n",
      "\n",
      "Variables actually used in tree construction:\n",
      "[1] EMAcross   MACDsignal RSI3       Stochastic\n",
      "\n",
      "Root node error: 815/1759 = 0.46333\n",
      "\n",
      "n=1759 (3 observations deleted due to missingness)\n",
      "\n",
      "          CP nsplit rel error xerror     xstd\n",
      "1  0.0122699      0   1.00000 1.0000 0.025661\n",
      "2  0.0061350      2   0.97546 1.0356 0.025709\n",
      "3  0.0044990      3   0.96933 1.0601 0.025726\n",
      "4  0.0042945     23   0.80368 1.0650 0.025728\n",
      "5  0.0040900     38   0.72761 1.0650 0.025728\n",
      "6  0.0036810     41   0.71534 1.0785 0.025730\n",
      "7  0.0032720     55   0.65890 1.0699 0.025729\n",
      "8  0.0030675     59   0.64540 1.0699 0.025729\n",
      "9  0.0024540     61   0.63926 1.0724 0.025730\n",
      "10 0.0018405     91   0.55460 1.0724 0.025730\n",
      "11 0.0016360     99   0.53742 1.0798 0.025730\n",
      "12 0.0012270    105   0.52761 1.0773 0.025730\n",
      "13 0.0010000    115   0.51534 1.0896 0.025729\n"
     ]
    },
    {
     "data": {
      "image/png": "[encoded data removed]",
      "text/plain": [
       "plot without title"
      ]
     },
     "metadata": {},
     "output_type": "display_data"
    }
   ],
   "source": [
    "printcp(DecisionTree)\n",
    "#Вывод минимального cp(параметра сложности) для каждого дерева, каждого размера\n",
    "plotcp(DecisionTree,upper=\"splits\")\n",
    "#Чертеж среднего геометрического значения для деревьев каждого размера"
   ]
  },
  {
   "cell_type": "markdown",
   "metadata": {},
   "source": [
    "Вы можете видеть, что наименьшая ошибка достигается для дерева из 7 разделений. Благодаря режиму перекрестной проверки, который случайным образом выбирает данные для тестирования модели, ваш результат может отличаться от того, который отображен на скриншоте. Один из недостатков дерева решений в том, что они могут быть не стабильными, т.е. малые изменения данных могут привести к большим изменениям в дереве. Поэтому процесс «обрезки» дерева и другие способы предотвратить переобучение столь важны.\n",
    "\n",
    "Давайте обрежем это дерево и посмотрим, как будет выглядеть наша стратегия."
   ]
  },
  {
   "cell_type": "code",
   "execution_count": 26,
   "metadata": {
    "collapsed": true
   },
   "outputs": [],
   "source": [
    "PrunedDecisionTree<-prune(DecisionTree,cp=0.0061350)\n",
    "#Я использую параметр сложности (cp), у которого наименьшая ошибка перекрестной проверки (xerror)"
   ]
  },
  {
   "cell_type": "markdown",
   "metadata": {},
   "source": [
    "Теперь дерево выглядит так:"
   ]
  },
  {
   "cell_type": "code",
   "execution_count": 27,
   "metadata": {},
   "outputs": [
    {
     "data": {
      "image/png": "[encoded data removed]",
      "text/plain": [
       "plot without title"
      ]
     },
     "metadata": {},
     "output_type": "display_data"
    }
   ],
   "source": [
    "prp(PrunedDecisionTree, type=2, extra=8)"
   ]
  },
  {
   "cell_type": "markdown",
   "metadata": {},
   "source": [
    "Так гораздо лучше! Здесь видно, что линия MACD сигнала больше не используется. Мы начали с 4-х индикаторов, из которых только 3-х дневный RSI, разница между ценами, и 5-ти дневный EMA могут быть полезны в предсказании движения цены.\n",
    "\n",
    "Пришло время проверить модель на тестовых данных."
   ]
  },
  {
   "cell_type": "code",
   "execution_count": 28,
   "metadata": {},
   "outputs": [
    {
     "data": {
      "text/plain": [
       "         actual\n",
       "predicted DOWN  UP\n",
       "     DOWN  457 423\n",
       "     UP      0   2"
      ]
     },
     "metadata": {},
     "output_type": "display_data"
    }
   ],
   "source": [
    "table(predict(PrunedDecisionTree,TestSet,type=\"class\"),TestSet[,5],dnn=list('predicted','actual'))"
   ]
  },
  {
   "cell_type": "markdown",
   "metadata": {},
   "source": [
    "В общем не плохо, 52% точность. Что более важно, у вас есть основа стратегии с четко определенными, математическими параметрами. Используя всего 25 команд, мы смогли определить, какие индикаторы полезны и какие специальные условия нам нужны для совершения сделки. Теперь вы можете использовать эти индикаторы для собственной торговли или улучшить дерево.\n",
    "\n",
    "В следующей статье мы рассмотрим еще один мощный алгоритм машинного обучения, метод опорных векторов, и разберемся, как можно использовать его результаты для еще более здравой стратегии."
   ]
  },
  {
   "cell_type": "code",
   "execution_count": 29,
   "metadata": {},
   "outputs": [
    {
     "data": {
      "text/html": [
       "0.520408163265306"
      ],
      "text/latex": [
       "0.520408163265306"
      ],
      "text/markdown": [
       "0.520408163265306"
      ],
      "text/plain": [
       "[1] 0.5204082"
      ]
     },
     "metadata": {},
     "output_type": "display_data"
    }
   ],
   "source": [
    "459/(423+459)"
   ]
  },
  {
   "cell_type": "markdown",
   "metadata": {},
   "source": [
    "## How to Trade the RSI: An analysis using a Support Vector Machine (base on [this](https://inovancetech.com/how-to-trade-rsi.html))"
   ]
  },
  {
   "cell_type": "markdown",
   "metadata": {},
   "source": [
    "Machine-learning algorithms can be used to find the best values to trade your indicators.\n",
    "\n",
    "The Relative Strength Index, or RSI, is one of the most common technical indicators. It is used to identify oversold and overbought conditions. Traditionally, traders look for RSI values over 70 to represent overbought market conditions and under 30 to represent oversold market conditions. However, is there any validity to these claims? Why 70 and why 30? Further, how do different trending markets affect the RSI signals you should be looking for?\n",
    "\n",
    "In this post, we’ll use a Support Vector Machine (SVM), a powerful machine-learning algorithm, to explore what values of an RSI you should actually be looking for while taking into account the overall trend in the market.\n",
    "\n",
    "First, we’ll give a brief overview of the SVM, then outline the problem, and finally build and test a strategy based off of the patterns discovered by the algorithm.\n",
    "\n",
    "### Support Vector Machines\n",
    "\n",
    "Support Vector Machines are one of the more popular and powerful “off-the-shelf” machine-learning algorithms based on their ability to find non-linear patterns. SVMs work by finding a line, known as a “decision boundary” or “hyperplane”, that best separates your data based on the class (in our case, “bullish” or “bearish” bars). The power of an SVM is being able to rearrange, or map, your data with a set of mathematical functions, known as “kernels”, into a multidimensional feature space where your data is linearly separable.\n",
    "\n",
    "The SVM then draws a line in the higher dimensional space that maximizes the distance between the two classes. When a new data point is presented to the SVM, it then calculates which side of the line the point falls and makes its prediction.\n",
    "\n",
    "Another advantage of the SVM is there are relatively few parameters that must be selected before you are able to use it. First, you must select the kernel, or mapping, function to use to translate your data into a higher dimensional space. A radial basis function is a popular choice and will work well in our case. Next, you need to choose the gamma parameter. The gamma determines how much effect a single training example can have on the decision boundary. Low values mean a single point will have a large effect on where the line is drawn and high values mean each point will only have a small effect. A good rule of thumb to select the gamma parameter to be one over number of inputs to your model (1/(number of inputs)). Finally, you need to choose the regularization parameter, C. C determines the trade off between misclassifying examples in your training set and the simplicity of the decision boundary. A low C creates a smoother decision boundary and decreases overfitting, while a high C will attempt to classify every data point in the training set correctly and may lead to overfitting. We want to decrease how much our model overfits so we will select a value of 1 but feel free to play around with it yourself.\n",
    "\n",
    "Now that we have a basic idea of how a Support Vector Machine works and how to select its parameters, let’s see if we can use it to figure out how to trade an RSI.\n",
    "\n",
    "### Trading an RSI\n",
    "\n",
    "The relative strength index, or RSI, compares the average size of the “up” moves to the average size of the “down” moves and normalizes it between 0 and 100. The conventional logic goes that once the asset has had more, significant upticks, it has become overbought, or overvalued, and is likely to decrease in price. Overbought is usually determined by an RSI value over 70, with opposite conditions representing oversold, or undervalued, at an RSI value of 30.\n",
    "\n",
    "However, these conditions don’t happen in a vacuum. There are also broader market trends at work. An RSI value over 70 in the middle of a strong uptrend might represent a continuation of the trend while a value of 70 during a downtrend could signify a great entry point. The problem is finding out exactly what conditions we should be looking for considering both factors.\n",
    "\n",
    "We could gather thousands of data points and try to find those relationships ourselves or we could use a Support Vector Machine, an algorithm designed to find non-linear patterns, to do the legwork for us.\n",
    "\n",
    "Let’s see what patterns we are able to find in a 3-period RSI and define a trend by comparing the open price to a 50-period simple moving average (SMA) using the AUD/USD 4 hour charts.\n",
    "\n",
    "### Building Your Model\n",
    "\n",
    "Let’s use R to build our model, analyze the patterns it was able to find and then test to see if those patterns hold up in an actual trading strategy.\n",
    "\n",
    "To create the data set and build the model (data can be downloaded from [here](https://www.dropbox.com/s/kk47ydcz36xik2i/AUDUSD.csv?dl=0)):"
   ]
  },
  {
   "cell_type": "code",
   "execution_count": 32,
   "metadata": {},
   "outputs": [
    {
     "name": "stderr",
     "output_type": "stream",
     "text": [
      "Warning message:\n",
      "“FXPO.L contains missing values. Some functions will not work if objects contain missing values in the middle of the series. Consider using na.omit(), na.approx(), na.fill(), etc to remove or replace them.”"
     ]
    },
    {
     "data": {
      "text/html": [
       "'FXPO.L'"
      ],
      "text/latex": [
       "'FXPO.L'"
      ],
      "text/markdown": [
       "'FXPO.L'"
      ],
      "text/plain": [
       "[1] \"FXPO.L\""
      ]
     },
     "metadata": {},
     "output_type": "display_data"
    },
    {
     "ename": "ERROR",
     "evalue": "Error in naCheck(x, n): Series contains non-leading NAs\n",
     "output_type": "error",
     "traceback": [
      "Error in naCheck(x, n): Series contains non-leading NAs\nTraceback:\n",
      "1. RSI(Op(Data), n = 3)",
      "2. do.call(maType, c(list(up), maArgs))",
      "3. EMA(structure(c(NA, 10, 7, 14, 13, 13, 15, 0, 0, 0, 11, 0, 7, \n . 0, 1, 3, 0, 10, 0, 0, 0, 0, 0, 0, 0, 3, 3, 0, 2, 0, 0, 3, 1, \n . 0, 0.5, 0, 0, 2, 1, 1.25, 7.75, 0, 0, 3, 0, 0, 0, 0, 5, 8, 0, \n . 0, 0, 2, 5, 0, 0, 4, 7.25, 12.75, 2, 13, 4.5, 5.5, 25, 0, 0, \n . 2, 10, 0, 0, 0.5, 5.5, 0.25, 0.25, 0, 2.5, 2, 0, 0, 1, 0, 4, \n . 0, 0.25, 2.75, 0, 2, 3, 0, 0, 3.75, 0.5, 5.75, 3.25, 0, 0, 1.75, \n . 0, 0, 0, 5, 6, 0, 8.75, 0, 7, 0, 0.75, 0, 0, 0, 0, 0.25, 20.5, \n . 18.75, 0.5, 0.25, 0, 3, 0, 1.5, 0, 0, 5, 0, 0, 0, 0, 0, 0, 0, \n . 3, 6.75, 6.5, 0, 0, 0, 1.75, 2.25, 8.75, 0.5, 0, 4, 0, 0.25, \n . 0, 6.5, 23, 0, 8.5, 7.75, 0, 0, 0, 0, 15, 0, 5.75, 19.25, 3, \n . 2.5, 15.5, 0, 0, 8, 0, 2.25, 22, 0, 4.25, 0, 5.75, 5.75, 2.25, \n . 11.25, 9.25, 16.25, 2.25, 0, 0, 3, 1.75, 4.75, 17, 17, 0, 5, \n . 0, 6.5, 3.75, 0, 0, 0, 8.75, 0, 13.25, 10.25, 8, 12.75, 3.25, \n . 4, 2.25, 0, 0, 9, 4, 4.75, 1.25, 0, 0, 5.5, 7, 6.5, 12, 8.5, \n . 0.75, 0, 0, 0, 0.25, 0, 2, 0, 9.75, 0, 10.5, 0, 5.5, 0, 11, 0, \n . 18.25, 0, 14, 7, 0, 0, 3.5, 0, 0, 0, 16, 0, 15, 0, 9.75, 8.25, \n . 27.75, 1.5, 22.5, 0, 0, 9.45001200000002, 0, 7.25, 0.0499879999999848, \n . 4.20001200000002, 0, 0, 17.5, 0, 0, 0, 0, 0, 0, 0, 1.25, 2.79998799999998, \n . 0, 0, 0, 0, 0, 0, 0.25, 0, 0, 9.25, 0.5, 0, 0, 8.75, 4.75, 0.5, \n . 27.25, 0, 0, 0, 0, 6, 9, 0, 0, 0, 0, 5.5, 9.25, 0, 3.75, 7, 7.75, \n . 14.5, 0, 0, 3, 6.5, 0, 0, 0, 0, 0, 0, 0, 0, 5.300003, 0, 0, 0, \n . 3, 0, 0, 25.25, 1.25, 0, 0, 1.25, 0, 13.5, 0, 0, 0, 12.25, 0, \n . 0, 0, 20, 0, 8.25, 0, 0, 7.25, 0, 0, 0, 0, 0, 0, 1.75, 0, 0.75, \n . 0, 0, 8, 0, 0, 2, 3.25, 0, 0, 0, 0, 0, 0, 0, 0, 0, 3, 3, 1, 3, \n . 0, 0, 0, 0.5, 0, 0.75, 6.5, 0, 1.5, 0, 0, 0, 0, 0, 0.25, 0, 0, \n . 0, 0.5, 4.25, 0, 0, 2, 3.25, 3.25, 0, 0, 0.75, 2, 6.5, 2.5, 2, \n . 4, 1.5, 2.25, 1.25, 2.25, 0, 0, 0.75, 0, 0, 0, 1, 6, 0, 5.25, \n . 11.75, 4.25, 0, 0, 4, 0, 0, 0, 0, 0, 0, 0, 2.5, 2.5, 0, 0, 0, \n . 1.5, 0, 0, 0, 0, 3.5, 3.25, 0, 1.75, 0, 0.5, 0, 3.75, 0.75, 9.25, \n . 0, 0, 0, 2.5, 0, 0, 2.5, 0.5, 4.25, 0, 0, 0, 5.75, 9, 6.5, 5.5, \n . 4.25, 0, 3, 10.5, 10, 12, 10, 9, 8, 5, 2, 18, 5, 0, 0, 0, 2.75, \n . 0, 0, 6.75, 0.5, 13, 7, 0, 7.75, 4, 0, 0, 3.75, 6, 0.5, 0, 2.25, \n . 2, 0, 0.5, 0, 2, 0, 0, 0.75, 0, 0, 1, 0, 10.75, 3, 6, 0, 0, 0, \n . 3.5, 0, 0, 0, 1.75, 0, 2.75, 0, 0, 23.5, 10.5, 0, 3.25, 0, 0, \n . 0.25, 4, 4.25, 0, 0, 0, 1.5, 3, 17.399994, 0, 22.899994, 0, 2.699997, \n . 0, 0, 0, 5.39999399999999, 0, 0, 1, 5.5, 0, 0, 1.800003, 0, 0, \n . 0, 2.79998799999998, 0, 0, 0, 7.10000600000001, 0, 2.09999099999999, \n . 0, 0, 0, 0, 0, 8.699997, 6.300003, 0, 0, 0, 0, 0.100006000000008, \n . 0.199996999999996, 1.300003, 0.899993999999992, 0, 0, 0, 0, 16.199997, \n . 0, 0, 6.699997, 2.10000600000001, 0.699996999999996, 3.60000600000001, \n . 4.800003, 0, 0.399993999999992, 1.39999399999999, 0, 0, 2, 0, \n . 0, 0, 6.10000600000001, 0, 2.39999399999999, 0, 7, 5.89999399999999, \n . 6.199997, 4.800003, 0, 1.199997, 3.40000900000001, 0.699996999999996, \n . 1.39999399999999, 2.300003, 15.199997, 0, 10.699997, 27.699997, \n . 0, 0, 0, 16.199997, 0, 3.40000900000001, 0, 0, 0, 0, 0, 0, 0, \n . 0.899993999999992, 0, 0, 5, 2.5, 0, 0, 0, 7.800003, 0, 4, 1.39999399999999, \n . 0, 13.699997, 21.300003, 0, 2.10000600000001, 16.5, 0, 0, 0, \n . 0, 0, 0.699996999999996, 3.300003, 0, 0, 2.699997, 0, 0, 0, 7.300003, \n . 0, 1.10000600000001, 9.09999099999999, 5.800003, 0, 0, 1, 3.89999399999999, \n . 0, 13.100006, 16.899994, 10.199997, 29.800003, 0, 8.30001800000002, \n . 16.299988, 0, 0, 11.100006, 4.89999399999999, 6.60000600000001, \n . 9.60000600000001, 0, 4.30001800000002, 0, 10.799988, 0, 0.100006000000008, \n . 5.39999399999999, 0, 5.89999399999999, 0, 0, 8, 7.39999399999999, \n . 0.299987999999985, 6.60000600000001, 23.200012, 22.699982, 0, \n . 6.70001200000002, 0, 10.900024, 5.69998199999998, 1.60000600000001, \n . 7.20001200000002, 0, 0, 1.5, 0, 0.799987999999985, 12.400024, \n . 0.899993999999992, 0, 5.39999399999999, 0, 0, 0, 12.100006, 0, \n . 0, 0, 6.29998799999998, 2.70001200000002, 0, 0, 0, 13.399994, \n . 8.89999399999999, 0, 15.700012, 0, 0, 0, 0, 0, 0, 0, 0, 0, 16.699997, \n . 18, 7, 0, 4.10000600000001, 4.79998799999998, 0, 0, 0, 3.39999399999999, \n . 13.5, 0, 9.5, 13.700012, 0.399993999999992, 0.299987999999985, \n . 3.10000600000001, 11.600006, 0, 11.200012, 0, 0, 0, 0, 0, 0, \n . 2.59999099999999, 0, 8.09999099999999, 8.800003, 19.200012, 0, \n . 3.89999399999999, 6.39999399999999, 0, 0, 0, 1.20001200000002, \n . 14, 10.100006, 9.29998799999998, 8.79998799999998, 1.80001800000002, \n . 0, 0, 1.70001200000002, 0, 5.5, 0.799987999999985, 11.100006, \n . 0.5, 9.5, 0, 0, 0, 13.100006, 0, 0, 9.60000600000001, 5.39999399999999, \n . 7, 1, 0, 0, 0, 0.399993999999992, 10, 12.899994, 0.600006000000008, \n . 6.29998799999998, 17.100006, 0, 0, 4, 2.89999399999999, 4, 2.79998799999998, \n . 0, 3.39999399999999, 0, 2, 0, 0, 0, 0, 1.5, 5.70001200000002, \n . 0, 3.60000600000001, 6.09997599999997, 3.60000600000001, 3, 1.10000600000001, \n . 19.5, 2.20001200000002, 0, 0, 11.200012, 14.299988, 0, 0, 0, \n . 0, 0, 0, 7.39999399999999, 0, 0, 0, 0, 0, 7.59997599999997, 2.30001800000002, \n . 3.89999399999999, 14, 4.20001200000002, 6.59997599999997, 5.20001200000002, \n . 0, 18.100006, 0, 4.60000600000001, 0, 24, 0, 0, 0, 0, 9.60000600000001, \n . 3.29998799999998, 0, 0, 0, 13.600006, 11.600006, 0, 0, 3.5, 0.199981999999977, \n . 0, 0, 0, 11, 10.299988, 0.200012000000015, 5.09997599999997, \n . 11.300018, 8.39999399999999, 4.10000600000001, 0, 0, 51.700012, \n . 3.79998799999998, 3.5, 0, 4.29998799999998, 0, 1.29998799999998, \n . 0, 7.5, 11.200012, 11.899994, 0, 0, 14.299988, 0, 0, 1.29998799999998, \n . 8, 0, 0, 1.10000600000001, 14.600006, 0, 14.399994, 2.80001800000002, \n . 0, 0, 10.700012, 0, 0, 0, 12.5, 0, 0, 3.39999399999999, 2.10000600000001, \n . 11.799988, 0, 0, 0, 0, 21.5, 19.5, 0, 2.30001800000002, 1, 0, \n . 0, 0, 0, 0, 8, 0, 0.5, 4.69998199999998, 14, 15.700012, 0, 7.79998799999998, \n . 9.89999399999999, 10.5, 0, 0, 0, 20, 0, 13.600006, 18.799988, \n . 0, 6.80001800000002, 0, 12.799988, 0, 0, 0, 5.5, 0, 0, 13.600006, \n . 26.200012, 11.199982, 0, 3.39999399999999, NA, NA, 0, 0, 0, 0, \n . 14.200012, 1.79998799999998, 0, 0, 0, 0, 2, 5.90002400000003, \n . 0, 0, 0, 0, 3, 14.799988, 0, 23.699982, 0, 5.80001800000002, \n . 0, 6, 20.992004, 0, 15.299988, 0, 9.79998799999998, 0, 0, 0, \n . 1.10000600000001, 0, 13.599976, 0, 4, 0, 13, 20, 7.69998199999998, \n . 0, 11.700012, 4.29998799999998, 8.20001200000002, 0, 29.100006, \n . 0, 0, 0, 22.799988, 0, 13.900024, 0, 2.30001800000002, 5.79998799999998, \n . 17.800018, 0, 0.5, 0, 0, 0, 17, 0, 0, 18.600006, 0, 0, 0, 15.600006, \n . 11.299988, 0, 22.799988, 7.79998799999998, 0, 0, 0, 0, 20, 8.20001200000002, \n . 10.399994, 5.5, 0, 13.100006, 12.799988, 0, 0, 0, 16, 20.600006, \n . 0, 0, 10.5, 0, 23.5, 14.100006, 0, 0, 5.19998199999998, 0, 0, \n . 0, 8.89999399999999, 4.90002400000003, 0, 0, 0, 0, 0, 26.199997, \n . 26.5, 5, 0.799987999999985, 0, 21.900024, 3.09997599999997, 13, \n . 0, 0, 0, 0, 4.10000600000001, 7.89999399999999, 0.299987999999985, \n . 12.100006, 12, 10.200012, 0, 0, 0, 10.799988, 1.39999399999999, \n . 0, 12.5, 0, 0, 13, 0, 0, 0, 0, 0, 0, 0, 1.90000900000001, 5.39999399999999, \n . 17.299988, 20.300018, 0, 23.699982, 0, 0, 6.10000600000001, 3.5, \n . 0, 0, 9, 0, 1.70001200000002, 0, 2.10000600000001, 0, 0, 6.59999099999999, \n . 9.30001800000002, 0, 1.20001200000002, 0, 3.20001200000002, 0.59997599999997, \n . 21.600006, 0, 2.39999399999999, 6.10000600000001, 0, 0.799987999999985, \n . 5.39999399999999, 12.600006, 5.60000600000001, 8.5, 6, 7.39999399999999, \n . 2.70001200000002, 0, 0, 2.19998199999998, 0, 18, 0, 0, 3.5, 11.399994, \n . 0, 7.70001200000002, 3.89999399999999, 0, 0.299987999999985, \n . 0, 0, 5.89999399999999, 0, 0, 0, 6.10000600000001, 0.59997599999997, \n . 0, 0, 0.899993999999992, 0, 0.199981999999977, 1.70001200000002, \n . 0, 0, 0.199981999999977, 0, 0, 9.79998799999998, 11.5, 4.89999399999999, \n . 0, 19.699982, 1, 2.80001800000002, 0, 0, 0, 0, 0, 0.700012000000015, \n . 0, 2.29998799999998, 0, 7.29998799999998, 10.800018, 0, 0, 3, \n . 0, 0, 15.5, 1, 5.10000600000001, 0, 9.10000600000001, 0, 0, 0, \n . 0, 0, 8.89999399999999, 0.600006000000008, 8.39999399999999, \n . 1, 3.60000600000001, 0, 0, 0, 0, 0, 4.89999399999999, 0, 0, 0, \n . 0, 0, 0, 9.40000900000001, 4.5, 0, 4.10000600000001, 0, 3.59999099999999, \n . 0, 0, 0, 13.399994, 4, 4.10000600000001, 0, 0, 0, 5.40000900000001, \n . 22, 2.39999399999999, 9.199997, 0, 0, 0, 0, 0.199996999999996, \n . 2.800003, 5, 3.300003, 1.199997, 5.10000600000001, 3.29998799999998, \n . 0, 0, 0, 2.70001200000002, 0.5, 0, 11.199997, 0, 0, 4, 0, 0, \n . 0, 0, 0.400009000000011, 0, 5.79998799999998, 3.60000600000001, \n . 0, 2.199997, 0, 10.299988, 6.40000900000001, 3.800003, 6.29998799999998, \n . 0, 0, 0, 0, 0, 5.199997, 7, 0, 0, 2.199997, 0, 0, 0, 0, 0, 1.60000600000001, \n . 0, 0, 0, 9.199997, 24.800003, 11.100006, 0.399993999999992, 4.800003, \n . 18.099991, 10.5, 0, 0, 0, 0, 2.5, 0, 0, 0, 0.100006000000008, \n . 0, 0, 3.699997, 1.90000900000001, 3.5, 5.39999399999999, 2.60000600000001, \n . 0, 0, 6.5, 0, 3.90000900000001, 1.300003, 11.299988, 3.10000600000001, \n . 0, 2.5, 0, 0.600006000000008, 0, 5.199997, 0, 5.40000900000001, \n . 7.89999399999999, 11.899994, 4.5, 0, 7.79998799999998, 0, 0, \n . 0, 0, 3.90000900000001, 0, 7.300003, 0, 8.39999399999999, 0.5, \n . 1.5, 4.10000600000001, 0, 0, 0, 2.10000600000001, 5.699997, 0, \n . 4.60000600000001, 5.199997, 3.40000900000001, 0, 0, 3.10000600000001, \n . 3.699997, 4.300003, 0, 6.20001200000002, 12.599991, 1.10000600000001, \n . 7.199997, 0, 0, 4, 5.60000600000001, 0, 3.5, 17.300003, 7.89999399999999, \n . 0, 0, 7.39999399999999, 4.79998799999998, 3, 0, 0, 0, 0, 2, 3.89999399999999, \n . 7.10000600000001, 0, 0, 6, 0, 5.5, 0, 0, 0, 15, 0, 7.80001800000002, \n . 0.199981999999977, 1.10000600000001, 0, 0.300018000000023, 8.19998199999998, \n . 12.5, 1.80001800000002, 0, 0, 3.29998799999998, 0, 0, 0, 0, 0.599990999999989, \n . 3.60000600000001, 0, 0, 0, 10.300003, 0, 0, 6.10000600000001, \n . 0, 10, 0, 0, 3.800003, 0, 0, 0, 0, 1, 0, 5.09999099999999, 0, \n . 2.70001200000002, 0, 0, 3.59999099999999, 0, 10.100006, 26, 6.800003, \n . 0, 0, 0, 8.39999399999999, 0, 4.199997, 5.800003, 0, 8, 4, 6.59999099999999, \n . 0, 2.5, 0, 0, 0, 7.90000900000001, 5.89999399999999, 12, 0, 1.300003, \n . 0, 0, 0, 1.40000900000001, 2.89999399999999, 1.60000600000001, \n . 2.29998799999998, 0, 0, 0, 0.700012000000015, 0, 5.60000600000001, \n . 0, 0, 0, 0.300003000000004, 0, 0, 0, 0, 0, 8.39999399999999, \n . 4.90000900000001, 0, 2.5, 0, 2.60000600000001, 0, 0, 1.39999399999999, \n . 0, 1.90000900000001, 0, 7.09999099999999, 0, 1.09999099999999, \n . 3.699997, 0, 6.699997, 7.90000900000001, 2.300003, 3.29998799999998, \n . 0, 1.09999099999999, 7.60000600000001, 1.699997, 0, 5.70001200000002, \n . 1.199997, 3.39999399999999, 1.800003, 0, 5.39999399999999, 2.40000900000001, \n . 0, 0.699996999999996, 8.5, 0, 5.800003, 0, 14.5, 2.199997, 11, \n . 0.600006000000008, 0, 0, 0, 2.199997, 0, 0, 0, 12.199997, 0, \n . 0, 0, 0, 0, 8.300003, 0, 1.89999399999999, 0, 8, 3.39999399999999, \n . 7, 0.399993999999992, 0, 8, 0, 0, 0.100006000000008, 2.199997, \n . 0, 0, 0, 9.300003, 0, 0, 1.800003, 0, 2.40000900000001, 0, 1.5, \n . 3.800003, 0, 0, 7, 3.20001200000002, 8.29998799999998, 3.800003, \n . 1.300003, 0, 0.399993999999992, 1.5, 0, 0, 5.40000900000001, \n . 4.39999399999999, 0, 2.60000600000001, 0, 0, 0, 7.800003, 5.89999399999999, \n . 0, 0, 0, 0, 0, 0, 3.59999099999999, 0, 3.60000600000001, 1.800003, \n . 0, 0, 4.300003, 0, 0, 6.39999399999999, 3.5, 0.400009000000011, \n . 0, 0, 2, 1, 4, 1.10000600000001, 0, 0, 0, 2, 0, 5.199997, 4.300003, \n . 0, 6.10000600000001, 0, 3.5, 6.39999399999999, 3.20001200000002, \n . 0, 0, 0, 0, 0.399993999999992, 0, 0, 1.90000900000001, 0, 0, \n . 0, 2.39999399999999, 6.60000600000001, 0, 0, 0, 0.900009000000011, \n . 0, 0, 7, 0, 0, 0, 3.39999399999999, 0, 7.199997, 2.800003, 0.800003000000004, \n . 1.699997, 4.199997, 0, 4.800003, 1.199997, 1.60000600000001, \n . 0, 0, 1.90000900000001, 0.5, 8.59999099999999, 0, 0, 0, 0, 0, \n . 4.699997, 0, 0, 0, 1.300003, 0.800003000000004, 6.699997, 0, \n . 4.800003, 1.89999399999999, 2.40000900000001, 0, 4.5, 0, 0, 2.800003, \n . 2.5, 1.39999399999999, 2.5, 2.40000900000001, 3.300003, 0, 4.699997, \n . 0.199996999999996, 0, 0, 0, 0, 1.90000900000001, 1.09999099999999, \n . 0, 4.60000600000001, 0, 6.199997, 0, 0.300003000000004, 0, 0, \n . 0, 7.39999399999999, 0, 5.5, 0, 0.800003000000004, 0.899993999999992, \n . 0, 3.300003, 0, 0.800003000000004, 0, 0, 0, 4.09999099999999, \n . 7, 0, 0, 1.199997, 0.199996999999996, 0.600006000000008, 0, 0, \n . 0, 0.899993999999992, 0, 3.699997, 0.199996999999996, 0, 0, 0, \n . 0, 0, 2.099999, 3.699997, 0, 1.699997, 0.200005000000004, 2.299995, \n . 0, 4.699997, 2.10000600000001, 0, 0, 3.39999399999999, 4.90000900000001, \n . 0.300003000000004, 3.89999399999999, 0, 0, 0, 0, 1.199997, 1.300003, \n . 0.100006000000008, 0, 0, 0, 9.5, 4.10000600000001, 0, 0, 0, 1.90000900000001, \n . 0, 0, 0.800003000000004, 0, 4.5, 0, 0, 4.800003, 4, 0, 4, 0, \n . 0, 9.40000900000001, 1.199997, 0, 0, 2, 0, 0, 0, 1.10000600000001, \n . 2.199997, 0, 3.70001200000002, 0, 0, 0, 1.59999099999999, 0, \n . 0, 1, 0, 2.89999399999999, 0.800003000000004, 2.199997, 0, 0, \n . 2, 2.39999399999999, 0, 0, 0, 0, 0, 0, 0, 0, 0, 0, 0, 0, 4.949997, \n . 0, 0, 0, 1.5, 0.650002000000001, 0.949996999999996, 1.800003, \n . 0, 1.550003, 0, 2.5, 2.349998, 1, 0, 0, 0, 0, 1.25, 0, 0, 0, \n . 3.799995, 0, 1.150001, 0, 1.300003, 0, 0, 0, 0, 0.599997999999999, \n . 0, 0.849998999999997, 0, 1.699997, 0, 0, 0, 0.949995999999999, \n . 0.350003000000001, 1.899997, 0, 0, 0, 0, 1.290001, 0, 0, 1.630001, \n . 0, 0.5, 0, 2.75, 0, 2.25, 2, 0, 1.25, 0, 0.5, 3.25, 0, 0, 0, \n . 0, 3.5, 0, 2.5, 3.25, 4.5, 0, 0, 0, 0, 0, 1, 1.5, 1.25, 0, 3, \n . 0, 6.5, 0, 3.75, 6.5, 0, 0.25, 0, 0, 0, 2.75, 0, 2.5, 0, 2.25, \n . 1, 0, 0, 0, 0, 0, 0, 0, 2.25, 5.5, 0, 1, 0, 0, 0, 4, 0, 2.5, \n . 1.5, 0, 3.25, 1.75, 0, 1.25, 0, 2.25, 2.25, 0, 0.5, 0, 0.75, \n . 3.75, 1.5, 0, 3.5, 0, 0, 1.75, 3.75, 2.75, 5, 0.5, 0, 0.75, 3, \n . 0, 0, 3.5, 0, 0, 0, 0.5, 0, 0, 0, 2.25, 0.25, 2.25, 0, 0, 3.25, \n . 0, 0.5, 6.5, 0, 2, 0, 0.75, 0.75, 2, 0, 0, 0, 0, 0, 0, 6.25, \n . 0, 0, 0, 4, 0, 1.75, 0, 0, 3.5, 0, 1.25, 0, 1, 5, 1.75, 0, 0, \n . 1.5, 0, 0, 2.5, 0, 0, 0, 1.5, 3.75, 0, 5, 0, 0, 0, 2.5, 1.75, \n . 3.75, 0, 0, 0.5, 5, 0.5, 2.5, 0, 2.5, 1.5, 0, 0, 0, 4, 0.5, 1.5, \n . 0.75, 0, 0, 5.25, 0, 2.5, 0, 1.25, 0, 0, 2.5, 0.5, 0.5, 0, 0, \n . 0, 1.75, 3.5, 1.25, 0, 0, 1, 1, 0, 1, 2.5, 0, 0, 3, 0, 0, 2.5, \n . 0, 1, 0, 0, 0, 3.25, 0, 0, 1.5, 1, 0, 0, 1.75, 0, 0, 0.25, 2, \n . 0, 3, 0, 0.75, 0, 0, 2.25, 0, 0.25, 0, 0, 0.25, 0, 0, 1.25, 0, \n . 0, 0, 0.5, 0, 0.25, 0, 0, 0, 0, 0, 0, 0, 0, 0, 2.5, 2, 0, 2.25, \n . 0.75, 1, 0, 0.75, 0, 0, 0.75, 0, 0.5, 0, 0, 0, 0, 0.75, 0, 0, \n . 2, 0, 1, 0, 0.75, 0, 1.25, 0.75, 0.5, 0, 1, 0, 1.5, 0, 0, 0, \n . 0, 0.5, 0, 0.5, 0.75, 0, 0, 1.5, 2.75, 0, 1.75, 0, 0.25, 0, 2.5, \n . 6, 7.5, 3.5, 0, 0, 0, 0, 1.25, 0, 0, 2.75, 0, 0.5, 0, 0, 0, 0, \n . 1, 1, 0, 1, 0, 1.75, 0, 0.5, 1.75, 2, 2.5, 0, 0, 0.5, 1.25, 3.75, \n . 0.5, 0, 1, 0, 2, 1, 0, 0, 0, 0.75, 0, 0, 0, 1.5, 0, 0, 0, 0, \n . 0.25, 0, 0, 1, 0, 1, 1.25, 0.25, 0, 0.25, 1.25, 0, 1.25, 0, 0, \n . 1, 0, 0, 0, 0.5, 0, 0.75, 0, 0, 1.5, 0, 0, 0, 1.5, 0.25, 0, 1.25, \n . 1.75, 0, 0, 0, 1.75, 0.75, 3.5, 2, 0, 0, 1, 0, 0.5, 1.5, 0, 0.75, \n . 0.25, 0, 3.5, 2.5, 8, 0, 3.75, 0, 4.25, 3, 17.75, 0, 0, 0.5, \n . 1.5, 0, 2.5, 2, 0, 1.25, 2.25, 0, 0, 0, 0, 0, 3.5, 0, 2, 0, 4, \n . 0, 0, 0, 0, 1.25, 2.75, 1, 7, 0, 1, 5, 2, 0, 0, 0, 4, 0, 0.25, \n . 1.25, 0.75, 2, 1.75, 3.25, 0.75, 9.25, 0, 7, 2.25, 5.25, 6, 6, \n . 0, 0, 7.5, 0.75, 0, 0, 0, 6.5, 0, 0, 0, 2.25, 0, 10.25, 5, 4, \n . 0, 4.75, 0, 0.75, 0, 5.25, 7, 3, 6, 0, 11, 4.5, 0, 0, 0, 18.5, \n . 0, 4, 6.75, 0, 1.25, 0, 8.75, 2, 0, 0, 1.800003, 0, 2.699997, \n . 0, 0, 3, 0, 0, 0.600006000000008, 0, 0, 5.59999099999999, 5, \n . 0.800003000000004, 0, 0, 0, 0, 10, 0, 0, 7.29998799999998, 3.60000600000001, \n . 7.5, 0, 9.39999399999999, 0.800003000000004, 7, 6, 0, 0.300003000000004, \n . 0, 9.300003, 0, 0, 12, 7.199997, 1.90000900000001, 0, 0, 0, 0.0999909999999886, \n . 2.10000600000001, 0, 0, 0, 0, 0.399993999999992, 3.40000900000001, \n . 0, 0, 0.100006000000008, 0, 0, 0, 9, 4.10000600000001, 0, 11.400009, \n . 9.5, 1.5, 2.59999099999999, 0, 6.39999399999999, 0, 0, 0, 5.40000900000001, \n . 0, 8.59999099999999, 0, 0, 2.5, 0, 1, 0, 0, 0, 0, 0, 0, 11, 1.5, \n . 0, 5, 0, 6.699997, 0, 4.70001200000002, 0, 0, 0, 3.10000600000001, \n . 0, 9.5, 6.5, 0, 0, 8.199997, 5, 0, 0, 2.5, 5.699997, 1.10000600000001, \n . 0, 6.300003, 0, 9.300003, 0, 3.699997, 0, 0, 0, 9.60000600000001, \n . 8.39999399999999, 9.10000600000001, 0, 2, 0, 0, 5, 2.199997, \n . 0, 3.35000600000001, 1.75, 2.199997, 1.199997, 11.800003, 2.395004, \n . 0.00498999999999228, 3.300003, 2.10000600000001, 0.800003000000004, \n . 0, 0, 3.5, 0, 4.800003, 2.10000600000001, 2.52398700000001, 2.77600099999998, \n . 0.100006000000008, 4.39999399999999, 2.40000900000001, 0, 0, \n . 10.300003, 9, 0, 0, 3.89999399999999, 1.699997, 6.20001200000002, \n . 0, 5.699997, 9, 13, 5, 2.70001200000002, 0, 0, 7.39999399999999, \n . 0, 12.200012, 0, 2.90002400000003, 3.79998799999998, 8.70001200000002, \n . 0, 6.10000600000001, 0, 5, 3, 4, 9.29998799999998, 2.90002400000003, \n . 0, 1.79998799999998, 0, 0, 8.89999399999999, 10.100006, 0, 0, \n . 4.60000600000001, 0, 0.899993999999992, 0, 0, 0, 0, 1.20001200000002, \n . 7.79998799999998, 3.70001200000002, 4.79998799999998, 2.60000600000001, \n . 8.29998799999998, 0, 0, 3.89999399999999, 0, 0, 0, 13.899994, \n . 16.300018, 0, 0, 0.199981999999977, 3.20001200000002, 0, 2.89999399999999, \n . 0, 0, 0, 0, 2.09999099999999, 2.30001800000002, 3.39999399999999, \n . 1, 0, 13.899994, 0, 1.20001200000002, 0, 6.19998199999998, 0, \n . 0, 0.199996999999996, 2.199997, 4, 6.800003, 0, 9.20001200000002, \n . 0.5, 0, 0, 0, 0, 5.10000600000001, 4.199997, 0, 0, 1.10000600000001, \n . 8.10000600000001, 4.39999399999999, 10.899994, 0, 0, 3.79998799999998, \n . 3.39999399999999, 10, 2.90002400000003, 5.29998799999998, 3.10000600000001, \n . 0), index = structure(c(1181865600, 1182124800, 1182211200, 1182297600, \n . 1182384000, 1182470400, 1182729600, 1182816000, 1182902400, 1182988800, \n . 1183075200, 1183334400, 1183420800, 1183507200, 1183593600, 1183680000, \n . 1183939200, 1184025600, 1184112000, 1184198400, 1184284800, 1184544000, \n . 1184630400, 1184716800, 1184803200, 1184889600, 1185148800, 1185235200, \n . 1185321600, 1185408000, 1185494400, 1185753600, 1185840000, 1185926400, \n . 1186012800, 1186099200, 1186358400, 1186444800, 1186531200, 1186617600, \n . 1186704000, 1186963200, 1187049600, 1187136000, 1187222400, 1187308800, \n . 1187568000, 1187654400, 1187740800, 1187827200, 1187913600, 1188259200, \n . 1188345600, 1188432000, 1188518400, 1188777600, 1188864000, 1188950400, \n . 1189036800, 1189123200, 1189382400, 1189468800, 1189555200, 1189641600, \n . 1189728000, 1189987200, 1190073600, 1190160000, 1190246400, 1190332800, \n . 1190592000, 1190678400, 1190764800, 1190851200, 1190937600, 1191196800, \n . 1191283200, 1191369600, 1191456000, 1191542400, 1191801600, 1191888000, \n . 1191974400, 1192060800, 1192147200, 1192406400, 1192492800, 1192579200, \n . 1192665600, 1192752000, 1193011200, 1193097600, 1193184000, 1193270400, \n . 1193356800, 1193616000, 1193702400, 1193788800, 1193875200, 1193961600, \n . 1194220800, 1194307200, 1194393600, 1194480000, 1194566400, 1194825600, \n . 1194912000, 1194998400, 1195084800, 1195171200, 1195430400, 1195516800, \n . 1195603200, 1195689600, 1195776000, 1196035200, 1196121600, 1196208000, \n . 1196294400, 1196380800, 1196640000, 1196726400, 1196812800, 1196899200, \n . 1196985600, 1197244800, 1197331200, 1197417600, 1197504000, 1197590400, \n . 1197849600, 1197936000, 1198022400, 1198108800, 1198195200, 1198454400, \n . 1198713600, 1198800000, 1199059200, 1199232000, 1199318400, 1199404800, \n . 1199664000, 1199750400, 1199836800, 1199923200, 1200009600, 1200268800, \n . 1200355200, 1200441600, 1200528000, 1200614400, 1200873600, 1200960000, \n . 1201046400, 1201132800, 1201219200, 1201478400, 1201564800, 1201651200, \n . 1201737600, 1201824000, 1202083200, 1202169600, 1202256000, 1202342400, \n . 1202428800, 1202688000, 1202774400, 1202860800, 1202947200, 1203033600, \n . 1203292800, 1203379200, 1203465600, 1203552000, 1203638400, 1203897600, \n . 1203984000, 1204070400, 1204156800, 1204243200, 1204502400, 1204588800, \n . 1204675200, 1204761600, 1204848000, 1205107200, 1205193600, 1205280000, \n . 1205366400, 1205452800, 1205712000, 1205798400, 1205884800, 1205971200, \n . 1206403200, 1206489600, 1206576000, 1206662400, 1206921600, 1207008000, \n . 1207094400, 1207180800, 1207267200, 1207526400, 1207612800, 1207699200, \n . 1207785600, 1207872000, 1208131200, 1208217600, 1208304000, 1208390400, \n . 1208476800, 1208736000, 1208822400, 1208908800, 1208995200, 1209081600, \n . 1209340800, 1209427200, 1209513600, 1209600000, 1209686400, 1210032000, \n . 1210118400, 1210204800, 1210291200, 1210550400, 1210636800, 1210723200, \n . 1210809600, 1210896000, 1211155200, 1211241600, 1211328000, 1211414400, \n . 1211500800, 1211846400, 1211932800, 1212019200, 1212105600, 1212364800, \n . 1212451200, 1212537600, 1212624000, 1212710400, 1212969600, 1213056000, \n . 1213142400, 1213228800, 1213315200, 1213574400, 1213660800, 1213747200, \n . 1213833600, 1213920000, 1214179200, 1214265600, 1214352000, 1214438400, \n . 1214524800, 1214784000, 1214870400, 1214956800, 1215043200, 1215129600, \n . 1215388800, 1215475200, 1215561600, 1215648000, 1215734400, 1215993600, \n . 1216080000, 1216166400, 1216252800, 1216339200, 1216598400, 1216684800, \n . 1216771200, 1216857600, 1216944000, 1217203200, 1217289600, 1217376000, \n . 1217462400, 1217548800, 1217808000, 1217894400, 1217980800, 1218067200, \n . 1218153600, 1218412800, 1218499200, 1218585600, 1218672000, 1218758400, \n . 1219017600, 1219104000, 1219190400, 1219276800, 1219363200, 1219708800, \n . 1219795200, 1219881600, 1219968000, 1220227200, 1220313600, 1220400000, \n . 1220486400, 1220572800, 1220832000, 1220918400, 1221004800, 1221091200, \n . 1221177600, 1221436800, 1221523200, 1221609600, 1221696000, 1221782400, \n . 1222041600, 1222128000, 1222214400, 1222300800, 1222387200, 1222646400, \n . 1222732800, 1222819200, 1222905600, 1222992000, 1223251200, 1223337600, \n . 1223424000, 1223510400, 1223596800, 1223856000, 1223942400, 1224028800, \n . 1224115200, 1224201600, 1224460800, 1224547200, 1224633600, 1224720000, \n . 1224806400, 1225065600, 1225152000, 1225238400, 1225324800, 1225411200, \n . 1225670400, 1225756800, 1225843200, 1225929600, 1226016000, 1226275200, \n . 1226361600, 1226448000, 1226534400, 1226620800, 1226880000, 1226966400, \n . 1227052800, 1227139200, 1227225600, 1227484800, 1227571200, 1227657600, \n . 1227744000, 1227830400, 1228089600, 1228176000, 1228262400, 1228348800, \n . 1228435200, 1228694400, 1228780800, 1228867200, 1228953600, 1229040000, \n . 1229299200, 1229385600, 1229472000, 1229558400, 1229644800, 1229904000, \n . 1229990400, 1230076800, 1230508800, 1230595200, 1230681600, 1230854400, \n . 1231113600, 1231200000, 1231286400, 1231372800, 1231459200, 1231718400, \n . 1231804800, 1231891200, 1231977600, 1232064000, 1232323200, 1232409600, \n . 1232496000, 1232582400, 1232668800, 1232928000, 1233014400, 1233100800, \n . 1233187200, 1233273600, 1233532800, 1233619200, 1233705600, 1233792000, \n . 1233878400, 1234137600, 1234224000, 1234310400, 1234396800, 1234483200, \n . 1234742400, 1234828800, 1234915200, 1235001600, 1235088000, 1235347200, \n . 1235433600, 1235520000, 1235606400, 1235692800, 1235952000, 1236038400, \n . 1236124800, 1236211200, 1236297600, 1236556800, 1236643200, 1236729600, \n . 1236816000, 1236902400, 1237161600, 1237248000, 1237334400, 1237420800, \n . 1237507200, 1237766400, 1237852800, 1237939200, 1238025600, 1238112000, \n . 1238371200, 1238457600, 1238544000, 1238630400, 1238716800, 1238976000, \n . 1239062400, 1239148800, 1239235200, 1239667200, 1239753600, 1239840000, \n . 1239926400, 1240185600, 1240272000, 1240358400, 1240444800, 1240531200, \n . 1240790400, 1240876800, 1240963200, 1241049600, 1241136000, 1241481600, \n . 1241568000, 1241654400, 1241740800, 1.242e+09, 1242086400, 1242172800, \n . 1242259200, 1242345600, 1242604800, 1242691200, 1242777600, 1242864000, \n . 1242950400, 1243296000, 1243382400, 1243468800, 1243555200, 1243814400, \n . 1243900800, 1243987200, 1244073600, 1244160000, 1244419200, 1244505600, \n . 1244592000, 1244678400, 1244764800, 1245024000, 1245110400, 1245196800, \n . 1245283200, 1245369600, 1245628800, 1245715200, 1245801600, 1245888000, \n . 1245974400, 1246233600, 1246320000, 1246406400, 1246492800, 1246579200, \n . 1246838400, 1246924800, 1247011200, 1247097600, 1247184000, 1247443200, \n . 1247529600, 1247616000, 1247702400, 1247788800, 1248048000, 1248134400, \n . 1248220800, 1248307200, 1248393600, 1248652800, 1248739200, 1248825600, \n . 1248912000, 1248998400, 1249257600, 1249344000, 1249430400, 1249516800, \n . 1249603200, 1249862400, 1249948800, 1250035200, 1250121600, 1250208000, \n . 1250467200, 1250553600, 1250640000, 1250726400, 1250812800, 1251072000, \n . 1251158400, 1251244800, 1251331200, 1251417600, 1251763200, 1251849600, \n . 1251936000, 1252022400, 1252281600, 1252368000, 1252454400, 1252540800, \n . 1252627200, 1252886400, 1252972800, 1253059200, 1253145600, 1253232000, \n . 1253491200, 1253577600, 1253664000, 1253750400, 1253836800, 1254096000, \n . 1254182400, 1254268800, 1254355200, 1254441600, 1254700800, 1254787200, \n . 1254873600, 1254960000, 1255046400, 1255305600, 1255392000, 1255478400, \n . 1255564800, 1255651200, 1255910400, 1255996800, 1256083200, 1256169600, \n . 1256256000, 1256515200, 1256601600, 1256688000, 1256774400, 1256860800, \n . 1257120000, 1257206400, 1257292800, 1257379200, 1257465600, 1257724800, \n . 1257811200, 1257897600, 1257984000, 1258070400, 1258329600, 1258416000, \n . 1258502400, 1258588800, 1258675200, 1258934400, 1259020800, 1259107200, \n . 1259193600, 1259280000, 1259539200, 1259625600, 1259712000, 1259798400, \n . 1259884800, 1260144000, 1260230400, 1260316800, 1260403200, 1260489600, \n . 1260748800, 1260835200, 1260921600, 1261008000, 1261094400, 1261353600, \n . 1261440000, 1261526400, 1261612800, 1262044800, 1262131200, 1262217600, \n . 1262563200, 1262649600, 1262736000, 1262822400, 1262908800, 1263168000, \n . 1263254400, 1263340800, 1263427200, 1263513600, 1263772800, 1263859200, \n . 1263945600, 1264032000, 1264118400, 1264377600, 1264464000, 1264550400, \n . 1264636800, 1264723200, 1264982400, 1265068800, 1265155200, 1265241600, \n . 1265328000, 1265587200, 1265673600, 1265760000, 1265846400, 1265932800, \n . 1266192000, 1266278400, 1266364800, 1266451200, 1266537600, 1266796800, \n . 1266883200, 1266969600, 1267056000, 1267142400, 1267401600, 1267488000, \n . 1267574400, 1267660800, 1267747200, 1268006400, 1268092800, 1268179200, \n . 1268265600, 1268352000, 1268611200, 1268697600, 1268784000, 1268870400, \n . 1268956800, 1269216000, 1269302400, 1269388800, 1269475200, 1269561600, \n . 1269820800, 1269907200, 1269993600, 1270080000, 1270512000, 1270598400, \n . 1270684800, 1270771200, 1271030400, 1271116800, 1271203200, 1271289600, \n . 1271376000, 1271635200, 1271721600, 1271808000, 1271894400, 1271980800, \n . 1272240000, 1272326400, 1272412800, 1272499200, 1272585600, 1272931200, \n . 1273017600, 1273104000, 1273190400, 1273449600, 1273536000, 1273622400, \n . 1273708800, 1273795200, 1274054400, 1274140800, 1274227200, 1274313600, \n . 1274400000, 1274659200, 1274745600, 1274832000, 1274918400, 1275004800, \n . 1275350400, 1275436800, 1275523200, 1275609600, 1275868800, 1275955200, \n . 1276041600, 1276128000, 1276214400, 1276473600, 1276560000, 1276646400, \n . 1276732800, 1276819200, 1277078400, 1277164800, 1277251200, 1277337600, \n . 1277424000, 1277683200, 1277769600, 1277856000, 1277942400, 1278028800, \n . 1278288000, 1278374400, 1278460800, 1278547200, 1278633600, 1278892800, \n . 1278979200, 1279065600, 1279152000, 1279238400, 1279497600, 1279584000, \n . 1279670400, 1279756800, 1279843200, 1280102400, 1280188800, 1280275200, \n . 1280361600, 1280448000, 1280707200, 1280793600, 1280880000, 1280966400, \n . 1281052800, 1281312000, 1281398400, 1281484800, 1281571200, 1281657600, \n . 1281916800, 1282003200, 1282089600, 1282176000, 1282262400, 1282521600, \n . 1282608000, 1282694400, 1282780800, 1282867200, 1283212800, 1283299200, \n . 1283385600, 1283472000, 1283731200, 1283817600, 1283904000, 1283990400, \n . 1284076800, 1284336000, 1284422400, 1284508800, 1284595200, 1284681600, \n . 1284940800, 1285027200, 1285113600, 1285200000, 1285286400, 1285545600, \n . 1285632000, 1285718400, 1285804800, 1285891200, 1286150400, 1286236800, \n . 1286323200, 1286409600, 1286496000, 1286755200, 1286841600, 1286928000, \n . 1287014400, 1287100800, 1287360000, 1287446400, 1287532800, 1287619200, \n . 1287705600, 1287964800, 1288051200, 1288137600, 1288224000, 1288310400, \n . 1288569600, 1288656000, 1288742400, 1288828800, 1288915200, 1289174400, \n . 1289260800, 1289347200, 1289433600, 1289520000, 1289779200, 1289865600, \n . 1289952000, 1290038400, 1290124800, 1290384000, 1290470400, 1290556800, \n . 1290643200, 1290729600, 1290988800, 1291075200, 1291161600, 1291248000, \n . 1291334400, 1291593600, 1291680000, 1291766400, 1291852800, 1291939200, \n . 1292198400, 1292284800, 1292371200, 1292457600, 1292544000, 1292803200, \n . 1292889600, 1292976000, 1293062400, 1293148800, 1293580800, 1293667200, \n . 1293753600, 1294099200, 1294185600, 1294272000, 1294358400, 1294617600, \n . 1294704000, 1294790400, 1294876800, 1294963200, 1295222400, 1295308800, \n . 1295395200, 1295481600, 1295568000, 1295827200, 1295913600, 1.296e+09, \n . 1296086400, 1296172800, 1296432000, 1296518400, 1296604800, 1296691200, \n . 1296777600, 1297036800, 1297123200, 1297209600, 1297296000, 1297382400, \n . 1297641600, 1297728000, 1297814400, 1297900800, 1297987200, 1298246400, \n . 1298332800, 1298419200, 1298505600, 1298592000, 1298851200, 1298937600, \n . 1299024000, 1299110400, 1299196800, 1299456000, 1299542400, 1299628800, \n . 1299715200, 1299801600, 1300060800, 1300147200, 1300233600, 1300320000, \n . 1300406400, 1300665600, 1300752000, 1300838400, 1300924800, 1301011200, \n . 1301270400, 1301356800, 1301443200, 1301529600, 1301616000, 1301875200, \n . 1301961600, 1302048000, 1302134400, 1302220800, 1302480000, 1302566400, \n . 1302652800, 1302739200, 1302825600, 1303084800, 1303171200, 1303257600, \n . 1303344000, 1303776000, 1303862400, 1303948800, 1304035200, 1304380800, \n . 1304467200, 1304553600, 1304640000, 1304899200, 1304985600, 1305072000, \n . 1305158400, 1305244800, 1305504000, 1305590400, 1305676800, 1305763200, \n . 1305849600, 1306108800, 1306195200, 1306281600, 1306368000, 1306454400, \n . 1306800000, 1306886400, 1306972800, 1307059200, 1307318400, 1307404800, \n . 1307491200, 1307577600, 1307664000, 1307923200, 1308009600, 1308096000, \n . 1308182400, 1308268800, 1308528000, 1308614400, 1308700800, 1308787200, \n . 1308873600, 1309132800, 1309219200, 1309305600, 1309392000, 1309478400, \n . 1309737600, 1309824000, 1309910400, 1309996800, 1310083200, 1310342400, \n . 1310428800, 1310515200, 1310601600, 1310688000, 1310947200, 1311033600, \n . 1311120000, 1311206400, 1311292800, 1311552000, 1311638400, 1311724800, \n . 1311811200, 1311897600, 1312156800, 1312243200, 1312329600, 1312416000, \n . 1312502400, 1312761600, 1312848000, 1312934400, 1313020800, 1313107200, \n . 1313366400, 1313452800, 1313539200, 1313625600, 1313712000, 1313971200, \n . 1314057600, 1314144000, 1314230400, 1314316800, 1314662400, 1314748800, \n . 1314835200, 1314921600, 1315180800, 1315267200, 1315353600, 1315440000, \n . 1315526400, 1315785600, 1315872000, 1315958400, 1316044800, 1316131200, \n . 1316390400, 1316476800, 1316563200, 1316649600, 1316736000, 1316995200, \n . 1317081600, 1317168000, 1317254400, 1317340800, 1317600000, 1317686400, \n . 1317772800, 1317859200, 1317945600, 1318204800, 1318291200, 1318377600, \n . 1318464000, 1318550400, 1318809600, 1318896000, 1318982400, 1319068800, \n . 1319155200, 1319414400, 1319500800, 1319587200, 1319673600, 1319760000, \n . 1320019200, 1320105600, 1320192000, 1320278400, 1320364800, 1320624000, \n . 1320710400, 1320796800, 1320883200, 1320969600, 1321228800, 1321315200, \n . 1321401600, 1321488000, 1321574400, 1321833600, 1321920000, 1322006400, \n . 1322092800, 1322179200, 1322438400, 1322524800, 1322611200, 1322697600, \n . 1322784000, 1323043200, 1323129600, 1323216000, 1323302400, 1323388800, \n . 1323648000, 1323734400, 1323820800, 1323907200, 1323993600, 1324252800, \n . 1324339200, 1324425600, 1324512000, 1324598400, 1325030400, 1325116800, \n . 1325203200, 1325548800, 1325635200, 1325721600, 1325808000, 1326067200, \n . 1326153600, 1326240000, 1326326400, 1326412800, 1326672000, 1326758400, \n . 1326844800, 1326931200, 1327017600, 1327276800, 1327363200, 1327449600, \n . 1327536000, 1327622400, 1327881600, 1327968000, 1328054400, 1328140800, \n . 1328227200, 1328486400, 1328572800, 1328659200, 1328745600, 1328832000, \n . 1329091200, 1329177600, 1329264000, 1329350400, 1329436800, 1329696000, \n . 1329782400, 1329868800, 1329955200, 1330041600, 1330300800, 1330387200, \n . 1330473600, 1330560000, 1330646400, 1330905600, 1330992000, 1331078400, \n . 1331164800, 1331251200, 1331510400, 1331596800, 1331683200, 1331769600, \n . 1331856000, 1332115200, 1332201600, 1332288000, 1332374400, 1332460800, \n . 1332720000, 1332806400, 1332892800, 1332979200, 1333065600, 1333324800, \n . 1333411200, 1333497600, 1333584000, 1334016000, 1334102400, 1334188800, \n . 1334275200, 1334534400, 1334620800, 1334707200, 1334793600, 1334880000, \n . 1335139200, 1335225600, 1335312000, 1335398400, 1335484800, 1335744000, \n . 1335830400, 1335916800, 1336003200, 1336089600, 1336435200, 1336521600, \n . 1336608000, 1336694400, 1336953600, 1337040000, 1337126400, 1337212800, \n . 1337299200, 1337558400, 1337644800, 1337731200, 1337817600, 1337904000, \n . 1338249600, 1338336000, 1338422400, 1338508800, 1338940800, 1339027200, \n . 1339113600, 1339372800, 1339459200, 1339545600, 1339632000, 1339718400, \n . 1339977600, 1340064000, 1340150400, 1340236800, 1340323200, 1340582400, \n . 1340668800, 1340755200, 1340841600, 1340928000, 1341187200, 1341273600, \n . 1341360000, 1341446400, 1341532800, 1341792000, 1341878400, 1341964800, \n . 1342051200, 1342137600, 1342396800, 1342483200, 1342569600, 1342656000, \n . 1342742400, 1343001600, 1343088000, 1343174400, 1343260800, 1343347200, \n . 1343606400, 1343692800, 1343779200, 1343865600, 1343952000, 1344211200, \n . 1344297600, 1344384000, 1344470400, 1344556800, 1344816000, 1344902400, \n . 1344988800, 1345075200, 1345161600, 1345420800, 1345507200, 1345593600, \n . 1345680000, 1345766400, 1346112000, 1346198400, 1346284800, 1346371200, \n . 1346630400, 1346716800, 1346803200, 1346889600, 1346976000, 1347235200, \n . 1347321600, 1347408000, 1347494400, 1347580800, 1347840000, 1347926400, \n . 1348012800, 1348099200, 1348185600, 1348444800, 1348531200, 1348617600, \n . 1348704000, 1348790400, 1349049600, 1349136000, 1349222400, 1349308800, \n . 1349395200, 1349654400, 1349740800, 1349827200, 1349913600, 1.35e+09, \n . 1350259200, 1350345600, 1350432000, 1350518400, 1350604800, 1350864000, \n . 1350950400, 1351036800, 1351123200, 1351209600, 1351468800, 1351555200, \n . 1351641600, 1351728000, 1351814400, 1352073600, 1352160000, 1352246400, \n . 1352332800, 1352419200, 1352678400, 1352764800, 1352851200, 1352937600, \n . 1353024000, 1353283200, 1353369600, 1353456000, 1353542400, 1353628800, \n . 1353888000, 1353974400, 1354060800, 1354147200, 1354233600, 1354492800, \n . 1354579200, 1354665600, 1354752000, 1354838400, 1355097600, 1355184000, \n . 1355270400, 1355356800, 1355443200, 1355702400, 1355788800, 1355875200, \n . 1355961600, 1356048000, 1356307200, 1356566400, 1356652800, 1356912000, \n . 1357084800, 1357171200, 1357257600, 1357516800, 1357603200, 1357689600, \n . 1357776000, 1357862400, 1358121600, 1358208000, 1358294400, 1358380800, \n . 1358467200, 1358726400, 1358812800, 1358899200, 1358985600, 1359072000, \n . 1359331200, 1359417600, 1359504000, 1359590400, 1359676800, 1359936000, \n . 1360022400, 1360108800, 1360195200, 1360281600, 1360540800, 1360627200, \n . 1360713600, 1360800000, 1360886400, 1361145600, 1361232000, 1361318400, \n . 1361404800, 1361491200, 1361750400, 1361836800, 1361923200, 1362009600, \n . 1362096000, 1362355200, 1362441600, 1362528000, 1362614400, 1362700800, \n . 1362960000, 1363046400, 1363132800, 1363219200, 1363305600, 1363564800, \n . 1363651200, 1363737600, 1363824000, 1363910400, 1364169600, 1364256000, \n . 1364342400, 1364428800, 1364860800, 1364947200, 1365033600, 1365120000, \n . 1365379200, 1365465600, 1365552000, 1365638400, 1365724800, 1365984000, \n . 1366070400, 1366156800, 1366243200, 1366329600, 1366588800, 1366675200, \n . 1366761600, 1366848000, 1366934400, 1367193600, 1367280000, 1367366400, \n . 1367452800, 1367539200, 1367884800, 1367971200, 1368057600, 1368144000, \n . 1368403200, 1368489600, 1368576000, 1368662400, 1368748800, 1369008000, \n . 1369094400, 1369180800, 1369267200, 1369353600, 1369699200, 1369785600, \n . 1369872000, 1369958400, 1370217600, 1370304000, 1370390400, 1370476800, \n . 1370563200, 1370822400, 1370908800, 1370995200, 1371081600, 1371168000, \n . 1371427200, 1371513600, 1371600000, 1371686400, 1371772800, 1372032000, \n . 1372118400, 1372204800, 1372291200, 1372377600, 1372636800, 1372723200, \n . 1372809600, 1372896000, 1372982400, 1373241600, 1373328000, 1373414400, \n . 1373500800, 1373587200, 1373846400, 1373932800, 1374019200, 1374105600, \n . 1374192000, 1374451200, 1374537600, 1374624000, 1374710400, 1374796800, \n . 1375056000, 1375142400, 1375228800, 1375315200, 1375401600, 1375660800, \n . 1375747200, 1375833600, 1375920000, 1376006400, 1376265600, 1376352000, \n . 1376438400, 1376524800, 1376611200, 1376870400, 1376956800, 1377043200, \n . 1377129600, 1377216000, 1377561600, 1377648000, 1377734400, 1377820800, \n . 1378080000, 1378166400, 1378252800, 1378339200, 1378425600, 1378684800, \n . 1378771200, 1378857600, 1378944000, 1379030400, 1379289600, 1379376000, \n . 1379462400, 1379548800, 1379635200, 1379894400, 1379980800, 1380067200, \n . 1380153600, 1380240000, 1380499200, 1380585600, 1380672000, 1380758400, \n . 1380844800, 1381104000, 1381190400, 1381276800, 1381363200, 1381449600, \n . 1381708800, 1381795200, 1381881600, 1381968000, 1382054400, 1382313600, \n . 1382400000, 1382486400, 1382572800, 1382659200, 1382918400, 1383004800, \n . 1383091200, 1383177600, 1383264000, 1383523200, 1383609600, 1383696000, \n . 1383782400, 1383868800, 1384128000, 1384214400, 1384300800, 1384387200, \n . 1384473600, 1384732800, 1384819200, 1384905600, 1384992000, 1385078400, \n . 1385337600, 1385424000, 1385510400, 1385596800, 1385683200, 1385942400, \n . 1386028800, 1386115200, 1386201600, 1386288000, 1386547200, 1386633600, \n . 1386720000, 1386806400, 1386892800, 1387152000, 1387238400, 1387324800, \n . 1387411200, 1387497600, 1387756800, 1387843200, 1388102400, 1388361600, \n . 1388448000, 1388620800, 1388707200, 1388966400, 1389052800, 1389139200, \n . 1389225600, 1389312000, 1389571200, 1389657600, 1389744000, 1389830400, \n . 1389916800, 1390176000, 1390262400, 1390348800, 1390435200, 1390521600, \n . 1390780800, 1390867200, 1390953600, 1391040000, 1391126400, 1391385600, \n . 1391472000, 1391558400, 1391644800, 1391731200, 1391990400, 1392076800, \n . 1392163200, 1392249600, 1392336000, 1392595200, 1392681600, 1392768000, \n . 1392854400, 1392940800, 1393200000, 1393286400, 1393372800, 1393459200, \n . 1393545600, 1393804800, 1393891200, 1393977600, 1394064000, 1394150400, \n . 1394409600, 1394496000, 1394582400, 1394668800, 1394755200, 1395014400, \n . 1395100800, 1395187200, 1395273600, 1395360000, 1395619200, 1395705600, \n . 1395792000, 1395878400, 1395964800, 1396224000, 1396310400, 1396396800, \n . 1396483200, 1396569600, 1396828800, 1396915200, 1397001600, 1397088000, \n . 1397174400, 1397433600, 1397520000, 1397606400, 1397692800, 1398124800, \n . 1398211200, 1398297600, 1398384000, 1398643200, 1398729600, 1398816000, \n . 1398902400, 1398988800, 1399334400, 1399420800, 1399507200, 1399593600, \n . 1399852800, 1399939200, 1400025600, 1400112000, 1400198400, 1400457600, \n . 1400544000, 1400630400, 1400716800, 1400803200, 1401148800, 1401235200, \n . 1401321600, 1401408000, 1401667200, 1401753600, 1401840000, 1401926400, \n . 1402012800, 1402272000, 1402358400, 1402444800, 1402531200, 1402617600, \n . 1402876800, 1402963200, 1403049600, 1403136000, 1403222400, 1403481600, \n . 1403568000, 1403654400, 1403740800, 1403827200, 1404086400, 1404172800, \n . 1404259200, 1404345600, 1404432000, 1404691200, 1404777600, 1404864000, \n . 1404950400, 1405036800, 1405296000, 1405382400, 1405468800, 1405555200, \n . 1405641600, 1405900800, 1405987200, 1406073600, 1406160000, 1406246400, \n . 1406505600, 1406592000, 1406678400, 1406764800, 1406851200, 1407110400, \n . 1407196800, 1407283200, 1407369600, 1407456000, 1407715200, 1407801600, \n . 1407888000, 1407974400, 1408060800, 1408320000, 1408406400, 1408492800, \n . 1408579200, 1408665600, 1409011200, 1409097600, 1409184000, 1409270400, \n . 1409529600, 1409616000, 1409702400, 1409788800, 1409875200, 1410134400, \n . 1410220800, 1410307200, 1410393600, 1410480000, 1410739200, 1410825600, \n . 1410912000, 1410998400, 1411084800, 1411344000, 1411430400, 1411516800, \n . 1411603200, 1411689600, 1411948800, 1412035200, 1412121600, 1412208000, \n . 1412294400, 1412553600, 1412640000, 1412726400, 1412812800, 1412899200, \n . 1413158400, 1413244800, 1413331200, 1413417600, 1413504000, 1413763200, \n . 1413849600, 1413936000, 1414022400, 1414108800, 1414368000, 1414454400, \n . 1414540800, 1414627200, 1414713600, 1414972800, 1415059200, 1415145600, \n . 1415232000, 1415318400, 1415577600, 1415664000, 1415750400, 1415836800, \n . 1415923200, 1416182400, 1416268800, 1416355200, 1416441600, 1416528000, \n . 1416787200, 1416873600, 1416960000, 1417046400, 1417132800, 1417392000, \n . 1417478400, 1417564800, 1417651200, 1417737600, 1417996800, 1418083200, \n . 1418169600, 1418256000, 1418342400, 1418601600, 1418688000, 1418774400, \n . 1418860800, 1418947200, 1419206400, 1419292800, 1419379200, 1419811200, \n . 1419897600, 1419984000, 1420156800, 1420416000, 1420502400, 1420588800, \n . 1420675200, 1420761600, 1421020800, 1421107200, 1421193600, 1421280000, \n . 1421366400, 1421625600, 1421712000, 1421798400, 1421884800, 1421971200, \n . 1422230400, 1422316800, 1422403200, 1422489600, 1422576000, 1422835200, \n . 1422921600, 1423008000, 1423094400, 1423180800, 1423440000, 1423526400, \n . 1423612800, 1423699200, 1423785600, 1424044800, 1424131200, 1424217600, \n . 1424304000, 1424390400, 1424649600, 1424736000, 1424822400, 1424908800, \n . 1424995200, 1425254400, 1425340800, 1425427200, 1425513600, 1425600000, \n . 1425859200, 1425945600, 1426032000, 1426118400, 1426204800, 1426464000, \n . 1426550400, 1426636800, 1426723200, 1426809600, 1427068800, 1427155200, \n . 1427241600, 1427328000, 1427414400, 1427673600, 1427760000, 1427846400, \n . 1427932800, 1428364800, 1428451200, 1428537600, 1428624000, 1428883200, \n . 1428969600, 1429056000, 1429142400, 1429228800, 1429488000, 1429574400, \n . 1429660800, 1429747200, 1429833600, 1430092800, 1430179200, 1430265600, \n . 1430352000, 1430438400, 1430784000, 1430870400, 1430956800, 1431043200, \n . 1431302400, 1431388800, 1431475200, 1431561600, 1431648000, 1431907200, \n . 1431993600, 1432080000, 1432166400, 1432252800, 1432598400, 1432684800, \n . 1432771200, 1432857600, 1433116800, 1433203200, 1433289600, 1433376000, \n . 1433462400, 1433721600, 1433808000, 1433894400, 1433980800, 1434067200, \n . 1434326400, 1434412800, 1434499200, 1434585600, 1434672000, 1434931200, \n . 1435017600, 1435104000, 1435190400, 1435276800, 1435536000, 1435622400, \n . 1435708800, 1435795200, 1435881600, 1436140800, 1436227200, 1436313600, \n . 1436400000, 1436486400, 1436745600, 1436832000, 1436918400, 1437004800, \n . 1437091200, 1437350400, 1437436800, 1437523200, 1437609600, 1437696000, \n . 1437955200, 1438041600, 1438128000, 1438214400, 1438300800, 1438560000, \n . 1438646400, 1438732800, 1438819200, 1438905600, 1439164800, 1439251200, \n . 1439337600, 1439424000, 1439510400, 1439769600, 1439856000, 1439942400, \n . 1440028800, 1440115200, 1440374400, 1440460800, 1440547200, 1440633600, \n . 1440720000, 1441065600, 1441152000, 1441238400, 1441324800, 1441584000, \n . 1441670400, 1441756800, 1441843200, 1441929600, 1442188800, 1442275200, \n . 1442361600, 1442448000, 1442534400, 1442793600, 1442880000, 1442966400, \n . 1443052800, 1443139200, 1443398400, 1443484800, 1443571200, 1443657600, \n . 1443744000, 1444003200, 1444089600, 1444176000, 1444262400, 1444348800, \n . 1444608000, 1444694400, 1444780800, 1444867200, 1444953600, 1445212800, \n . 1445299200, 1445385600, 1445472000, 1445558400, 1445817600, 1445904000, \n . 1445990400, 1446076800, 1446163200, 1446422400, 1446508800, 1446595200, \n . 1446681600, 1446768000, 1447027200, 1447113600, 1447200000, 1447286400, \n . 1447372800, 1447632000, 1447718400, 1447804800, 1447891200, 1447977600, \n . 1448236800, 1448323200, 1448409600, 1448496000, 1448582400, 1448841600, \n . 1448928000, 1449014400, 1449100800, 1449187200, 1449446400, 1449532800, \n . 1449619200, 1449705600, 1449792000, 1450051200, 1450137600, 1450224000, \n . 1450310400, 1450396800, 1450656000, 1450742400, 1450828800, 1450915200, \n . 1451347200, 1451433600, 1451520000, 1451865600, 1451952000, 1452038400, \n . 1452124800, 1452211200, 1452470400, 1452556800, 1452643200, 1452729600, \n . 1452816000, 1453075200, 1453161600, 1453248000, 1453334400, 1453420800, \n . 1453680000, 1453766400, 1453852800, 1453939200, 1454025600, 1454284800, \n . 1454371200, 1454457600, 1454544000, 1454630400, 1454889600, 1454976000, \n . 1455062400, 1455148800, 1455235200, 1455494400, 1455580800, 1455667200, \n . 1455753600, 1455840000, 1456099200, 1456185600, 1456272000, 1456358400, \n . 1456444800, 1456704000, 1456790400, 1456876800, 1456963200, 1457049600, \n . 1457308800, 1457395200, 1457481600, 1457568000, 1457654400, 1457913600, \n . 1.458e+09, 1458086400, 1458172800, 1458259200, 1458518400, 1458604800, \n . 1458691200, 1458777600, 1459209600, 1459296000, 1459382400, 1459468800, \n . 1459728000, 1459814400, 1459900800, 1459987200, 1460073600, 1460332800, \n . 1460419200, 1460505600, 1460592000, 1460678400, 1460937600, 1461024000, \n . 1461110400, 1461196800, 1461283200, 1461542400, 1461628800, 1461715200, \n . 1461801600, 1461888000, 1462233600, 1462320000, 1462406400, 1462492800, \n . 1462752000, 1462838400, 1462924800, 1463011200, 1463097600, 1463356800, \n . 1463443200, 1463529600, 1463616000, 1463702400, 1463961600, 1464048000, \n . 1464134400, 1464220800, 1464307200, 1464652800, 1464739200, 1464825600, \n . 1464912000, 1465171200, 1465257600, 1465344000, 1465430400, 1465516800, \n . 1465776000, 1465862400, 1465948800, 1466035200, 1466121600, 1466380800, \n . 1466467200, 1466553600, 1466640000, 1466726400, 1466985600, 1467072000, \n . 1467158400, 1467244800, 1467331200, 1467590400, 1467676800, 1467763200, \n . 1467849600, 1467936000, 1468195200, 1468281600, 1468368000, 1468454400, \n . 1468540800, 1468800000, 1468886400, 1468972800, 1469059200, 1469145600, \n . 1469404800, 1469491200, 1469577600, 1469664000, 1469750400, 1470009600, \n . 1470096000, 1470182400, 1470268800, 1470355200, 1470614400, 1470700800, \n . 1470787200, 1470873600, 1470960000, 1471219200, 1471305600, 1471392000, \n . 1471478400, 1471564800, 1471824000, 1471910400, 1471996800, 1472083200, \n . 1472169600, 1472515200, 1472601600, 1472688000, 1472774400, 1473033600, \n . 1473120000, 1473206400, 1473292800, 1473379200, 1473638400, 1473724800, \n . 1473811200, 1473897600, 1473984000, 1474243200, 1474329600, 1474416000, \n . 1474502400, 1474588800, 1474848000, 1474934400, 1475020800, 1475107200, \n . 1475193600, 1475452800, 1475539200, 1475625600, 1475712000, 1475798400, \n . 1476057600, 1476144000, 1476230400, 1476316800, 1476403200, 1476662400, \n . 1476748800, 1476835200, 1476921600, 1477008000, 1477267200, 1477353600, \n . 1477440000, 1477526400, 1477612800, 1477872000, 1477958400, 1478044800, \n . 1478131200, 1478217600, 1478476800, 1478563200, 1478649600, 1478736000, \n . 1478822400, 1479081600, 1479168000, 1479254400, 1479340800, 1479427200, \n . 1479686400, 1479772800, 1479859200, 1479945600, 1480032000, 1480291200, \n . 1480377600, 1480464000, 1480550400, 1480636800, 1480896000, 1480982400, \n . 1481068800, 1481155200, 1481241600, 1481500800, 1481587200, 1481673600, \n . 1481760000, 1481846400, 1482105600, 1482192000, 1482278400, 1482364800, \n . 1482451200, 1482883200, 1482969600, 1483056000, 1483401600, 1483488000, \n . 1483574400, 1483660800, 1483920000, 1484006400, 1484092800, 1484179200, \n . 1484265600, 1484524800, 1484611200, 1484697600, 1484784000, 1484870400, \n . 1485129600, 1485216000, 1485302400, 1485388800, 1485475200, 1485734400, \n . 1485820800, 1485907200, 1485993600, 1486080000, 1486339200, 1486425600, \n . 1486512000, 1486598400, 1486684800, 1486944000, 1487030400, 1487116800, \n . 1487203200, 1487289600, 1487548800, 1487635200, 1487721600, 1487808000, \n . 1487894400, 1488153600, 1488240000, 1488326400, 1488412800, 1488499200, \n . 1488758400, 1488844800, 1488931200, 1489017600, 1489104000, 1489363200, \n . 1489449600, 1489536000, 1489622400, 1489708800, 1489968000, 1490054400, \n . 1490140800, 1490227200, 1490313600, 1490572800, 1490659200, 1490745600, \n . 1490832000, 1490918400, 1491177600, 1491264000, 1491350400, 1491436800, \n . 1491523200, 1491782400, 1491868800, 1491955200, 1492041600, 1492473600, \n . 1492560000, 1492646400, 1492732800, 1492992000, 1493078400, 1493164800, \n . 1493251200, 1493337600, 1493683200, 1493769600, 1493856000, 1493942400, \n . 1494201600, 1494288000, 1494374400, 1494460800, 1494547200, 1494806400, \n . 1494892800, 1494979200, 1495065600, 1495152000, 1495411200, 1495497600, \n . 1495584000, 1495670400, 1495756800, 1496102400, 1496188800, 1496275200, \n . 1496361600, 1496620800, 1496707200, 1496793600, 1496880000, 1496966400, \n . 1497225600, 1497312000, 1497398400, 1497484800, 1497571200, 1497830400, \n . 1497916800, 1498003200, 1498089600, 1498176000, 1498435200, 1498521600, \n . 1498608000, 1498694400, 1498780800, 1499040000, 1499126400, 1499212800, \n . 1499299200, 1499385600, 1499644800, 1499731200, 1499817600, 1499904000, \n . 1499990400, 1500249600, 1500336000, 1500422400, 1500508800, 1500595200, \n . 1500854400, 1500940800, 1501027200, 1501113600, 1501200000, 1501459200, \n . 1501545600, 1501632000, 1501718400, 1501804800, 1502064000, 1502150400, \n . 1502236800, 1502323200, 1502409600, 1502668800, 1502755200, 1502841600, \n . 1502928000, 1503014400, 1503273600, 1503360000, 1503446400, 1503532800, \n . 1503619200, 1503964800, 1504051200, 1504137600, 1504224000, 1504483200, \n . 1504569600, 1504656000, 1504742400, 1504828800, 1505088000, 1505174400, \n . 1505260800, 1505347200, 1505433600, 1505692800, 1505779200, 1505865600, \n . 1505952000, 1506038400, 1506297600, 1506384000, 1506470400, 1506556800, \n . 1506643200, 1506902400, 1506988800, 1507075200, 1507161600, 1507248000, \n . 1507507200, 1507593600, 1507680000, 1507766400, 1507852800, 1508112000, \n . 1508198400, 1508284800, 1508371200, 1508457600, 1508716800, 1508803200, \n . 1508889600, 1508976000, 1509062400, 1509321600, 1509408000, 1509494400, \n . 1509580800, 1509667200, 1509926400, 1510012800, 1510099200, 1510185600, \n . 1510272000, 1510531200, 1510617600, 1510704000, 1510790400, 1510876800, \n . 1511136000, 1511222400, 1511308800, 1511395200, 1511481600, 1511740800, \n . 1511827200, 1511913600, 1.512e+09, 1512086400, 1512345600, 1512432000, \n . 1512518400, 1512604800, 1512691200, 1512950400, 1513036800, 1513123200, \n . 1513209600, 1513296000, 1513555200, 1513641600, 1513728000, 1513814400, \n . 1513900800, 1514332800), tzone = \"UTC\", tclass = \"Date\"), .indexCLASS = \"Date\", tclass = \"Date\", .indexTZ = \"UTC\", tzone = \"UTC\", src = \"yahoo\", updated = structure(1514236382.06036, class = c(\"POSIXct\", \n . \"POSIXt\")), class = c(\"xts\", \"zoo\"), .Dim = c(2664L, 1L), .Dimnames = list(\n .     NULL, \"FXPO.L.Open\")), n = 3, wilder = TRUE)",
      "4. naCheck(x, n)",
      "5. stop(\"Series contains non-leading NAs\")"
     ]
    }
   ],
   "source": [
    "getSymbols('FXPO.L') # Added by me\n",
    "Data<-FXPO.L         # the same\n",
    "#Our 4-hour bars of the Australian Dollar/US Dollar currency pair dating back to 01/01/2010. You can download it here (dropbox) for your own use.\n",
    "RSI3<-RSI(Op(Data),n=3)\n",
    "#The 3-period relative strength index calculated off the open\n",
    "SMA50<-SMA(Op(Data),n=50)\n",
    "Trend<-Op(Data)-SMA50\n",
    "#Our measure of trend: the difference between the open price and the 50-period simple moving average\n",
    "Price<-Cl(Data)-Op(Data)\n",
    "Class<-ifelse(Price>0,\"UP\",\"DOWN\")\n",
    "#The variable we are looking to predict; the direction of the next bar\n",
    "DataSet<-data.frame(RSI3,Trend,Class)\n",
    "DataSet<-DataSet[-c(1:49),]\n",
    "#Create the data set and removing the points where our indicators are still being calculated\n",
    "Training<-DataSet[1:4528,]\n",
    "Test<-DataSet[4529:6038,]\n",
    "Val<-DataSet[6039:7548,]\n",
    "#Separate the data into 60% training set to build our model, 20% test set to test the patterns we found, and 20% validation set to run our strategy over new data\n",
    "SVM<-svm(Class~RSI3+Trend,data=Training, kernel=\"radial\",cost=1,gamma=1/2)\n",
    "#Build our support vector machine using a radial basis function as our kernel, the cost, or C, at 1, and the gamma function at ½, or 1 over the number of inputs we are using\n",
    "TrainingPredictions<-predict(SVM,Training,type=\"class\")\n",
    "#Run the algorithm once more over the training set to visualize the patterns it found\n",
    "TrainingData<-data.frame(Training,TrainingPredictions)\n",
    "#Create a data set with the predictions\n",
    "ggplot(TrainingData,aes(x=Trend,y=RSI3))+stat_density2d(geom=\"contour\",aes(color=TrainingPredictions))+labs(title=\"SVM RSI3 and Trend Predictions\",x=\"Open - SMA50\",y=\"RSI3\",color=\"Training Predictions\")\n",
    "#Now let’s see what patterns it was able to find"
   ]
  },
  {
   "cell_type": "markdown",
   "metadata": {},
   "source": [
    "Interesting! We can see three distinct areas where the algorithm went short and one range in the middle where it only went long. Let’s explore further.\n",
    "\n",
    "|Long\t|Short\n",
    "|--|--|\n",
    "|RSI below 25 and the Price is more than 20 pips below the SMA 50 (56% accurate, 36 trades)\t |RSI less than 25 and the Price is between 10 and 5 pips below the SMA 50 (54% accurate, 81 trades)\n",
    "|RSI3 is between 50 and 75 and the Price is between 5 and 10 pips above the SMA 50 (58% accurate, 104 trades )\t |RSI greater than 70 and the Price more than 5 pips below the SMA 50 (59% accurate, 37 trades)\n",
    "||RSI greater than 75 and price more than 15 pips above the SMA 50 (59% accurate, 34 trades)\n",
    "\n",
    "First the short area on the bottom left. Here the price has just crossed below the 50-period SMA and the RSI is below 25, suggesting a breakout of a downward trend.\n",
    "\n",
    "However, if the price moves beyond 20 pips below the 50-period SMA and the RSI remains under 25, the algorithm found a stronger signal for a reversion to the mean and predicted a long trade.\n",
    "\n",
    "Next, the short opportunity on the upper left of the plot represents the traditional view of the RSI. Here we are looking for the RSI to be over 70 while the price is more than 15 pips above the 50-period SMA to represent “overbought” conditions, suggesting we go short.\n",
    "\n",
    "The short area on the upper left is a little different. When the price had just crossed below the 50-period SMA and the RSI was over 70, it found a short opportunity. This is similar to the first case but instead of traditional “overbought” conditions, we are looking for a bearish breakout entry signal.\n",
    "\n",
    "Finally, there was an area where the RSI was between 50 and 75, while the price had crossed above the 50-period SMA where the algorithm found a strong buy signal.\n",
    "\n",
    "Now that we have found a basic set of rules that the SVM uncovered, let’s test to see how well they hold up over new data, our test set.\n",
    "\n"
   ]
  },
  {
   "cell_type": "code",
   "execution_count": null,
   "metadata": {
    "collapsed": true
   },
   "outputs": [],
   "source": [
    "ShortRange1<-which(Test$RSI3 < 25 & Test$Trend > -.010 & Test$Trend < -.005)\n",
    "ShortRange2<-which(Test$RSI3 > 70 & Test$Trend < -.005)\n",
    "ShortRange3<-which(Test$RSI3 > 75 & Test$Trend > .015)\n",
    "LongRange1<-which(Test$RSI3 < 25 & Test$Trend < -.02)\n",
    "LongRange2<-which(Test$RSI3 > 50 & Test$RSI3 < 75 & Test$Trend > .005 & Test$Trend < .01)"
   ]
  },
  {
   "cell_type": "markdown",
   "metadata": {},
   "source": [
    "Now let’s see how well these patterns hold up over out test set:"
   ]
  },
  {
   "cell_type": "code",
   "execution_count": null,
   "metadata": {
    "collapsed": true
   },
   "outputs": [],
   "source": [
    "ShortTrades<-Test[c(ShortRange1,ShortRange2,ShortRange3),]\n",
    "ShortCorrect<-((length(which(ShortTrades[,3]==\"DOWN\")))/nrow(ShortTrades))*100\n",
    "#Our short trades\n",
    "LongTrades<-Test[c(LongRange1,LongRange2), ]\n",
    "LongCorrect<-((length(which(LongTrades[,3]==\"UP\")))/nrow(LongTrades))*100\n",
    "#Our long trades"
   ]
  },
  {
   "cell_type": "markdown",
   "metadata": {},
   "source": [
    "Wow! 58% (85 correct out of 147 trades) for our short trades and 57% (80 correct out of 140 trades) for our long trades.\n",
    "\n",
    "Now let’s turn this into an actual trading strategy with a stop loss and take profit as our exit conditions.\n",
    "\n",
    "[Note: see my previous post “How to Backtest in R” for step-by-step instructions]\n",
    "\n",
    "I added a fairly tight take profit and stop loss and maintained a 1:1 risk-to-reward ratio due to the short nature of our predictions (just one bar) and to take advantage of our over 50% accuracy.\n",
    "\n",
    "Let’s see how well we did:"
   ]
  },
  {
   "cell_type": "markdown",
   "metadata": {},
   "source": []
  },
  {
   "cell_type": "markdown",
   "metadata": {},
   "source": [
    "You can see how well the strategy did compared to the a buy-and-hold strategy and just the entry signals. Overall, the equity curve looks fairly smooth and a strategy based off these two simple indicators looks very promising.\n",
    "\n",
    "Using a Support Vector Machine, a powerful machine-learning algorithm, we were not only able to learn under what conditions the conventional wisdom of an RSI hold up but we were able to create a robust trading strategy.\n",
    "\n",
    "This process, known as Association Rule Learning, or deriving rules from machine-learning algorithms, allows you to leverage the capabilities of a machine-learning algorithm with your own experiences as a trader.\n",
    "\n",
    "We believe that the best results are found when combining both man and machine, and this has formed the basis of TRAIDE. We are excited to announce that TRAIDE for FX is now available so sign up now for a free trial. We’d love to have your feedback!"
   ]
  },
  {
   "cell_type": "markdown",
   "metadata": {},
   "source": [
    "## Time to work with [Part 4](https://inovancetech.com/machine-learning-feature-selection.html)"
   ]
  },
  {
   "cell_type": "markdown",
   "metadata": {
    "collapsed": true
   },
   "source": [
    "Selecting the indicators to use is one of the most important and difficult aspects of building a successful strategy.\n",
    "\n",
    "Not only are there thousands of different indicators, but most indicators have numerous settings which amounts to virtually limitless indicator combinations. Clearly testing every combination is not possible, so many traders are left on their own selecting somewhat random inputs to build their strategy.\n",
    "\n",
    "Luckily this process, known as “feature selection”, is a very well-researched topic in the machine learning world. In this post we’ll use a popular technique known as a “wrapper method” that uses a support vector machine (SVM) and a “hill climbing” search to find a robust subset of indicators to use in your strategy.\n",
    "\n",
    "### Feature Selection with Machine Learning: Wrapper Method and Hill Climbing\n",
    "\n",
    "Selecting from the near limitless possible combinations of indicators to use in your strategy can be very daunting. However, this is a problem that machine learning experts and data scientists have been grappling with for a long time and have come up with a wide range of tools and techniques to help you out.\n",
    "\n",
    "One popular technique is a wrapper method. A wrapper method uses a machine-learning algorithm to evaluate each subset of indicators. The main advantage to this method, as opposed to evaluating each indicator on its own, is we can find the relationships and dependencies between indicators. For example, a 14-period RSI or a 30-period CCI alone may not be great predictors, but combined could provide some valuable insight.\n",
    "\n",
    "The next question is how do you decide which subsets of indicators to evaluate? If you are only looking at a few indicators then trying every combination might be possible, but even looking through 15 different indicators for 3 to use in your strategy leads to over 450 different possible combinations! Other techniques either rank the indicators based on a certain performance metric, like correlation, or start with the full or empty set and add/subtract indicators one by one. These type of searches are known as being “greedy”, meaning that they can only search in one direction, e.g. going from strongest correlation to weakest, but may miss some important relationships between indicators.\n",
    "\n",
    "One method that attempts to get around this is the known as a “hill climbing” method. A hill climbing method starts with a random subset of indicators and then evaluates all of the “neighboring” combinations, selecting the best performing combination. While this does allow us to find interesting relationships between indicators, there is a chance that we get stuck in what’s called a “local maximum,” which means that it may just be the best combination of neighbors but not necessarily the best overall combination. To get around this, we can run the search multiple times to see what patterns emerge in the top neighboring subsets.\n",
    "\n",
    "For this article, we’ll use a support vector machine (which we previously used to [build a strategy for the RSI](https://inovancetech.com/how-to-trade-rsi.html)) and repeat the hill climbing search 10 times to find the best subset.\n",
    "\n",
    "### Selecting Indicators\n",
    "\n",
    "Even when using these techniques, we still need to define the feature space to search from. This is where your domain experience comes in. Now you may not know the best period to use, but you most likely have a set of “favorite” indicators that you know and make sense to you conceptually. You can give this process a huge head start by selecting meaningful, relevant indicators that you understand.\n",
    "\n",
    "In the name of simplicity, we’ll start with just 5 different and commonly used base indicators: SMA, EMA, RSI, CCI and MACD.\n",
    "\n",
    "We can use different periods and calculations based off these indicators to create features.\n",
    "\n",
    "For example, here are 20 different \"features\":\n",
    "\n",
    "|Indicator |Indicator|\n",
    "|--|--|\n",
    "|Price - SMA(5)\t |Price - SMA(30)|\n",
    "|Price - SMA(50)\t |SMA(5) - SMA(30)|\n",
    "|SMA(5) - SMA(50)\t |SMA(30) - SMA(50)|\n",
    "|Price - EMA(5)\t |Price - EMA(30)|\n",
    "|Price - EMA(50)\t |EMA(5) - EMA(30)|\n",
    "|EMA(5) - EMA(50)\t |EMA(30) - EMA(50)|\n",
    "|RSI(5)\t |RSI(14)|\n",
    "|RSI(30)\t |CCI(5)|\n",
    "|CCI(14)\t |CCI(30)|\n",
    "|MACD_Line\t |MACD_Signal|\n",
    "\n",
    "We can see how even looking at only 5 indicators leads to a huge number of possible inputs to your strategy!\n",
    "\n",
    "Let's get started building our model. We'll explore the usefulness of the above 20 features in building a profitable strategy.\n",
    "\n",
    "### Building Our Model\n",
    "\n",
    "Now that we have our features we can build our model in R (When working with an SVM, it is important to normalize the data: You can [download](https://inovancetech.com/Data/audusd_model_data.zip) the original data and the normalized data we use for inputs to the model here).\n",
    "\n",
    "First, we need to install the necessary libraries:"
   ]
  },
  {
   "cell_type": "markdown",
   "metadata": {},
   "source": [
    "Then split the data into our training and test sets. We’ll use ⅔ of the data to build the model and reserve ⅓ to test out of sample."
   ]
  },
  {
   "cell_type": "code",
   "execution_count": 2,
   "metadata": {
    "collapsed": true
   },
   "outputs": [],
   "source": [
    "Model_Data <- read.csv('AUDUSD_Model_Data_Normalized.csv')\n",
    "Breakpoint <- nrow(Model_Data)*(2/3)\n",
    "Training<-Model_Data[1:Breakpoint, ]\n",
    "Validation<-Model_Data[(Breakpoint+1):nrow(Model_Data), ]"
   ]
  },
  {
   "cell_type": "markdown",
   "metadata": {},
   "source": [
    "We’ll then need to build the function that evaluates each subset using the SVM. We’ll break our training set into another training and test set to evaluate these models on data that was not used in the building process. This is another check to make sure we are not overfitting."
   ]
  },
  {
   "cell_type": "code",
   "execution_count": 3,
   "metadata": {
    "collapsed": true
   },
   "outputs": [],
   "source": [
    "SVM_Evaluator<-function(subset){\n",
    "data<-Training\n",
    "break_point<-(2/3)*nrow(data)\n",
    "Training_Set<-data[1:break_point,]\n",
    "Test_Set<-data[(break_point+1):nrow(data),]\n",
    "SVM<-svm(Predicted_Class~.,data=Training_Set, kernel=\"radial\",cost=1,gamma=1/20)\n",
    "SVM_Predictions<-predict(SVM,Test_Set,type=\"class\")\n",
    "Accuracy<-sum(SVM_Predictions == Test_Set$Predicted_Class)/nrow(Test_Set)\n",
    "return(Accuracy)\n",
    "}"
   ]
  },
  {
   "cell_type": "markdown",
   "metadata": {},
   "source": [
    "Now we can run the hill climbing search once to see what it finds:"
   ]
  },
  {
   "cell_type": "code",
   "execution_count": 4,
   "metadata": {
    "collapsed": true
   },
   "outputs": [],
   "source": [
    "set.seed(2)\n",
    "Attribute_Names<-names(Training)[-ncol(Training)]\n",
    "Hill_Climbing<-hill.climbing.search(Attribute_Names,SVM_Evaluator)"
   ]
  },
  {
   "cell_type": "markdown",
   "metadata": {},
   "source": [
    "But what we really care about is running it 10 times to help stabilize the results (this will take a couple minutes to run):"
   ]
  },
  {
   "cell_type": "code",
   "execution_count": null,
   "metadata": {
    "collapsed": true
   },
   "outputs": [],
   "source": [
    "set.seed(2)\n",
    "Replication_Test <-replicate(10,hill.climbing.search(Attribute_Names,SVM_Evaluator))"
   ]
  },
  {
   "cell_type": "markdown",
   "metadata": {},
   "source": [
    "Let’s dive into the results and take a look at which indicators tended to be included in the best subsets:"
   ]
  },
  {
   "cell_type": "code",
   "execution_count": null,
   "metadata": {
    "collapsed": true
   },
   "outputs": [],
   "source": [
    "Indicator_Count<-function(names){\n",
    "as.numeric(length(grep(names,Replication_Test)))\n",
    "}\n",
    "\n",
    "Distribution<-lapply(Attribute_Names,Indicator_Count)\n",
    "Attribute_Names_df<-as.data.frame(Attribute_Names)\n",
    "\n",
    "Distribution_df<-t(data.frame(Distribution))\n",
    "Indicator_Distribution<-data.frame(Attribute_Names_df,Distribution_df,row.names=NULL)\n",
    "\n",
    "ggplot(Indicator_Distribution,aes(x=Attribute_Names,y=Distribution_df))+geom_bar(fill=\"blue\",stat=\"identity\")+ theme(axis.text.x = element_text (size=10,angle=90,color=\"black\"), axis.title.x=element_text(size=15),axis.title.y=element_text(size=15),title=element_text(size=20))+labs(y=\"Appearances in Subsets\",x=\"Indicator Name\",title=\"Indicator Subset Frequency\")+ylim(c(0,10))"
   ]
  },
  {
   "cell_type": "markdown",
   "metadata": {},
   "source": [
    "Interesting, so we can see that the distance between the price and a 5-period simple moving average (“Price_Minus_SMA_5”) appeared in 9 of the 10 subsets, followed by the distance between the price in a 5-period exponential moving average (“Price_Minus_EMA_5”) and the distance between the price in a 50-period exponential moving average (“Price_Minus_EMA_50”) in 8 of the 10 subsets. Since we are looking to predict only the next bar, it makes sense that the shorter periods would perform best but it is interesting that a simple moving average was selected in more subsets than the exponential moving average.\n",
    "\n",
    "Now let’s see how many indicators are in each subset:"
   ]
  },
  {
   "cell_type": "code",
   "execution_count": null,
   "metadata": {
    "collapsed": true
   },
   "outputs": [],
   "source": [
    "summary(Replication_Test)"
   ]
  },
  {
   "cell_type": "markdown",
   "metadata": {},
   "source": [
    "So the 5th and 8th iterations of our search each had top subsets with only 6 indicators but while I tend to favor subsets with smaller number of indicators, the 4th iteration was the smallest subset that included our top feature, the “Price_Minus_SMA_5”, so let’s use that one as our final model:"
   ]
  },
  {
   "cell_type": "code",
   "execution_count": null,
   "metadata": {
    "collapsed": true
   },
   "outputs": [],
   "source": [
    "Replication_Test[[ 4 ]]"
   ]
  },
  {
   "cell_type": "markdown",
   "metadata": {},
   "source": [
    "We’ll build the final model with the entire Training Set and test it over our yet-to-be-touched Validation set:"
   ]
  },
  {
   "cell_type": "code",
   "execution_count": null,
   "metadata": {
    "collapsed": true
   },
   "outputs": [],
   "source": [
    "SVM_Final<-svm(Predicted_Class~PRICE_Minus_SMA_5+PRICE_Minus_SMA_30+PRICE_Minus_SMA_50+PRICE_Minus_EMA_30+CCI_5+CCI_30+MACD_Signal,data=Training, kernel=\"radial\",cost=1,gamma=1/20)\n",
    "SVM_Predictions_Final<-predict(SVM_Final,Validation,type=\"class\") # Predict over the Validation set\n",
    "Accuracy_Final<- Accuracy<-sum(SVM_Predictions_Final == Validation$Predicted_Class) /nrow(Validation)"
   ]
  },
  {
   "cell_type": "markdown",
   "metadata": {},
   "source": [
    "Very nice, so over our out-of-sample validation set, we were able to get 53% accuracy! While this does not seem like much, the point of this process was to be able to find a robust subset of indicators. Now we have a baseline of 53% accuracy that we can then use to further build and improve our strategy.\n",
    "\n",
    "With [TRAIDE](https://inovancetech.com/), we can then use an ensemble of machine-learning algorithms to find the most profitable entry signals based on these indicators.\n",
    "\n",
    "Now it’s your turn to use machine learning to build your next strategy!"
   ]
  },
  {
   "cell_type": "code",
   "execution_count": null,
   "metadata": {
    "collapsed": true
   },
   "outputs": [],
   "source": []
  }
 ],
 "metadata": {
  "kernelspec": {
   "display_name": "R",
   "language": "R",
   "name": "ir"
  },
  "language_info": {
   "codemirror_mode": "r",
   "file_extension": ".r",
   "mimetype": "text/x-r-source",
   "name": "R",
   "pygments_lexer": "r",
   "version": "3.4.2"
  }
 },
 "nbformat": 4,
 "nbformat_minor": 2
}
