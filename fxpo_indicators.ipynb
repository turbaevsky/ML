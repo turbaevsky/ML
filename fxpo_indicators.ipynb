{
 "cells": [
  {
   "cell_type": "markdown",
   "metadata": {},
   "source": [
    "## [Part 3](https://habrahabr.ru/post/236769/) (aslo see [how to markdown](http://assemble.io/docs/Cheatsheet-Markdown.html))"
   ]
  },
  {
   "cell_type": "code",
   "execution_count": 71,
   "metadata": {},
   "outputs": [],
   "source": [
    "#install.packages(\"lubridate\")\n",
    "library(\"lubridate\")\n",
    "#Упрощает работу с датами\n",
    "                          \n",
    "# Unable to install - see config.log\n",
    "#install.packages(\"e1071\")\n",
    "#library(\"e1071\")\n",
    "#Дает доступ к алгоритму наивного байесовского классификатора\n",
    "\n",
    "#install.packages(\"quantmod\")\n",
    "library(\"quantmod\")\n",
    "#Позволяет импортировать необходимые данные и рассчитывать технические индикаторы\n",
    "\n",
    "#install.packages(\"rpart\") \n",
    "library(\"rpart\")\n",
    "#Даёт доступ к деревам решений, которые мы будем использовать.\n",
    "\n",
    "#install.packages(\"rpart.plot\") \n",
    "library(\"rpart.plot\")\n",
    "#Позволяет легко создать симпатичные диаграммы деревьев"
   ]
  },
  {
   "cell_type": "markdown",
   "metadata": {},
   "source": [
    "Затем, давайте получим данные и рассчитаем индикаторы."
   ]
  },
  {
   "cell_type": "markdown",
   "metadata": {},
   "source": [
    "|Input\t|Техническое имя\t|Индикатор технического анализа|\n",
    "|--|--|--|\n",
    "|I01\t|EMA5Cross\t|Пересечение EMA5 и цены открытия\n",
    "|I02\t|EMA17Cross\t|Пересечение EMA17 и цены открытия\n",
    "|I03\t|EMA5_17Cross\t|Пересечение EMA17 и EMA5\n",
    "|I04\t|VolumeROC1\t|Rate of Change / Momentum\n",
    "|I05\t|CCI12\t|Commodity Channel Index 12\n",
    "|I06\t|MFI14\t|Money Flow Index 14\n",
    "|I07\t|MOM\t|Momentum 3 / Rate of Change\n",
    "|I08\t|Lag1\t|Движение цены на текущем баре (1)\n",
    "|I09\t|Lag2\t|Движение цены на текущем баре (2)\n",
    "|I10\t|Lag3\t|Движение цены на текущем баре (3)\n",
    "|I11\t|Lag4\t|Движение цены на текущем баре (4)\n",
    "|I12\t|Lag5\t|Движение цены на текущем баре (5)\n",
    "|I13\t|fastK\t|Stochastic Fast %K\n",
    "|I14\t|fastD\t|Stochastic Fast %D\n",
    "|I15\t|slowD\t|Stochastic Slow %D\n",
    "|I16\t|stochWPR\t|William's %R\n",
    "|I17\t|RSI14\t|Relative Strength Index (open) 14\n",
    "|I18\t|williamsAD\t|Williams Accumulation / Distribution\n",
    "|I19\t|WPR\t|William's %R 14\n",
    "|I20\t|AO\t|(Awesome Oscillator, AO) SMA5 — SMA34\n",
    "|I21\t|AC\t|AO сглаженный 5-периодной средней AO — SMA(AO, 5)\n",
    "|I22\t|MACD\t|EMA12 — EMA26\n",
    "|I23\t|MACD_SMA9\t|MACD сглаженный 9-периодной скользящей MACD- SMA(MACD, 9)\n",
    "|I24\t|DIp\t|The positive Direction Index\n",
    "|I25\t|DIn\t|The negative Direction Index.\n",
    "|I26\t|DX\t|The Direction Index\n",
    "|I27\t|ADX\t|The Average Direction Index (trend strength)\n",
    "|I28\t|ar\t|aroon(HL, n) — 1 out (oscillator)\n",
    "|I29\t|chv16\t|Chaikin Volatility — chaikinVolatility (HLC,n) — 1 out\n",
    "|I30\t|cmo16\t|Chande Momentum Oscillator — CMO(Med, n) — 1 out\n",
    "|I31\t|macd12_26\t|MACD Oscillator 12, 26, 9\n",
    "|I32\t|osma\t|Moving Average of Oscillator\n",
    "|I33\t|rsi16\t|Relative Strength Index med 16\n",
    "|I34\t|fastK14_3_3\t|Stochastic Oscillator 14 3 3 fastK\n",
    "|I35\t|fastD14_3_3\t|Stochastic Oscillator 14 3 3 fastD\n",
    "|I36\t|slowD14_3_3\t|Stochastic Oscillator 14 3 3 slowD\n",
    "|I37\t|smi13_2SMI\t|Stochastic Momentum Index SMI 13 2\n",
    "|I38\t|smi13_2signal\t|Stochastic Momentum Index signal 13 2\n",
    "|I39\t|vol16\t|Volatility 16\n",
    "|I40\t|SMA24Cross\t|Логарифм отношения цены открытия и SMA24\n",
    "|I41\t|SMA60Cross\t|Логарифм отношения цены открытия и SMA60\n",
    "|I42\t|SMA24_60Cross\t|Логарифм отношения SMA24 и SMA60\n",
    "|I43\t|SMA24Trand\t|Логарифм отношения SMA24 по сравнению с предыдущим значением\n",
    "|I44\t|SMA60Trand\t|Логарифм отношения SMA24 по сравнению с предыдущим значением\n",
    "|I45\t|MOM24\t|Momentum 24 / Rate of Change\n",
    "|I46\t|MOM60\t|Momentum 60 / Rate of Change\n",
    "|PCA\t|PC1-PC16\t|Сжатие признаков I01-I46 методом главных компонент в 16 значений"
   ]
  },
  {
   "cell_type": "markdown",
   "metadata": {},
   "source": [
    "see [quantmod](https://cran.r-project.org/web/packages/quantmod/quantmod.pdf) and [TTR](https://cran.r-project.org/web/packages/TTR/TTR.pdf) for details"
   ]
  },
  {
   "cell_type": "code",
   "execution_count": 72,
   "metadata": {},
   "outputs": [
    {
     "data": {
      "text/html": [
       "'FXPO.L'"
      ],
      "text/latex": [
       "'FXPO.L'"
      ],
      "text/markdown": [
       "'FXPO.L'"
      ],
      "text/plain": [
       "[1] \"FXPO.L\""
      ]
     },
     "metadata": {},
     "output_type": "display_data"
    }
   ],
   "source": [
    "startDate = as.Date(\"2007-01-01\")\n",
    "#Начало рассматриваемого промежутка\n",
    "\n",
    "endDate = as.Date(\"2017-12-31\") \n",
    "#Конец промежутка\n",
    "\n",
    "getSymbols(\"FXPO.L\", src = \"google\", from = startDate, to = endDate) \n",
    "#Получаем данные стоимости акций Bank of America\n",
    "\n",
    "FXPO.L <- na.omit(FXPO.L)\n",
    "\n",
    "RSI3<-RSI(Op(FXPO.L), n= 3) \n",
    "#Рассчитываем 3-х дневный индекс относительной силы (RSI) по цене открытия\n",
    "\n",
    "EMA5<-EMA(Op(FXPO.L),n=5) \n",
    "#Рассчитываем 5-дневную экспоненциальную скользящую среднюю (EMA)\n",
    "EMAcross<- Op(FXPO.L)-EMA5 \n",
    "#Давайте посмотрим на разницу между ценой открытия и нашей 5-ти дневной EMA\n",
    "\n",
    "MACD<-MACD(Op(FXPO.L),fast = 12, slow = 26, signal = 9) \n",
    "#Рассчитываем MACD(Схождение/расхождение скользящих средних) со стандартными параметрами\n",
    "\n",
    "MACDsignal<-MACD[,2] \n",
    "#Используем только сигнальную линию в качестве индикатора \n",
    "\n",
    "SMI<-SMI(Op(FXPO.L),n=13,slow=25,fast=2,signal=9) \n",
    "\n",
    "#Стохастический осциллятор со стандартными параметрами\n",
    "SMI<-SMI[,1] \n",
    "#Используем только осциллятор в качестве индикатора"
   ]
  },
  {
   "cell_type": "code",
   "execution_count": 73,
   "metadata": {},
   "outputs": [],
   "source": [
    "len <- length(FXPO.L[,1])"
   ]
  },
  {
   "cell_type": "markdown",
   "metadata": {},
   "source": [
    "## Beginning of [Part 2](https://habrahabr.ru/post/234303/)"
   ]
  },
  {
   "cell_type": "markdown",
   "metadata": {},
   "source": [
    "Теперь, когда у нас есть все необходимые данные, давайте получим наш индикатор «день недели»:"
   ]
  },
  {
   "cell_type": "code",
   "execution_count": 74,
   "metadata": {},
   "outputs": [],
   "source": [
    "DayofWeek<-wday(FXPO.L, label=TRUE)\n",
    "#Находим день недели"
   ]
  },
  {
   "cell_type": "markdown",
   "metadata": {},
   "source": [
    "То, что мы собираемся спрогнозировать, т.е. движение цены вверх или вниз, и создание финального набора данных:"
   ]
  },
  {
   "cell_type": "code",
   "execution_count": 75,
   "metadata": {
    "collapsed": true
   },
   "outputs": [],
   "source": [
    "PriceChange<- Cl(FXPO.L) - Op(FXPO.L)\n",
    "#Находим разницу между ценой закрытия и ценой открытия.\n",
    "\n",
    "Class<-ifelse(PriceChange>0, \"UP\",\"DOWN\")\n",
    "#Конвертируем в двоичную классификацию. (В наших данных не встречаются дни, когда цена открытия была равна цене закрытия, т. е. изменение было равно нулю, поэтому для упрощения мы не рассматриваем этот случай)\n",
    "\n",
    "DataSet<-data.frame(DayofWeek,Class)\n",
    "#Создаем наш набор данных"
   ]
  },
  {
   "cell_type": "markdown",
   "metadata": {},
   "source": [
    "Теперь мы готовы применить наивный байесовский классификатор:"
   ]
  },
  {
   "cell_type": "code",
   "execution_count": 76,
   "metadata": {},
   "outputs": [
    {
     "ename": "ERROR",
     "evalue": "Error in naiveBayes(DataSet[, 1], DataSet[, 2]): could not find function \"naiveBayes\"\n",
     "output_type": "error",
     "traceback": [
      "Error in naiveBayes(DataSet[, 1], DataSet[, 2]): could not find function \"naiveBayes\"\nTraceback:\n"
     ]
    }
   ],
   "source": [
    "MyModel<-naiveBayes(DataSet[,1],DataSet[,2])\n",
    "#Входное значение, или независимая переменная (DataSet[,1]), и то, что мы собираемся предсказывать, зависимая переменная (DataSet[,2])."
   ]
  },
  {
   "cell_type": "markdown",
   "metadata": {},
   "source": [
    "Улучшаем модель\n",
    "\n",
    "Очевидно вам захочется использовать более сложную стратегию, нежели просто ориентирование на день недели. Давайте добавим пересечение со скользящей средней в нашу модель (вы можете получить больше информации о добавлении различных индикаторов к вашей модели здесь)\n",
    "Я предпочитаю использовать экспоненциальные скользящие средние, поэтому давайте рассмотрим 5-ти дневные и 10-дневные экспоненциальные скользящие средние (EMA).\n",
    "Для начала нам необходимо рассчитать EMA:"
   ]
  },
  {
   "cell_type": "code",
   "execution_count": null,
   "metadata": {
    "collapsed": true
   },
   "outputs": [],
   "source": [
    "EMA5<-EMA(Op(FXPO.L),n = 5)\n",
    "#Мы рассчитываем 5-периодную EMA по цене открытия\n",
    "\n",
    "EMA10<-EMA(Op(FXPO.L),n = 10)\n",
    "#Затем 10-ти периодную EMA, так же по цене открытия"
   ]
  },
  {
   "cell_type": "markdown",
   "metadata": {},
   "source": [
    "Затем рассчитываем пересечение:"
   ]
  },
  {
   "cell_type": "code",
   "execution_count": null,
   "metadata": {
    "collapsed": true
   },
   "outputs": [],
   "source": [
    "EMACross <- EMA5 - EMA10 \n",
    "#Положительные значения будут означать что EMA5 расположена на графике выше EMA10"
   ]
  },
  {
   "cell_type": "markdown",
   "metadata": {},
   "source": [
    "Теперь округляем значения до 2-х знаков после запятой. Это важно, поскольку если попадется значение, которое наивный классификатор байеса не видел во время обучения, он автоматически рассчитает вероятность в 0%. Например, если мы смотрим на пересечение EMA с точностью до 6-ти знаков, и была найдена высокая вероятность движения цены вниз, когда разница была /$2.349181, а затем была представлена новая точка данных, которая имела разницу /$2.349182, будет рассчитана 0/% вероятность повышения или понижения цены. Окрулив до 2-х знаков после запятой, мы снижаем риск столкнуться с неизвестным для модели значением (при условии, что для обучения использовался достаточно большой набор данных, в котором скорее всего встретятся все значения индикатора). Это важное ограничение, о котором нужно помнить, при построении собственных моделей."
   ]
  },
  {
   "cell_type": "code",
   "execution_count": null,
   "metadata": {
    "collapsed": true
   },
   "outputs": [],
   "source": [
    "EMACross<-round(EMACross,2)"
   ]
  },
  {
   "cell_type": "markdown",
   "metadata": {},
   "source": [
    "Давайте создадим новый dataset и разделим данные на тренировочный и тестовый набор. Таким образом, мы сможем понять, насколько хорошо работает наша модель на новых данных."
   ]
  },
  {
   "cell_type": "code",
   "execution_count": null,
   "metadata": {
    "collapsed": true
   },
   "outputs": [],
   "source": [
    "DataSet2<-data.frame(DayofWeek,EMACross, Class)\n",
    "DataSet2<-DataSet2[-c(1:10),]\n",
    "#Нам нужно удалить значения, в которых 10-периодная скользящая средняя все еще не рассчитана\n",
    "TrainingSet<-DataSet2[1:328,]\n",
    "#Мы используем 2/3 данных для обучения модели\n",
    "TestSet<-DataSet2[329:492,] \n",
    "#И 1/3 для тестирования модели"
   ]
  },
  {
   "cell_type": "markdown",
   "metadata": {},
   "source": [
    "Теперь построим модель:"
   ]
  },
  {
   "cell_type": "code",
   "execution_count": null,
   "metadata": {},
   "outputs": [],
   "source": [
    "EMACrossModel<-naiveBayes(TrainingSet[,1:2],TrainingSet[,3])"
   ]
  },
  {
   "cell_type": "markdown",
   "metadata": {},
   "source": [
    "Условная вероятность пересечения скользящих средних – число, которое показывает среднее значение для каждого случая ([,1]) и для стандартного отклонения ([,2]). Мы можем видеть, что в среднем разница между 5-дневной EMA и 10-ти дневной EMА для длинных и коротких торгов была $0.54 и -$0.24 соответственно.\n",
    "Теперь протестируем на новых данных:"
   ]
  },
  {
   "cell_type": "code",
   "execution_count": null,
   "metadata": {},
   "outputs": [],
   "source": [
    "table(predict(EMACrossModel,TestSet),TestSet[,3],dnn=list('predicted','actual'))"
   ]
  },
  {
   "cell_type": "markdown",
   "metadata": {},
   "source": [
    "## End of Part 2"
   ]
  },
  {
   "cell_type": "markdown",
   "metadata": {},
   "source": [
    "## Cont. of Part 3"
   ]
  },
  {
   "cell_type": "markdown",
   "metadata": {},
   "source": [
    "Затем рассчитываем переменную, которую мы предсказываем и формируем data sets."
   ]
  },
  {
   "cell_type": "code",
   "execution_count": null,
   "metadata": {},
   "outputs": [],
   "source": [
    "PriceChange<- Cl(FXPO.L) - Op(FXPO.L) \n",
    "#Рассчитываем разницу между ценой закрытия и открытия\n",
    "Class<-ifelse(PriceChange>0,\"UP\",\"DOWN\") \n",
    "#Переменная которую мы хотим предсказать.\n",
    "\n",
    "DataSet<-data.frame(RSI3,EMAcross,MACDsignal,SMI,Class) \n",
    "#Создаем наш data set\n",
    "colnames(DataSet)<-c(\"RSI3\",\"EMAcross\",\"MACDsignal\",\"Stochastic\",\"Class\") \n",
    "#Задаем имена колонкам\n",
    "#DataSet<-DataSet[-c(1:33),] \n",
    "#Избавляемся от данных, на которых происходит первоначальное формирование индикаторов\n",
    "\n",
    "train <- len/3*2\n",
    "TrainingSet<-DataSet[1:train,] \n",
    "#Используем 2/3 наших данных для построения дерева\n",
    "TestSet<-DataSet[train:len,]\n",
    "#И оставляем 1/3 данных для тестирования нашей стратегии"
   ]
  },
  {
   "cell_type": "markdown",
   "metadata": {},
   "source": [
    "Теперь, когда у нас есть всё, что нужно, давайте построим уже это дерево!"
   ]
  },
  {
   "cell_type": "code",
   "execution_count": null,
   "metadata": {
    "collapsed": true
   },
   "outputs": [],
   "source": [
    "DecisionTree<-rpart(Class~RSI3+EMAcross+MACDsignal+Stochastic,data=TrainingSet, cp=.001)\n",
    "#Указываем индикаторы, которые мы хотим использовать для предсказания и контролируем рост дерева, указывая минимальное значение параметра сложности (ср), необходимого для организации разделения."
   ]
  },
  {
   "cell_type": "markdown",
   "metadata": {},
   "source": [
    "Отлично! У нас есть наше первое дерево решений, посмотрим, что же мы построили."
   ]
  },
  {
   "cell_type": "code",
   "execution_count": null,
   "metadata": {},
   "outputs": [],
   "source": [
    "prp(DecisionTree,type=2,extra=8)\n",
    "#Отличный графический инструмент, с несколькими параметрами для красивого отображения. "
   ]
  },
  {
   "cell_type": "markdown",
   "metadata": {},
   "source": [
    "Маленькая заметка по интерпретации этого дерева: узлы представляют расщепление, где левая ветка отражает ответ «да», а правая ветка ответ «нет». Число в конечном листе – процентное число случаев, которые были корректно классифицированы этим узлом. \n",
    "Дерева решений так же могут быть использованы для выбора и оценки индикаторов. Индикаторы, которые ближе к корню (верх) дерева, дают больше разделений и содержат больше информации чем те, что внизу дерева. В нашем случае Стохастический Осциллятор даже не попал в дерево!\n",
    "\n",
    "Хоть у нас и появился набор правил, которым можно следовать, стоит все-таки убедиться, что мы не переобучили модель, поэтому давайте подрежем дерево. Самый простой способ сделать это – посмотреть на параметр сложности, который является «стоимостью», или снижением производительности. Для этого нужно добавить еще одно разделение и выбрать размер дерева, который минимизирует нашу ошибку перекрестной проверки."
   ]
  },
  {
   "cell_type": "code",
   "execution_count": null,
   "metadata": {},
   "outputs": [],
   "source": [
    "printcp(DecisionTree)\n",
    "#Вывод минимального cp(параметра сложности) для каждого дерева, каждого размера\n",
    "plotcp(DecisionTree,upper=\"splits\")\n",
    "#Чертеж среднего геометрического значения для деревьев каждого размера"
   ]
  },
  {
   "cell_type": "markdown",
   "metadata": {},
   "source": [
    "Вы можете видеть, что наименьшая ошибка достигается для дерева из 7 разделений. Благодаря режиму перекрестной проверки, который случайным образом выбирает данные для тестирования модели, ваш результат может отличаться от того, который отображен на скриншоте. Один из недостатков дерева решений в том, что они могут быть не стабильными, т.е. малые изменения данных могут привести к большим изменениям в дереве. Поэтому процесс «обрезки» дерева и другие способы предотвратить переобучение столь важны.\n",
    "\n",
    "Давайте обрежем это дерево и посмотрим, как будет выглядеть наша стратегия."
   ]
  },
  {
   "cell_type": "code",
   "execution_count": null,
   "metadata": {
    "collapsed": true
   },
   "outputs": [],
   "source": [
    "PrunedDecisionTree<-prune(DecisionTree,cp=0.0061350)\n",
    "#Я использую параметр сложности (cp), у которого наименьшая ошибка перекрестной проверки (xerror)"
   ]
  },
  {
   "cell_type": "markdown",
   "metadata": {},
   "source": [
    "Теперь дерево выглядит так:"
   ]
  },
  {
   "cell_type": "code",
   "execution_count": null,
   "metadata": {},
   "outputs": [],
   "source": [
    "prp(PrunedDecisionTree, type=2, extra=8)"
   ]
  },
  {
   "cell_type": "markdown",
   "metadata": {},
   "source": [
    "Так гораздо лучше! Здесь видно, что линия MACD сигнала больше не используется. Мы начали с 4-х индикаторов, из которых только 3-х дневный RSI, разница между ценами, и 5-ти дневный EMA могут быть полезны в предсказании движения цены.\n",
    "\n",
    "Пришло время проверить модель на тестовых данных."
   ]
  },
  {
   "cell_type": "code",
   "execution_count": null,
   "metadata": {},
   "outputs": [],
   "source": [
    "table(predict(PrunedDecisionTree,TestSet,type=\"class\"),TestSet[,5],dnn=list('predicted','actual'))"
   ]
  },
  {
   "cell_type": "markdown",
   "metadata": {},
   "source": [
    "В общем не плохо, 52% точность. Что более важно, у вас есть основа стратегии с четко определенными, математическими параметрами. Используя всего 25 команд, мы смогли определить, какие индикаторы полезны и какие специальные условия нам нужны для совершения сделки. Теперь вы можете использовать эти индикаторы для собственной торговли или улучшить дерево.\n",
    "\n",
    "В следующей статье мы рассмотрим еще один мощный алгоритм машинного обучения, метод опорных векторов, и разберемся, как можно использовать его результаты для еще более здравой стратегии."
   ]
  },
  {
   "cell_type": "code",
   "execution_count": null,
   "metadata": {},
   "outputs": [],
   "source": [
    "459/(423+459)"
   ]
  },
  {
   "cell_type": "markdown",
   "metadata": {},
   "source": [
    "## Time to work with [Part 4](https://inovancetech.com/machine-learning-feature-selection.html)"
   ]
  },
  {
   "cell_type": "code",
   "execution_count": null,
   "metadata": {
    "collapsed": true
   },
   "outputs": [],
   "source": []
  }
 ],
 "metadata": {
  "kernelspec": {
   "display_name": "R",
   "language": "R",
   "name": "ir"
  },
  "language_info": {
   "codemirror_mode": "r",
   "file_extension": ".r",
   "mimetype": "text/x-r-source",
   "name": "R",
   "pygments_lexer": "r",
   "version": "3.4.2"
  }
 },
 "nbformat": 4,
 "nbformat_minor": 2
}
